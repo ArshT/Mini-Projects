{
  "nbformat": 4,
  "nbformat_minor": 0,
  "metadata": {
    "colab": {
      "name": "Poster_Genre_CNN.ipynb",
      "provenance": [],
      "collapsed_sections": [],
      "include_colab_link": true
    },
    "kernelspec": {
      "name": "python3",
      "display_name": "Python 3"
    },
    "accelerator": "GPU"
  },
  "cells": [
    {
      "cell_type": "markdown",
      "metadata": {
        "id": "view-in-github",
        "colab_type": "text"
      },
      "source": [
        "<a href=\"https://colab.research.google.com/github/ArshT/Mini-Projects/blob/master/Poster_Genre_CNN.ipynb\" target=\"_parent\"><img src=\"https://colab.research.google.com/assets/colab-badge.svg\" alt=\"Open In Colab\"/></a>"
      ]
    },
    {
      "cell_type": "code",
      "metadata": {
        "id": "va5_nvGHWBVL",
        "colab_type": "code",
        "outputId": "84c65e0a-ace5-451f-9e7e-438879f267d1",
        "colab": {
          "base_uri": "https://localhost:8080/",
          "height": 124
        }
      },
      "source": [
        "###Mounting the Drive\n",
        "\n",
        "from google.colab import drive\n",
        "drive.mount('/content/drive')"
      ],
      "execution_count": 0,
      "outputs": [
        {
          "output_type": "stream",
          "text": [
            "Go to this URL in a browser: https://accounts.google.com/o/oauth2/auth?client_id=947318989803-6bn6qk8qdgf4n4g3pfee6491hc0brc4i.apps.googleusercontent.com&redirect_uri=urn%3aietf%3awg%3aoauth%3a2.0%3aoob&response_type=code&scope=email%20https%3a%2f%2fwww.googleapis.com%2fauth%2fdocs.test%20https%3a%2f%2fwww.googleapis.com%2fauth%2fdrive%20https%3a%2f%2fwww.googleapis.com%2fauth%2fdrive.photos.readonly%20https%3a%2f%2fwww.googleapis.com%2fauth%2fpeopleapi.readonly\n",
            "\n",
            "Enter your authorization code:\n",
            "··········\n",
            "Mounted at /content/drive\n"
          ],
          "name": "stdout"
        }
      ]
    },
    {
      "cell_type": "code",
      "metadata": {
        "id": "OgsSKQbVWYhB",
        "colab_type": "code",
        "outputId": "bda86aea-0677-40a2-a903-ea6a2ef6c6b5",
        "colab": {
          "base_uri": "https://localhost:8080/",
          "height": 35
        }
      },
      "source": [
        "cd '/content/drive/My Drive'"
      ],
      "execution_count": 0,
      "outputs": [
        {
          "output_type": "stream",
          "text": [
            "/content/drive/My Drive\n"
          ],
          "name": "stdout"
        }
      ]
    },
    {
      "cell_type": "code",
      "metadata": {
        "id": "Xu4nm_BtW1w5",
        "colab_type": "code",
        "outputId": "c72a62fa-785f-449d-eeb0-35b843aaaef4",
        "colab": {
          "base_uri": "https://localhost:8080/",
          "height": 289
        }
      },
      "source": [
        "###Importing the CSV File \n",
        "import pandas as pd\n",
        "\n",
        "data = pd.read_csv('movie_poster.csv')\n",
        "data.head()"
      ],
      "execution_count": 0,
      "outputs": [
        {
          "output_type": "execute_result",
          "data": {
            "text/html": [
              "<div>\n",
              "<style scoped>\n",
              "    .dataframe tbody tr th:only-of-type {\n",
              "        vertical-align: middle;\n",
              "    }\n",
              "\n",
              "    .dataframe tbody tr th {\n",
              "        vertical-align: top;\n",
              "    }\n",
              "\n",
              "    .dataframe thead th {\n",
              "        text-align: right;\n",
              "    }\n",
              "</style>\n",
              "<table border=\"1\" class=\"dataframe\">\n",
              "  <thead>\n",
              "    <tr style=\"text-align: right;\">\n",
              "      <th></th>\n",
              "      <th>tid</th>\n",
              "      <th>title</th>\n",
              "      <th>url</th>\n",
              "      <th>image_url</th>\n",
              "      <th>year</th>\n",
              "      <th>action</th>\n",
              "      <th>scifi</th>\n",
              "      <th>drama</th>\n",
              "      <th>romance</th>\n",
              "    </tr>\n",
              "  </thead>\n",
              "  <tbody>\n",
              "    <tr>\n",
              "      <th>0</th>\n",
              "      <td>tt0120737</td>\n",
              "      <td>The Lord of the Rings: The Fellowship of the R...</td>\n",
              "      <td>http://www.imdb.com/title/tt0120737/</td>\n",
              "      <td>https://m.media-amazon.com/images/M/MV5BN2EyZj...</td>\n",
              "      <td>2001</td>\n",
              "      <td>True</td>\n",
              "      <td>False</td>\n",
              "      <td>False</td>\n",
              "      <td>False</td>\n",
              "    </tr>\n",
              "    <tr>\n",
              "      <th>1</th>\n",
              "      <td>tt0167260</td>\n",
              "      <td>The Lord of the Rings: The Return of the King</td>\n",
              "      <td>http://www.imdb.com/title/tt0167260/</td>\n",
              "      <td>https://m.media-amazon.com/images/M/MV5BNzA5ZD...</td>\n",
              "      <td>2003</td>\n",
              "      <td>True</td>\n",
              "      <td>False</td>\n",
              "      <td>False</td>\n",
              "      <td>False</td>\n",
              "    </tr>\n",
              "    <tr>\n",
              "      <th>2</th>\n",
              "      <td>tt0167261</td>\n",
              "      <td>The Lord of the Rings: The Two Towers</td>\n",
              "      <td>http://www.imdb.com/title/tt0167261/</td>\n",
              "      <td>https://m.media-amazon.com/images/M/MV5BNGE5Mz...</td>\n",
              "      <td>2002</td>\n",
              "      <td>True</td>\n",
              "      <td>False</td>\n",
              "      <td>False</td>\n",
              "      <td>False</td>\n",
              "    </tr>\n",
              "    <tr>\n",
              "      <th>3</th>\n",
              "      <td>tt0169102</td>\n",
              "      <td>Lagaan: Once Upon a Time in India</td>\n",
              "      <td>http://www.imdb.com/title/tt0169102/</td>\n",
              "      <td>https://m.media-amazon.com/images/M/MV5BNDYxNW...</td>\n",
              "      <td>2001</td>\n",
              "      <td>False</td>\n",
              "      <td>False</td>\n",
              "      <td>True</td>\n",
              "      <td>False</td>\n",
              "    </tr>\n",
              "    <tr>\n",
              "      <th>4</th>\n",
              "      <td>tt0211915</td>\n",
              "      <td>Amélie</td>\n",
              "      <td>http://www.imdb.com/title/tt0211915/</td>\n",
              "      <td>https://m.media-amazon.com/images/M/MV5BNDg4Nj...</td>\n",
              "      <td>2001</td>\n",
              "      <td>False</td>\n",
              "      <td>False</td>\n",
              "      <td>False</td>\n",
              "      <td>True</td>\n",
              "    </tr>\n",
              "  </tbody>\n",
              "</table>\n",
              "</div>"
            ],
            "text/plain": [
              "         tid                                              title  ...  drama romance\n",
              "0  tt0120737  The Lord of the Rings: The Fellowship of the R...  ...  False   False\n",
              "1  tt0167260    The Lord of the Rings: The Return of the King    ...  False   False\n",
              "2  tt0167261            The Lord of the Rings: The Two Towers    ...  False   False\n",
              "3  tt0169102                Lagaan: Once Upon a Time in India    ...   True   False\n",
              "4  tt0211915                                           Amélie    ...  False    True\n",
              "\n",
              "[5 rows x 9 columns]"
            ]
          },
          "metadata": {
            "tags": []
          },
          "execution_count": 6
        }
      ]
    },
    {
      "cell_type": "code",
      "metadata": {
        "id": "h0Kqd2J1XAz2",
        "colab_type": "code",
        "colab": {}
      },
      "source": [
        "###Loading the Posters\n",
        "\n",
        "from PIL import Image\n",
        "import glob\n",
        "\n",
        "local_download_path = '/content/drive/My Drive/posters'\n",
        "images = glob.glob(local_download_path + '/*.jpg')"
      ],
      "execution_count": 0,
      "outputs": []
    },
    {
      "cell_type": "code",
      "metadata": {
        "id": "3lxhM3bOXV_H",
        "colab_type": "code",
        "outputId": "ed723158-12a1-4100-bea2-08c554b647f2",
        "colab": {
          "base_uri": "https://localhost:8080/",
          "height": 35
        }
      },
      "source": [
        "###Number of Posters\n",
        "\n",
        "n_posters = len(images)\n",
        "n_posters"
      ],
      "execution_count": 0,
      "outputs": [
        {
          "output_type": "execute_result",
          "data": {
            "text/plain": [
              "2438"
            ]
          },
          "metadata": {
            "tags": []
          },
          "execution_count": 8
        }
      ]
    },
    {
      "cell_type": "code",
      "metadata": {
        "id": "Uy3311ZuXcnU",
        "colab_type": "code",
        "colab": {}
      },
      "source": [
        "###Importing the important Libraries\n",
        "\n",
        "import numpy as np\n",
        "import pandas as pd\n",
        "import glob\n",
        "import scipy.misc\n",
        "import imageio\n",
        "import skimage\n",
        "from tqdm import tqdm\n",
        "import requests  \n",
        "import re\n",
        "from bs4 import BeautifulSoup  \n",
        "from urllib.request import urlretrieve\n",
        "import ast \n",
        "import matplotlib.pyplot as plt "
      ],
      "execution_count": 0,
      "outputs": []
    },
    {
      "cell_type": "code",
      "metadata": {
        "id": "efgPPyx0Xkmw",
        "colab_type": "code",
        "colab": {}
      },
      "source": [
        "###Function for getting the Filename\n",
        "\n",
        "def get_id(filename):\n",
        "  index_s = 32\n",
        "  index_f = filename.rfind(\".jpg\")\n",
        "\n",
        "  return filename[index_s:index_f]"
      ],
      "execution_count": 0,
      "outputs": []
    },
    {
      "cell_type": "code",
      "metadata": {
        "id": "lSPwNVt7YZdd",
        "colab_type": "code",
        "colab": {}
      },
      "source": [
        "###Fucntion for Resizing\n",
        "\n",
        "\n",
        "def preprocess(img, size=(150, 101, 3)):\n",
        "    img = skimage.transform.resize(img, size)\n",
        "    img = img.astype(np.float32)\n",
        "    img = (img / 127.5) - 1.\n",
        "    return img"
      ],
      "execution_count": 0,
      "outputs": []
    },
    {
      "cell_type": "code",
      "metadata": {
        "id": "tRS5Cq6PYf-T",
        "colab_type": "code",
        "outputId": "616c2ad5-3b69-4b36-d38c-3d5d4faad801",
        "colab": {
          "base_uri": "https://localhost:8080/",
          "height": 1000
        }
      },
      "source": [
        "##Converting image into array and storing the arrays in a dict\n",
        "\n",
        "from matplotlib import image\n",
        "img_dict={}\n",
        "counter=0\n",
        "\n",
        "for fn in images:\n",
        "  try:\n",
        "    counter+=1\n",
        "    if counter%100 == 0:\n",
        "      print(counter,get_id(fn))\n",
        "    img = image.imread(fn)\n",
        "    if counter%100 == 0:\n",
        "      print(img.shape)\n",
        "    img = preprocess(img)\n",
        "    if counter%100 == 0:\n",
        "      print(img.shape)\n",
        "    img_dict[get_id(fn)] = img\n",
        "    if counter%100 == 0:\n",
        "      print(\"WORKS\")\n",
        "      print(\"\")\n",
        "  except:\n",
        "    print('DOESNT WORK')\n",
        "\n",
        "print(\"Done\")"
      ],
      "execution_count": 0,
      "outputs": [
        {
          "output_type": "stream",
          "text": [
            "100 tt1546036\n",
            "(500, 333, 3)\n",
            "(150, 101, 3)\n",
            "WORKS\n",
            "\n",
            "200 tt1951265\n",
            "(2048, 1347, 3)\n",
            "(150, 101, 3)\n",
            "WORKS\n",
            "\n",
            "300 tt0758053\n",
            "(666, 449, 3)\n",
            "(150, 101, 3)\n",
            "WORKS\n",
            "\n",
            "400 tt0857190\n",
            "(2048, 1382, 3)\n",
            "(150, 101, 3)\n",
            "WORKS\n",
            "\n",
            "500 tt1001526\n",
            "(2048, 1311, 3)\n",
            "(150, 101, 3)\n",
            "WORKS\n",
            "\n",
            "600 tt1135985\n",
            "(1000, 674, 3)\n",
            "(150, 101, 3)\n",
            "WORKS\n",
            "\n"
          ],
          "name": "stdout"
        },
        {
          "output_type": "stream",
          "text": [
            "/usr/local/lib/python3.6/dist-packages/PIL/Image.py:2496: DecompressionBombWarning: Image size (94235400 pixels) exceeds limit of 89478485 pixels, could be decompression bomb DOS attack.\n",
            "  DecompressionBombWarning)\n"
          ],
          "name": "stderr"
        },
        {
          "output_type": "stream",
          "text": [
            "700 tt1268987\n",
            "(2048, 1458, 3)\n",
            "(150, 101, 3)\n",
            "WORKS\n",
            "\n",
            "800 tt1419791\n",
            "(2941, 2239, 3)\n",
            "(150, 101, 3)\n",
            "WORKS\n",
            "\n",
            "900 tt1568341\n",
            "(8726, 6313, 3)\n",
            "(150, 101, 3)\n",
            "WORKS\n",
            "\n",
            "1000 tt1701991\n",
            "(367, 653, 3)\n",
            "(150, 101, 3)\n",
            "WORKS\n",
            "\n",
            "1100 tt1533749\n",
            "(2048, 1382, 3)\n",
            "(150, 101, 3)\n",
            "WORKS\n",
            "\n",
            "1200 tt0246677\n",
            "(668, 450, 3)\n",
            "(150, 101, 3)\n",
            "WORKS\n",
            "\n",
            "1300 tt0303461\n",
            "(882, 600, 3)\n",
            "(150, 101, 3)\n",
            "WORKS\n",
            "\n",
            "1400 tt0362192\n",
            "(2048, 1447, 4)\n",
            "(150, 101, 3)\n",
            "WORKS\n",
            "\n",
            "1500 tt0406375\n",
            "(1440, 960, 3)\n",
            "(150, 101, 3)\n",
            "WORKS\n",
            "\n",
            "1600 tt0460627\n",
            "(1500, 971, 3)\n",
            "(150, 101, 3)\n",
            "WORKS\n",
            "\n",
            "1700 tt0765592\n",
            "(375, 500, 3)\n",
            "(150, 101, 3)\n",
            "WORKS\n",
            "\n",
            "1800 tt0908836\n",
            "(375, 500, 3)\n",
            "(150, 101, 3)\n",
            "WORKS\n",
            "\n",
            "1900 tt1081935\n",
            "(683, 480, 3)\n",
            "(150, 101, 3)\n",
            "WORKS\n",
            "\n",
            "2000 tt1270798\n",
            "(918, 620, 3)\n",
            "(150, 101, 3)\n",
            "WORKS\n",
            "\n",
            "2100 tt0705262\n",
            "(750, 1000, 3)\n",
            "(150, 101, 3)\n",
            "WORKS\n",
            "\n",
            "2200 tt1228705\n",
            "(755, 509, 3)\n",
            "(150, 101, 3)\n",
            "WORKS\n",
            "\n",
            "2300 tt0404203\n",
            "(667, 450, 3)\n",
            "(150, 101, 3)\n",
            "WORKS\n",
            "\n",
            "2400 tt0414993\n",
            "(2048, 1387, 3)\n",
            "(150, 101, 3)\n",
            "WORKS\n",
            "\n",
            "Done\n"
          ],
          "name": "stdout"
        }
      ]
    },
    {
      "cell_type": "code",
      "metadata": {
        "id": "ecIzYo7Xi1oo",
        "colab_type": "code",
        "outputId": "65c942f3-45e5-4654-e655-d79d7c2a2d7b",
        "colab": {
          "base_uri": "https://localhost:8080/",
          "height": 35
        }
      },
      "source": [
        "len(img_dict)"
      ],
      "execution_count": 0,
      "outputs": [
        {
          "output_type": "execute_result",
          "data": {
            "text/plain": [
              "2438"
            ]
          },
          "metadata": {
            "tags": []
          },
          "execution_count": 13
        }
      ]
    },
    {
      "cell_type": "code",
      "metadata": {
        "id": "vpPWRA9hjKmO",
        "colab_type": "code",
        "colab": {}
      },
      "source": [
        "###Function for Creating the Dataset\n",
        "\n",
        "def DataSet(img_dict,data):\n",
        "  m = len(img_dict)\n",
        "  X = np.zeros((m,150,101,3))\n",
        "  Y=np.zeros((m,4))\n",
        "\n",
        "  i=0\n",
        "  for tid in data['tid']:\n",
        "    try:\n",
        "      X[i,:,:,:] = img_dict[tid]\n",
        "      labels = data[data['tid'] == tid][['action','scifi','drama','romance']]*1\n",
        "      Y[i,:] = np.array(labels)\n",
        "      i+=1\n",
        "    except:\n",
        "      continue\n",
        "  return X[:i,:,:,:],Y[:i,:]"
      ],
      "execution_count": 0,
      "outputs": []
    },
    {
      "cell_type": "code",
      "metadata": {
        "id": "P9gYRA9zjcWu",
        "colab_type": "code",
        "colab": {}
      },
      "source": [
        "###Making the Dataset\n",
        "\n",
        "X,Y = DataSet(img_dict,data)"
      ],
      "execution_count": 0,
      "outputs": []
    },
    {
      "cell_type": "code",
      "metadata": {
        "id": "W_LoHx-wjxaG",
        "colab_type": "code",
        "outputId": "f621a995-3633-4d7b-878a-e3ab854fe8e9",
        "colab": {
          "base_uri": "https://localhost:8080/",
          "height": 69
        }
      },
      "source": [
        "print(X.shape)\n",
        "print(\"\")\n",
        "print(Y.shape)"
      ],
      "execution_count": 0,
      "outputs": [
        {
          "output_type": "stream",
          "text": [
            "(2436, 150, 101, 3)\n",
            "\n",
            "(2436, 4)\n"
          ],
          "name": "stdout"
        }
      ]
    },
    {
      "cell_type": "code",
      "metadata": {
        "id": "dcokqkamtnn2",
        "colab_type": "code",
        "colab": {}
      },
      "source": [
        "###Model\n",
        "\n",
        "import keras\n",
        "from keras.models import Sequential\n",
        "from keras.layers import Dense, Dropout, Flatten\n",
        "from keras.layers import Conv2D, MaxPooling2D, BatchNormalization\n",
        "\n",
        "\n",
        "model = Sequential()\n",
        "model.add(Conv2D(32, kernel_size=(3, 3), activation='relu',input_shape=(150,101, 3)))\n",
        "model.add(Conv2D(32, (3, 3), activation='relu'))\n",
        "model.add(MaxPooling2D(pool_size=(2, 2)))\n",
        "model.add(Dropout(0.3))\n",
        "\n",
        "model.add(Conv2D(64, kernel_size=(3, 3), activation='relu'))\n",
        "model.add(Conv2D(64, (3, 3), activation='relu'))\n",
        "model.add(MaxPooling2D(pool_size=(2, 2)))\n",
        "model.add(Dropout(0.3))\n",
        "\n",
        "model.add(Conv2D(128, kernel_size=(3, 3), activation='relu'))\n",
        "model.add(Conv2D(128, (3, 3), activation='relu'))\n",
        "model.add(MaxPooling2D(pool_size=(2, 2)))\n",
        "model.add(Dropout(0.35))\n",
        "\n",
        "model.add(Conv2D(256, kernel_size=(3, 3), activation='relu'))\n",
        "model.add(Conv2D(256, (3, 3), activation='relu'))\n",
        "model.add(MaxPooling2D(pool_size=(2, 2)))\n",
        "model.add(Dropout(0.35))\n",
        "\n",
        "model.add(Flatten())\n",
        "model.add(Dense(128, activation='relu'))\n",
        "model.add(Dropout(0.5))\n",
        "model.add(Dense(128, activation='relu'))\n",
        "model.add(Dropout(0.5))\n",
        "model.add(Dense(128, activation='relu'))\n",
        "model.add(Dropout(0.5))\n",
        "model.add(Dense(4, activation='softmax'))"
      ],
      "execution_count": 0,
      "outputs": []
    },
    {
      "cell_type": "code",
      "metadata": {
        "id": "8hbfS-x7v1HK",
        "colab_type": "code",
        "colab": {}
      },
      "source": [
        "###Splitting the Datset\n",
        "\n",
        "from sklearn.model_selection import train_test_split\n",
        "\n",
        "X_train, X_test, Y_train, Y_test = train_test_split(X, Y, test_size=0.20, random_state=42)"
      ],
      "execution_count": 0,
      "outputs": []
    },
    {
      "cell_type": "code",
      "metadata": {
        "id": "bXJ91UElxxmL",
        "colab_type": "code",
        "outputId": "336d8b62-7b9a-4e7c-fa6f-6ef6d744c22d",
        "colab": {
          "base_uri": "https://localhost:8080/",
          "height": 87
        }
      },
      "source": [
        "print(X_train.shape)\n",
        "print(Y_train.shape)\n",
        "print(X_test.shape)\n",
        "print(Y_test.shape)"
      ],
      "execution_count": 0,
      "outputs": [
        {
          "output_type": "stream",
          "text": [
            "(1948, 150, 101, 3)\n",
            "(1948, 4)\n",
            "(488, 150, 101, 3)\n",
            "(488, 4)\n"
          ],
          "name": "stdout"
        }
      ]
    },
    {
      "cell_type": "code",
      "metadata": {
        "id": "q9WkaL7Tx3tx",
        "colab_type": "code",
        "colab": {}
      },
      "source": [
        "###Compiling the Model\n",
        "\n",
        "model.compile(optimizer='Adam',\n",
        "              loss='categorical_crossentropy',\n",
        "              metrics=['accuracy'])"
      ],
      "execution_count": 0,
      "outputs": []
    },
    {
      "cell_type": "code",
      "metadata": {
        "id": "opiBObKix_cu",
        "colab_type": "code",
        "outputId": "352d3eb5-f6fb-4aad-e37e-1f9cc9bc92e4",
        "colab": {
          "base_uri": "https://localhost:8080/",
          "height": 399
        }
      },
      "source": [
        "###Training the Model\n",
        "\n",
        "model.fit(X_train,Y_train, batch_size=16, epochs=10,\n",
        "          verbose=1, validation_split=0.1)"
      ],
      "execution_count": 0,
      "outputs": [
        {
          "output_type": "stream",
          "text": [
            "Train on 1753 samples, validate on 195 samples\n",
            "Epoch 1/10\n",
            "1753/1753 [==============================] - 3s 2ms/step - loss: 1.5292 - acc: 0.5933 - val_loss: 1.5047 - val_acc: 0.6051\n",
            "Epoch 2/10\n",
            "1753/1753 [==============================] - 2s 1ms/step - loss: 1.4937 - acc: 0.6041 - val_loss: 1.5049 - val_acc: 0.6051\n",
            "Epoch 3/10\n",
            "1753/1753 [==============================] - 2s 1ms/step - loss: 1.4820 - acc: 0.6041 - val_loss: 1.5073 - val_acc: 0.6051\n",
            "Epoch 4/10\n",
            "1753/1753 [==============================] - 2s 1ms/step - loss: 1.4770 - acc: 0.6041 - val_loss: 1.5056 - val_acc: 0.6051\n",
            "Epoch 5/10\n",
            "1753/1753 [==============================] - 2s 1ms/step - loss: 1.4727 - acc: 0.6041 - val_loss: 1.5065 - val_acc: 0.6051\n",
            "Epoch 6/10\n",
            "1753/1753 [==============================] - 2s 1ms/step - loss: 1.4728 - acc: 0.6041 - val_loss: 1.5070 - val_acc: 0.6051\n",
            "Epoch 7/10\n",
            "1753/1753 [==============================] - 2s 1ms/step - loss: 1.4731 - acc: 0.6041 - val_loss: 1.5063 - val_acc: 0.6051\n",
            "Epoch 8/10\n",
            "1753/1753 [==============================] - 2s 1ms/step - loss: 1.4746 - acc: 0.6041 - val_loss: 1.5107 - val_acc: 0.6051\n",
            "Epoch 9/10\n",
            "1753/1753 [==============================] - 2s 1ms/step - loss: 1.4682 - acc: 0.6041 - val_loss: 1.5111 - val_acc: 0.6051\n",
            "Epoch 10/10\n",
            "1753/1753 [==============================] - 2s 1ms/step - loss: 1.4735 - acc: 0.6041 - val_loss: 1.5065 - val_acc: 0.6051\n"
          ],
          "name": "stdout"
        },
        {
          "output_type": "execute_result",
          "data": {
            "text/plain": [
              "<keras.callbacks.History at 0x7fcdac23eef0>"
            ]
          },
          "metadata": {
            "tags": []
          },
          "execution_count": 59
        }
      ]
    },
    {
      "cell_type": "code",
      "metadata": {
        "id": "iZqc4fzdyCZ6",
        "colab_type": "code",
        "outputId": "a22345f1-1a0e-49d0-82af-5a907ddfed1f",
        "colab": {
          "base_uri": "https://localhost:8080/",
          "height": 52
        }
      },
      "source": [
        "###Testing the Model\n",
        "\n",
        "score = model.evaluate(X_test, Y_test, verbose=1)\n",
        "score"
      ],
      "execution_count": 0,
      "outputs": [
        {
          "output_type": "stream",
          "text": [
            "488/488 [==============================] - 0s 440us/step\n"
          ],
          "name": "stdout"
        },
        {
          "output_type": "execute_result",
          "data": {
            "text/plain": [
              "[1.5302445458584144, 0.5922131147540983]"
            ]
          },
          "metadata": {
            "tags": []
          },
          "execution_count": 60
        }
      ]
    },
    {
      "cell_type": "code",
      "metadata": {
        "id": "4f9128kryWvQ",
        "colab_type": "code",
        "colab": {}
      },
      "source": [
        ""
      ],
      "execution_count": 0,
      "outputs": []
    }
  ]
}