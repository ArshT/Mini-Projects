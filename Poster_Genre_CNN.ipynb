{
  "nbformat": 4,
  "nbformat_minor": 0,
  "metadata": {
    "colab": {
      "name": "Poster_Genre_CNN.ipynb",
      "provenance": [],
      "include_colab_link": true
    },
    "kernelspec": {
      "name": "python3",
      "display_name": "Python 3"
    },
    "accelerator": "GPU"
  },
  "cells": [
    {
      "cell_type": "markdown",
      "metadata": {
        "id": "view-in-github",
        "colab_type": "text"
      },
      "source": [
        "<a href=\"https://colab.research.google.com/github/ArshT/Mini-Projects/blob/master/Poster_Genre_CNN.ipynb\" target=\"_parent\"><img src=\"https://colab.research.google.com/assets/colab-badge.svg\" alt=\"Open In Colab\"/></a>"
      ]
    },
    {
      "cell_type": "code",
      "metadata": {
        "id": "eUxAv1XXZ2kW",
        "colab_type": "code",
        "outputId": "754e1391-5b60-4581-feb8-9e0e525db688",
        "colab": {
          "base_uri": "https://localhost:8080/",
          "height": 124
        }
      },
      "source": [
        "###Mounting the Drive\n",
        "\n",
        "from google.colab import drive\n",
        "drive.mount('/content/drive')"
      ],
      "execution_count": 0,
      "outputs": [
        {
          "output_type": "stream",
          "text": [
            "Go to this URL in a browser: https://accounts.google.com/o/oauth2/auth?client_id=947318989803-6bn6qk8qdgf4n4g3pfee6491hc0brc4i.apps.googleusercontent.com&redirect_uri=urn%3aietf%3awg%3aoauth%3a2.0%3aoob&response_type=code&scope=email%20https%3a%2f%2fwww.googleapis.com%2fauth%2fdocs.test%20https%3a%2f%2fwww.googleapis.com%2fauth%2fdrive%20https%3a%2f%2fwww.googleapis.com%2fauth%2fdrive.photos.readonly%20https%3a%2f%2fwww.googleapis.com%2fauth%2fpeopleapi.readonly\n",
            "\n",
            "Enter your authorization code:\n",
            "··········\n",
            "Mounted at /content/drive\n"
          ],
          "name": "stdout"
        }
      ]
    },
    {
      "cell_type": "code",
      "metadata": {
        "id": "dRwzMAvdbGAN",
        "colab_type": "code",
        "outputId": "27365865-e9e7-492c-91c0-ecd38f1289a6",
        "colab": {
          "base_uri": "https://localhost:8080/",
          "height": 35
        }
      },
      "source": [
        "cd '/content/drive/My Drive'"
      ],
      "execution_count": 0,
      "outputs": [
        {
          "output_type": "stream",
          "text": [
            "/content/drive/My Drive\n"
          ],
          "name": "stdout"
        }
      ]
    },
    {
      "cell_type": "code",
      "metadata": {
        "id": "jUOm-0BobiGt",
        "colab_type": "code",
        "outputId": "563aa7d1-3a28-497c-9e5e-65fc19ea8b1b",
        "colab": {
          "base_uri": "https://localhost:8080/",
          "height": 289
        }
      },
      "source": [
        "###Import the CSV File\n",
        "import pandas as pd\n",
        "\n",
        "data = pd.read_csv('movie_poster.csv')\n",
        "data.head()"
      ],
      "execution_count": 0,
      "outputs": [
        {
          "output_type": "execute_result",
          "data": {
            "text/html": [
              "<div>\n",
              "<style scoped>\n",
              "    .dataframe tbody tr th:only-of-type {\n",
              "        vertical-align: middle;\n",
              "    }\n",
              "\n",
              "    .dataframe tbody tr th {\n",
              "        vertical-align: top;\n",
              "    }\n",
              "\n",
              "    .dataframe thead th {\n",
              "        text-align: right;\n",
              "    }\n",
              "</style>\n",
              "<table border=\"1\" class=\"dataframe\">\n",
              "  <thead>\n",
              "    <tr style=\"text-align: right;\">\n",
              "      <th></th>\n",
              "      <th>tid</th>\n",
              "      <th>title</th>\n",
              "      <th>url</th>\n",
              "      <th>image_url</th>\n",
              "      <th>year</th>\n",
              "      <th>action</th>\n",
              "      <th>scifi</th>\n",
              "      <th>drama</th>\n",
              "      <th>romance</th>\n",
              "    </tr>\n",
              "  </thead>\n",
              "  <tbody>\n",
              "    <tr>\n",
              "      <th>0</th>\n",
              "      <td>tt0120737</td>\n",
              "      <td>The Lord of the Rings: The Fellowship of the R...</td>\n",
              "      <td>http://www.imdb.com/title/tt0120737/</td>\n",
              "      <td>https://m.media-amazon.com/images/M/MV5BN2EyZj...</td>\n",
              "      <td>2001</td>\n",
              "      <td>True</td>\n",
              "      <td>False</td>\n",
              "      <td>False</td>\n",
              "      <td>False</td>\n",
              "    </tr>\n",
              "    <tr>\n",
              "      <th>1</th>\n",
              "      <td>tt0167260</td>\n",
              "      <td>The Lord of the Rings: The Return of the King</td>\n",
              "      <td>http://www.imdb.com/title/tt0167260/</td>\n",
              "      <td>https://m.media-amazon.com/images/M/MV5BNzA5ZD...</td>\n",
              "      <td>2003</td>\n",
              "      <td>True</td>\n",
              "      <td>False</td>\n",
              "      <td>False</td>\n",
              "      <td>False</td>\n",
              "    </tr>\n",
              "    <tr>\n",
              "      <th>2</th>\n",
              "      <td>tt0167261</td>\n",
              "      <td>The Lord of the Rings: The Two Towers</td>\n",
              "      <td>http://www.imdb.com/title/tt0167261/</td>\n",
              "      <td>https://m.media-amazon.com/images/M/MV5BNGE5Mz...</td>\n",
              "      <td>2002</td>\n",
              "      <td>True</td>\n",
              "      <td>False</td>\n",
              "      <td>False</td>\n",
              "      <td>False</td>\n",
              "    </tr>\n",
              "    <tr>\n",
              "      <th>3</th>\n",
              "      <td>tt0169102</td>\n",
              "      <td>Lagaan: Once Upon a Time in India</td>\n",
              "      <td>http://www.imdb.com/title/tt0169102/</td>\n",
              "      <td>https://m.media-amazon.com/images/M/MV5BNDYxNW...</td>\n",
              "      <td>2001</td>\n",
              "      <td>False</td>\n",
              "      <td>False</td>\n",
              "      <td>True</td>\n",
              "      <td>False</td>\n",
              "    </tr>\n",
              "    <tr>\n",
              "      <th>4</th>\n",
              "      <td>tt0211915</td>\n",
              "      <td>Amélie</td>\n",
              "      <td>http://www.imdb.com/title/tt0211915/</td>\n",
              "      <td>https://m.media-amazon.com/images/M/MV5BNDg4Nj...</td>\n",
              "      <td>2001</td>\n",
              "      <td>False</td>\n",
              "      <td>False</td>\n",
              "      <td>False</td>\n",
              "      <td>True</td>\n",
              "    </tr>\n",
              "  </tbody>\n",
              "</table>\n",
              "</div>"
            ],
            "text/plain": [
              "         tid                                              title  ...  drama romance\n",
              "0  tt0120737  The Lord of the Rings: The Fellowship of the R...  ...  False   False\n",
              "1  tt0167260    The Lord of the Rings: The Return of the King    ...  False   False\n",
              "2  tt0167261            The Lord of the Rings: The Two Towers    ...  False   False\n",
              "3  tt0169102                Lagaan: Once Upon a Time in India    ...   True   False\n",
              "4  tt0211915                                           Amélie    ...  False    True\n",
              "\n",
              "[5 rows x 9 columns]"
            ]
          },
          "metadata": {
            "tags": []
          },
          "execution_count": 3
        }
      ]
    },
    {
      "cell_type": "code",
      "metadata": {
        "id": "IGEo3_4ebwl1",
        "colab_type": "code",
        "colab": {}
      },
      "source": [
        "###Loading the Posters\n",
        "import glob\n",
        "\n",
        "local_download_path = '/content/drive/My Drive/posters'\n",
        "images = glob.glob(local_download_path + '/*.jpg')"
      ],
      "execution_count": 0,
      "outputs": []
    },
    {
      "cell_type": "code",
      "metadata": {
        "id": "fY5gG6Q0cNxU",
        "colab_type": "code",
        "outputId": "bf47c1b3-26a1-4d73-8704-216610511ccf",
        "colab": {
          "base_uri": "https://localhost:8080/",
          "height": 35
        }
      },
      "source": [
        "###Number of Posters\n",
        "\n",
        "n_posters = len(images)\n",
        "n_posters"
      ],
      "execution_count": 0,
      "outputs": [
        {
          "output_type": "execute_result",
          "data": {
            "text/plain": [
              "2438"
            ]
          },
          "metadata": {
            "tags": []
          },
          "execution_count": 5
        }
      ]
    },
    {
      "cell_type": "code",
      "metadata": {
        "id": "BiZZf9OAcTXX",
        "colab_type": "code",
        "colab": {}
      },
      "source": [
        "###Importing the important Libraries\n",
        "\n",
        "import numpy as np\n",
        "import pandas as pd\n",
        "import glob\n",
        "import scipy.misc\n",
        "import imageio\n",
        "import skimage\n",
        "from tqdm import tqdm\n",
        "import requests  \n",
        "import re\n",
        "from bs4 import BeautifulSoup  \n",
        "from urllib.request import urlretrieve\n",
        "import ast \n",
        "import matplotlib.pyplot as plt "
      ],
      "execution_count": 0,
      "outputs": []
    },
    {
      "cell_type": "code",
      "metadata": {
        "id": "--MWXH9GcYqW",
        "colab_type": "code",
        "colab": {}
      },
      "source": [
        "###Function for getting the Filename\n",
        "\n",
        "def get_id(filename):\n",
        "  index_s = 32\n",
        "  index_f = filename.rfind(\".jpg\")\n",
        "  \n",
        "  return filename[index_s:index_f]"
      ],
      "execution_count": 0,
      "outputs": []
    },
    {
      "cell_type": "code",
      "metadata": {
        "id": "pfIgs1zpcqTm",
        "colab_type": "code",
        "colab": {}
      },
      "source": [
        "###Function for Pre-Processing\n",
        "from skimage.transform import resize\n",
        "\n",
        "def preprocess(img,size=(150,101,3)):\n",
        "  img = skimage.transform.resize(img, size)\n",
        "  img = img.astype(np.float32)\n",
        "  img = (img / 127.5) - 1.\n",
        "\n",
        "  return img"
      ],
      "execution_count": 0,
      "outputs": []
    },
    {
      "cell_type": "code",
      "metadata": {
        "id": "OsSo8rgsdBVU",
        "colab_type": "code",
        "outputId": "d6122fbb-20ad-4065-c694-e4035d2359d2",
        "colab": {
          "base_uri": "https://localhost:8080/",
          "height": 1000
        }
      },
      "source": [
        "###Converting an Image into array and storing the arrays in a dict\n",
        "\n",
        "from matplotlib import image\n",
        "img_dict = {}\n",
        "counter = 0\n",
        "\n",
        "for fn in images:\n",
        "  try:\n",
        "    counter+=1\n",
        "    if counter%100 == 0:\n",
        "      print(counter,get_id(fn))\n",
        "    img = image.imread(fn)\n",
        "    if counter%100 == 0:\n",
        "      print(img.shape)\n",
        "    img = preprocess(img)\n",
        "    if counter%100 == 0:\n",
        "      print(img.shape)\n",
        "    img_dict[get_id(fn)] = img\n",
        "    if counter%100 == 0:\n",
        "      print(\"WORKS\")\n",
        "      print(\"\")\n",
        "  except:\n",
        "    print('DOESNT WORK')\n",
        "\n",
        "print(\"Done\")"
      ],
      "execution_count": 0,
      "outputs": [
        {
          "output_type": "stream",
          "text": [
            "100 tt1546036\n",
            "(500, 333, 3)\n",
            "(150, 101, 3)\n",
            "WORKS\n",
            "\n",
            "200 tt1951265\n",
            "(2048, 1347, 3)\n",
            "(150, 101, 3)\n",
            "WORKS\n",
            "\n",
            "300 tt0758053\n",
            "(666, 449, 3)\n",
            "(150, 101, 3)\n",
            "WORKS\n",
            "\n",
            "400 tt0857190\n",
            "(2048, 1382, 3)\n",
            "(150, 101, 3)\n",
            "WORKS\n",
            "\n",
            "500 tt1001526\n",
            "(2048, 1311, 3)\n",
            "(150, 101, 3)\n",
            "WORKS\n",
            "\n",
            "600 tt1135985\n",
            "(1000, 674, 3)\n",
            "(150, 101, 3)\n",
            "WORKS\n",
            "\n"
          ],
          "name": "stdout"
        },
        {
          "output_type": "stream",
          "text": [
            "/usr/local/lib/python3.6/dist-packages/PIL/Image.py:2731: DecompressionBombWarning: Image size (94235400 pixels) exceeds limit of 89478485 pixels, could be decompression bomb DOS attack.\n",
            "  DecompressionBombWarning,\n"
          ],
          "name": "stderr"
        },
        {
          "output_type": "stream",
          "text": [
            "700 tt1268987\n",
            "(2048, 1458, 3)\n",
            "(150, 101, 3)\n",
            "WORKS\n",
            "\n",
            "800 tt1419791\n",
            "(2941, 2239, 3)\n",
            "(150, 101, 3)\n",
            "WORKS\n",
            "\n",
            "900 tt1568341\n",
            "(8726, 6313, 3)\n",
            "(150, 101, 3)\n",
            "WORKS\n",
            "\n",
            "1000 tt1701991\n",
            "(367, 653, 3)\n",
            "(150, 101, 3)\n",
            "WORKS\n",
            "\n",
            "1100 tt1533749\n",
            "(2048, 1382, 3)\n",
            "(150, 101, 3)\n",
            "WORKS\n",
            "\n",
            "1200 tt0246677\n",
            "(668, 450, 3)\n",
            "(150, 101, 3)\n",
            "WORKS\n",
            "\n",
            "1300 tt0303461\n",
            "(882, 600, 3)\n",
            "(150, 101, 3)\n",
            "WORKS\n",
            "\n",
            "1400 tt0362192\n",
            "(2048, 1447, 4)\n",
            "(150, 101, 3)\n",
            "WORKS\n",
            "\n",
            "1500 tt0406375\n",
            "(1440, 960, 3)\n",
            "(150, 101, 3)\n",
            "WORKS\n",
            "\n",
            "1600 tt0460627\n",
            "(1500, 971, 3)\n",
            "(150, 101, 3)\n",
            "WORKS\n",
            "\n",
            "1700 tt0765592\n",
            "(375, 500, 3)\n",
            "(150, 101, 3)\n",
            "WORKS\n",
            "\n",
            "1800 tt0908836\n",
            "(375, 500, 3)\n",
            "(150, 101, 3)\n",
            "WORKS\n",
            "\n",
            "1900 tt1081935\n",
            "(683, 480, 3)\n",
            "(150, 101, 3)\n",
            "WORKS\n",
            "\n",
            "2000 tt1270798\n",
            "(918, 620, 3)\n",
            "(150, 101, 3)\n",
            "WORKS\n",
            "\n",
            "2100 tt0705262\n",
            "(750, 1000, 3)\n",
            "(150, 101, 3)\n",
            "WORKS\n",
            "\n",
            "2200 tt1228705\n",
            "(755, 509, 3)\n",
            "(150, 101, 3)\n",
            "WORKS\n",
            "\n",
            "2300 tt0404203\n",
            "(667, 450, 3)\n",
            "(150, 101, 3)\n",
            "WORKS\n",
            "\n",
            "2400 tt0414993\n",
            "(2048, 1387, 3)\n",
            "(150, 101, 3)\n",
            "WORKS\n",
            "\n",
            "Done\n"
          ],
          "name": "stdout"
        }
      ]
    },
    {
      "cell_type": "code",
      "metadata": {
        "id": "lYGJd6eWeWb7",
        "colab_type": "code",
        "colab": {}
      },
      "source": [
        "###Function for Creating a Dataset\n",
        "\n",
        "def DataSet(img_dict,data):\n",
        "  m = len(img_dict)\n",
        "  X = np.zeros((m,150,101,3))\n",
        "  Y = np.zeros((m,4))\n",
        "\n",
        "  i=0\n",
        "  for tid in data['tid']:\n",
        "    try:\n",
        "      X[i,:,:,:] = img_dict[tid]\n",
        "      labels = data[data['tid'] == tid][['action','scifi','drama','romance']]*1\n",
        "      Y[i,:] = np.array(labels)\n",
        "      i+=1\n",
        "    except:\n",
        "      continue\n",
        "    \n",
        "  return X[:i,:,:,:],Y[:i,:]"
      ],
      "execution_count": 0,
      "outputs": []
    },
    {
      "cell_type": "code",
      "metadata": {
        "id": "84nQNr6ZKupT",
        "colab_type": "code",
        "colab": {}
      },
      "source": [
        "###Making the Dataset\n",
        "\n",
        "X,Y = DataSet(img_dict,data)"
      ],
      "execution_count": 0,
      "outputs": []
    },
    {
      "cell_type": "code",
      "metadata": {
        "id": "1dQH0etrXKzr",
        "colab_type": "code",
        "outputId": "3f93b956-0d80-4871-f9a8-5631ff5a2bf4",
        "colab": {
          "base_uri": "https://localhost:8080/",
          "height": 69
        }
      },
      "source": [
        "print(X.shape)\n",
        "print(\"\")\n",
        "print(Y.shape)"
      ],
      "execution_count": 0,
      "outputs": [
        {
          "output_type": "stream",
          "text": [
            "(2436, 150, 101, 3)\n",
            "\n",
            "(2436, 4)\n"
          ],
          "name": "stdout"
        }
      ]
    },
    {
      "cell_type": "code",
      "metadata": {
        "id": "pV2h0KK4XOou",
        "colab_type": "code",
        "colab": {}
      },
      "source": [
        "###Model\n",
        "\n",
        "import keras\n",
        "from keras.models import Sequential\n",
        "from keras.layers import Dense, Dropout, Flatten\n",
        "from keras.layers import Conv2D, MaxPooling2D, BatchNormalization\n",
        "\n",
        "\n",
        "model = Sequential()\n",
        "model.add(Conv2D(32, kernel_size=(3, 3), activation='relu',input_shape=(150,101, 3)))\n",
        "model.add(Conv2D(32, (3, 3), activation='relu'))\n",
        "model.add(MaxPooling2D(pool_size=(2, 2)))\n",
        "model.add(Dropout(0.3))\n",
        "\n",
        "model.add(Conv2D(64, kernel_size=(3, 3), activation='relu'))\n",
        "model.add(Conv2D(64, (3, 3), activation='relu'))\n",
        "model.add(MaxPooling2D(pool_size=(2, 2)))\n",
        "model.add(Dropout(0.3))\n",
        "\n",
        "model.add(Conv2D(128, kernel_size=(3, 3), activation='relu'))\n",
        "model.add(Conv2D(128, (3, 3), activation='relu'))\n",
        "model.add(MaxPooling2D(pool_size=(2, 2)))\n",
        "model.add(Dropout(0.35))\n",
        "\n",
        "model.add(Conv2D(256, kernel_size=(3, 3), activation='relu'))\n",
        "model.add(Conv2D(256, (3, 3), activation='relu'))\n",
        "model.add(MaxPooling2D(pool_size=(2, 2)))\n",
        "model.add(Dropout(0.35))\n",
        "\n",
        "model.add(Flatten())\n",
        "model.add(Dense(128, activation='relu'))\n",
        "model.add(Dropout(0.5))\n",
        "model.add(Dense(128, activation='relu'))\n",
        "model.add(Dropout(0.5))\n",
        "model.add(Dense(128, activation='relu'))\n",
        "model.add(Dropout(0.5))\n",
        "model.add(Dense(4, activation='sigmoid'))"
      ],
      "execution_count": 0,
      "outputs": []
    },
    {
      "cell_type": "code",
      "metadata": {
        "id": "qhNFpG0QXze-",
        "colab_type": "code",
        "colab": {}
      },
      "source": [
        "###Splitting the Datset\n",
        "\n",
        "from sklearn.model_selection import train_test_split\n",
        "\n",
        "X_train, X_test, Y_train, Y_test = train_test_split(X, Y, test_size=0.20, random_state=42)"
      ],
      "execution_count": 0,
      "outputs": []
    },
    {
      "cell_type": "code",
      "metadata": {
        "id": "sdYFiEO4X5Yg",
        "colab_type": "code",
        "outputId": "fffd7358-cbcd-41b0-b158-1fdd33098e79",
        "colab": {
          "base_uri": "https://localhost:8080/",
          "height": 87
        }
      },
      "source": [
        "print(X_train.shape)\n",
        "print(Y_train.shape)\n",
        "print(X_test.shape)\n",
        "print(Y_test.shape)"
      ],
      "execution_count": 0,
      "outputs": [
        {
          "output_type": "stream",
          "text": [
            "(1948, 150, 101, 3)\n",
            "(1948, 4)\n",
            "(488, 150, 101, 3)\n",
            "(488, 4)\n"
          ],
          "name": "stdout"
        }
      ]
    },
    {
      "cell_type": "code",
      "metadata": {
        "id": "yVOfd_Z9X7ZL",
        "colab_type": "code",
        "colab": {}
      },
      "source": [
        "###Compiling the Model\n",
        "\n",
        "model.compile(optimizer='Adam',\n",
        "              loss='binary_crossentropy',\n",
        "              metrics=['accuracy'])"
      ],
      "execution_count": 0,
      "outputs": []
    },
    {
      "cell_type": "code",
      "metadata": {
        "id": "6P7sRpv1Ytvi",
        "colab_type": "code",
        "outputId": "2fd62073-a078-4f43-c4bc-cf7381ee0924",
        "colab": {
          "base_uri": "https://localhost:8080/",
          "height": 399
        }
      },
      "source": [
        "###Training the Model\n",
        "\n",
        "model.fit(X_train,Y_train, batch_size=16, epochs=10,\n",
        "          verbose=1, validation_split=0.1)"
      ],
      "execution_count": 0,
      "outputs": [
        {
          "output_type": "stream",
          "text": [
            "Train on 1753 samples, validate on 195 samples\n",
            "Epoch 1/10\n",
            "1753/1753 [==============================] - 4s 2ms/step - loss: 0.5486 - acc: 0.7648 - val_loss: 0.5162 - val_acc: 0.7833\n",
            "Epoch 2/10\n",
            "1753/1753 [==============================] - 2s 1ms/step - loss: 0.5180 - acc: 0.7857 - val_loss: 0.5115 - val_acc: 0.7833\n",
            "Epoch 3/10\n",
            "1753/1753 [==============================] - 2s 1ms/step - loss: 0.5145 - acc: 0.7864 - val_loss: 0.5088 - val_acc: 0.7833\n",
            "Epoch 4/10\n",
            "1753/1753 [==============================] - 2s 1ms/step - loss: 0.5117 - acc: 0.7867 - val_loss: 0.5089 - val_acc: 0.7833\n",
            "Epoch 5/10\n",
            "1753/1753 [==============================] - 2s 1ms/step - loss: 0.5098 - acc: 0.7867 - val_loss: 0.5096 - val_acc: 0.7833\n",
            "Epoch 6/10\n",
            "1753/1753 [==============================] - 2s 1ms/step - loss: 0.5076 - acc: 0.7867 - val_loss: 0.5090 - val_acc: 0.7833\n",
            "Epoch 7/10\n",
            "1753/1753 [==============================] - 2s 1ms/step - loss: 0.5064 - acc: 0.7867 - val_loss: 0.5102 - val_acc: 0.7833\n",
            "Epoch 8/10\n",
            "1753/1753 [==============================] - 2s 1ms/step - loss: 0.5052 - acc: 0.7867 - val_loss: 0.5096 - val_acc: 0.7833\n",
            "Epoch 9/10\n",
            "1753/1753 [==============================] - 2s 1ms/step - loss: 0.5036 - acc: 0.7867 - val_loss: 0.5093 - val_acc: 0.7833\n",
            "Epoch 10/10\n",
            "1753/1753 [==============================] - 2s 1ms/step - loss: 0.5026 - acc: 0.7867 - val_loss: 0.5087 - val_acc: 0.7833\n"
          ],
          "name": "stdout"
        },
        {
          "output_type": "execute_result",
          "data": {
            "text/plain": [
              "<keras.callbacks.History at 0x7f1c0027d898>"
            ]
          },
          "metadata": {
            "tags": []
          },
          "execution_count": 37
        }
      ]
    },
    {
      "cell_type": "code",
      "metadata": {
        "id": "_NtDzTEOYxOI",
        "colab_type": "code",
        "outputId": "b7ba658f-0b98-4aec-804c-22a68677d637",
        "colab": {
          "base_uri": "https://localhost:8080/",
          "height": 52
        }
      },
      "source": [
        "###Testing the Model\n",
        "\n",
        "score = model.evaluate(X_test, Y_test, verbose=1)\n",
        "score"
      ],
      "execution_count": 0,
      "outputs": [
        {
          "output_type": "stream",
          "text": [
            "488/488 [==============================] - 0s 915us/step\n"
          ],
          "name": "stdout"
        },
        {
          "output_type": "execute_result",
          "data": {
            "text/plain": [
              "[0.509299244059891, 0.7827868852459017]"
            ]
          },
          "metadata": {
            "tags": []
          },
          "execution_count": 38
        }
      ]
    },
    {
      "cell_type": "code",
      "metadata": {
        "id": "ecZ7iHdtaPFp",
        "colab_type": "code",
        "colab": {}
      },
      "source": [
        ""
      ],
      "execution_count": 0,
      "outputs": []
    }
  ]
}