{
  "nbformat": 4,
  "nbformat_minor": 0,
  "metadata": {
    "colab": {
      "name": "Poster_Genre_MobileNet_T.ipynb",
      "provenance": [],
      "collapsed_sections": [],
      "authorship_tag": "ABX9TyPLSaQpVqxZBc3jhJcq0GWm",
      "include_colab_link": true
    },
    "kernelspec": {
      "name": "python3",
      "display_name": "Python 3"
    },
    "accelerator": "GPU"
  },
  "cells": [
    {
      "cell_type": "markdown",
      "metadata": {
        "id": "view-in-github",
        "colab_type": "text"
      },
      "source": [
        "<a href=\"https://colab.research.google.com/github/ArshT/Mini-Projects/blob/master/Poster_Genre_MobileNet_T.ipynb\" target=\"_parent\"><img src=\"https://colab.research.google.com/assets/colab-badge.svg\" alt=\"Open In Colab\"/></a>"
      ]
    },
    {
      "cell_type": "code",
      "metadata": {
        "id": "ukbeHvxxOvIK",
        "colab_type": "code",
        "colab": {
          "base_uri": "https://localhost:8080/",
          "height": 35
        },
        "outputId": "92a5f21e-1d69-42d7-b359-f1daada6cb44"
      },
      "source": [
        "###Mounting the Drive\n",
        "\n",
        "from google.colab import drive\n",
        "drive.mount('/content/drive')"
      ],
      "execution_count": 66,
      "outputs": [
        {
          "output_type": "stream",
          "text": [
            "Drive already mounted at /content/drive; to attempt to forcibly remount, call drive.mount(\"/content/drive\", force_remount=True).\n"
          ],
          "name": "stdout"
        }
      ]
    },
    {
      "cell_type": "code",
      "metadata": {
        "id": "vdYIC7TLO3Rk",
        "colab_type": "code",
        "colab": {
          "base_uri": "https://localhost:8080/",
          "height": 35
        },
        "outputId": "30acbea6-ce85-45c0-890a-0c53b5784b76"
      },
      "source": [
        "cd '/content/drive/My Drive'"
      ],
      "execution_count": 2,
      "outputs": [
        {
          "output_type": "stream",
          "text": [
            "/content/drive/My Drive\n"
          ],
          "name": "stdout"
        }
      ]
    },
    {
      "cell_type": "code",
      "metadata": {
        "id": "2zmcKGMRPCaM",
        "colab_type": "code",
        "colab": {
          "base_uri": "https://localhost:8080/",
          "height": 289
        },
        "outputId": "6de07eb4-3d04-472d-df6e-ca60cd3692c6"
      },
      "source": [
        "###Importing the CSV File\n",
        "import pandas as pd\n",
        "\n",
        "data = pd.read_csv('movie_poster.csv')\n",
        "data.head()"
      ],
      "execution_count": 3,
      "outputs": [
        {
          "output_type": "execute_result",
          "data": {
            "text/html": [
              "<div>\n",
              "<style scoped>\n",
              "    .dataframe tbody tr th:only-of-type {\n",
              "        vertical-align: middle;\n",
              "    }\n",
              "\n",
              "    .dataframe tbody tr th {\n",
              "        vertical-align: top;\n",
              "    }\n",
              "\n",
              "    .dataframe thead th {\n",
              "        text-align: right;\n",
              "    }\n",
              "</style>\n",
              "<table border=\"1\" class=\"dataframe\">\n",
              "  <thead>\n",
              "    <tr style=\"text-align: right;\">\n",
              "      <th></th>\n",
              "      <th>tid</th>\n",
              "      <th>title</th>\n",
              "      <th>url</th>\n",
              "      <th>image_url</th>\n",
              "      <th>year</th>\n",
              "      <th>action</th>\n",
              "      <th>scifi</th>\n",
              "      <th>drama</th>\n",
              "      <th>romance</th>\n",
              "    </tr>\n",
              "  </thead>\n",
              "  <tbody>\n",
              "    <tr>\n",
              "      <th>0</th>\n",
              "      <td>tt0120737</td>\n",
              "      <td>The Lord of the Rings: The Fellowship of the R...</td>\n",
              "      <td>http://www.imdb.com/title/tt0120737/</td>\n",
              "      <td>https://m.media-amazon.com/images/M/MV5BN2EyZj...</td>\n",
              "      <td>2001</td>\n",
              "      <td>True</td>\n",
              "      <td>False</td>\n",
              "      <td>False</td>\n",
              "      <td>False</td>\n",
              "    </tr>\n",
              "    <tr>\n",
              "      <th>1</th>\n",
              "      <td>tt0167260</td>\n",
              "      <td>The Lord of the Rings: The Return of the King</td>\n",
              "      <td>http://www.imdb.com/title/tt0167260/</td>\n",
              "      <td>https://m.media-amazon.com/images/M/MV5BNzA5ZD...</td>\n",
              "      <td>2003</td>\n",
              "      <td>True</td>\n",
              "      <td>False</td>\n",
              "      <td>False</td>\n",
              "      <td>False</td>\n",
              "    </tr>\n",
              "    <tr>\n",
              "      <th>2</th>\n",
              "      <td>tt0167261</td>\n",
              "      <td>The Lord of the Rings: The Two Towers</td>\n",
              "      <td>http://www.imdb.com/title/tt0167261/</td>\n",
              "      <td>https://m.media-amazon.com/images/M/MV5BNGE5Mz...</td>\n",
              "      <td>2002</td>\n",
              "      <td>True</td>\n",
              "      <td>False</td>\n",
              "      <td>False</td>\n",
              "      <td>False</td>\n",
              "    </tr>\n",
              "    <tr>\n",
              "      <th>3</th>\n",
              "      <td>tt0169102</td>\n",
              "      <td>Lagaan: Once Upon a Time in India</td>\n",
              "      <td>http://www.imdb.com/title/tt0169102/</td>\n",
              "      <td>https://m.media-amazon.com/images/M/MV5BNDYxNW...</td>\n",
              "      <td>2001</td>\n",
              "      <td>False</td>\n",
              "      <td>False</td>\n",
              "      <td>True</td>\n",
              "      <td>False</td>\n",
              "    </tr>\n",
              "    <tr>\n",
              "      <th>4</th>\n",
              "      <td>tt0211915</td>\n",
              "      <td>Amélie</td>\n",
              "      <td>http://www.imdb.com/title/tt0211915/</td>\n",
              "      <td>https://m.media-amazon.com/images/M/MV5BNDg4Nj...</td>\n",
              "      <td>2001</td>\n",
              "      <td>False</td>\n",
              "      <td>False</td>\n",
              "      <td>False</td>\n",
              "      <td>True</td>\n",
              "    </tr>\n",
              "  </tbody>\n",
              "</table>\n",
              "</div>"
            ],
            "text/plain": [
              "         tid                                              title  ...  drama romance\n",
              "0  tt0120737  The Lord of the Rings: The Fellowship of the R...  ...  False   False\n",
              "1  tt0167260    The Lord of the Rings: The Return of the King    ...  False   False\n",
              "2  tt0167261            The Lord of the Rings: The Two Towers    ...  False   False\n",
              "3  tt0169102                Lagaan: Once Upon a Time in India    ...   True   False\n",
              "4  tt0211915                                           Amélie    ...  False    True\n",
              "\n",
              "[5 rows x 9 columns]"
            ]
          },
          "metadata": {
            "tags": []
          },
          "execution_count": 3
        }
      ]
    },
    {
      "cell_type": "code",
      "metadata": {
        "id": "PnrcI0PvPHVU",
        "colab_type": "code",
        "colab": {}
      },
      "source": [
        "###Loading the Poster Filenames\n",
        "\n",
        "import glob\n",
        "\n",
        "local_download_path = '/content/drive/My Drive/posters'\n",
        "images = glob.glob(local_download_path + '/*.jpg')"
      ],
      "execution_count": 0,
      "outputs": []
    },
    {
      "cell_type": "code",
      "metadata": {
        "id": "cA8Ghq3UPQZo",
        "colab_type": "code",
        "colab": {
          "base_uri": "https://localhost:8080/",
          "height": 35
        },
        "outputId": "3a08dd9d-304e-4961-b6e6-717661b05bb7"
      },
      "source": [
        "###Number of Posters\n",
        "\n",
        "n_posters = len(images)\n",
        "n_posters"
      ],
      "execution_count": 5,
      "outputs": [
        {
          "output_type": "execute_result",
          "data": {
            "text/plain": [
              "2438"
            ]
          },
          "metadata": {
            "tags": []
          },
          "execution_count": 5
        }
      ]
    },
    {
      "cell_type": "code",
      "metadata": {
        "id": "RCq9u2XDPxaj",
        "colab_type": "code",
        "colab": {}
      },
      "source": [
        "###Hyperparameters\n",
        "\n",
        "IMAGE_HEIGHT = 96\n",
        "IMAGE_WIDTH = 96\n",
        "EPOCHS = 10\n",
        "BATCH_SIZE = 256"
      ],
      "execution_count": 0,
      "outputs": []
    },
    {
      "cell_type": "code",
      "metadata": {
        "id": "BYmAp0X5PSnt",
        "colab_type": "code",
        "colab": {}
      },
      "source": [
        "###Creating the Model\n",
        "\n",
        "from keras.applications import MobileNet\n",
        "from keras.layers import Dense, Input, Dropout\n",
        "from keras.models import Model\n",
        "\n",
        "def build_model():\n",
        "  input_tensor = Input(shape=(IMAGE_HEIGHT,IMAGE_WIDTH,3))\n",
        "  base_model = MobileNet(\n",
        "      include_top = False,\n",
        "      weights = 'imagenet',\n",
        "      input_tensor = input_tensor,\n",
        "      input_shape=(96,96,3),\n",
        "      pooling='avg')\n",
        "  \n",
        "  for layer in base_model.layers:\n",
        "    layer.trainable = False\n",
        "  \n",
        "  op1 = Dense(256,activation='relu')(base_model.output)\n",
        "  op1 = Dropout(0.5)(op1)\n",
        "  op2 = Dense(256,activation='relu')(op1)\n",
        "  op2 = Dropout(0.5)(op2)\n",
        "  op3 = Dense(256,activation='relu')(op2)\n",
        "  op3 = Dropout(0.5)(op3)\n",
        "\n",
        "  output_tensor = Dense(4, activation='sigmoid')(op3)\n",
        "\n",
        "  model = Model(inputs=input_tensor, outputs=output_tensor)\n",
        "\n",
        "  return model"
      ],
      "execution_count": 0,
      "outputs": []
    },
    {
      "cell_type": "code",
      "metadata": {
        "id": "1kMEs4Y0RU2D",
        "colab_type": "code",
        "colab": {
          "base_uri": "https://localhost:8080/",
          "height": 72
        },
        "outputId": "bf9b8f64-9d98-4f2b-9906-981b0922ace7"
      },
      "source": [
        "###Compiling the model\n",
        "\n",
        "from keras.optimizers import Adam\n",
        "model = build_model()\n",
        "model.compile(optimizer='Adam',\n",
        "              loss='binary_crossentropy',\n",
        "              metrics=['accuracy'])"
      ],
      "execution_count": 62,
      "outputs": [
        {
          "output_type": "stream",
          "text": [
            "/usr/local/lib/python3.6/dist-packages/keras_applications/mobilenet.py:207: UserWarning: `input_shape` is undefined or non-square, or `rows` is not in [128, 160, 192, 224]. Weights for input shape (224, 224) will be loaded as the default.\n",
            "  warnings.warn('`input_shape` is undefined or non-square, '\n"
          ],
          "name": "stderr"
        }
      ]
    },
    {
      "cell_type": "code",
      "metadata": {
        "id": "Hw93R02wRdo0",
        "colab_type": "code",
        "colab": {
          "base_uri": "https://localhost:8080/",
          "height": 1000
        },
        "outputId": "efd1c565-c930-436c-c93e-5fc41565c00e"
      },
      "source": [
        "###Model Summary\n",
        "\n",
        "model.summary()"
      ],
      "execution_count": 63,
      "outputs": [
        {
          "output_type": "stream",
          "text": [
            "Model: \"model_4\"\n",
            "_________________________________________________________________\n",
            "Layer (type)                 Output Shape              Param #   \n",
            "=================================================================\n",
            "input_4 (InputLayer)         (None, 96, 96, 3)         0         \n",
            "_________________________________________________________________\n",
            "conv1_pad (ZeroPadding2D)    (None, 97, 97, 3)         0         \n",
            "_________________________________________________________________\n",
            "conv1 (Conv2D)               (None, 48, 48, 32)        864       \n",
            "_________________________________________________________________\n",
            "conv1_bn (BatchNormalization (None, 48, 48, 32)        128       \n",
            "_________________________________________________________________\n",
            "conv1_relu (ReLU)            (None, 48, 48, 32)        0         \n",
            "_________________________________________________________________\n",
            "conv_dw_1 (DepthwiseConv2D)  (None, 48, 48, 32)        288       \n",
            "_________________________________________________________________\n",
            "conv_dw_1_bn (BatchNormaliza (None, 48, 48, 32)        128       \n",
            "_________________________________________________________________\n",
            "conv_dw_1_relu (ReLU)        (None, 48, 48, 32)        0         \n",
            "_________________________________________________________________\n",
            "conv_pw_1 (Conv2D)           (None, 48, 48, 64)        2048      \n",
            "_________________________________________________________________\n",
            "conv_pw_1_bn (BatchNormaliza (None, 48, 48, 64)        256       \n",
            "_________________________________________________________________\n",
            "conv_pw_1_relu (ReLU)        (None, 48, 48, 64)        0         \n",
            "_________________________________________________________________\n",
            "conv_pad_2 (ZeroPadding2D)   (None, 49, 49, 64)        0         \n",
            "_________________________________________________________________\n",
            "conv_dw_2 (DepthwiseConv2D)  (None, 24, 24, 64)        576       \n",
            "_________________________________________________________________\n",
            "conv_dw_2_bn (BatchNormaliza (None, 24, 24, 64)        256       \n",
            "_________________________________________________________________\n",
            "conv_dw_2_relu (ReLU)        (None, 24, 24, 64)        0         \n",
            "_________________________________________________________________\n",
            "conv_pw_2 (Conv2D)           (None, 24, 24, 128)       8192      \n",
            "_________________________________________________________________\n",
            "conv_pw_2_bn (BatchNormaliza (None, 24, 24, 128)       512       \n",
            "_________________________________________________________________\n",
            "conv_pw_2_relu (ReLU)        (None, 24, 24, 128)       0         \n",
            "_________________________________________________________________\n",
            "conv_dw_3 (DepthwiseConv2D)  (None, 24, 24, 128)       1152      \n",
            "_________________________________________________________________\n",
            "conv_dw_3_bn (BatchNormaliza (None, 24, 24, 128)       512       \n",
            "_________________________________________________________________\n",
            "conv_dw_3_relu (ReLU)        (None, 24, 24, 128)       0         \n",
            "_________________________________________________________________\n",
            "conv_pw_3 (Conv2D)           (None, 24, 24, 128)       16384     \n",
            "_________________________________________________________________\n",
            "conv_pw_3_bn (BatchNormaliza (None, 24, 24, 128)       512       \n",
            "_________________________________________________________________\n",
            "conv_pw_3_relu (ReLU)        (None, 24, 24, 128)       0         \n",
            "_________________________________________________________________\n",
            "conv_pad_4 (ZeroPadding2D)   (None, 25, 25, 128)       0         \n",
            "_________________________________________________________________\n",
            "conv_dw_4 (DepthwiseConv2D)  (None, 12, 12, 128)       1152      \n",
            "_________________________________________________________________\n",
            "conv_dw_4_bn (BatchNormaliza (None, 12, 12, 128)       512       \n",
            "_________________________________________________________________\n",
            "conv_dw_4_relu (ReLU)        (None, 12, 12, 128)       0         \n",
            "_________________________________________________________________\n",
            "conv_pw_4 (Conv2D)           (None, 12, 12, 256)       32768     \n",
            "_________________________________________________________________\n",
            "conv_pw_4_bn (BatchNormaliza (None, 12, 12, 256)       1024      \n",
            "_________________________________________________________________\n",
            "conv_pw_4_relu (ReLU)        (None, 12, 12, 256)       0         \n",
            "_________________________________________________________________\n",
            "conv_dw_5 (DepthwiseConv2D)  (None, 12, 12, 256)       2304      \n",
            "_________________________________________________________________\n",
            "conv_dw_5_bn (BatchNormaliza (None, 12, 12, 256)       1024      \n",
            "_________________________________________________________________\n",
            "conv_dw_5_relu (ReLU)        (None, 12, 12, 256)       0         \n",
            "_________________________________________________________________\n",
            "conv_pw_5 (Conv2D)           (None, 12, 12, 256)       65536     \n",
            "_________________________________________________________________\n",
            "conv_pw_5_bn (BatchNormaliza (None, 12, 12, 256)       1024      \n",
            "_________________________________________________________________\n",
            "conv_pw_5_relu (ReLU)        (None, 12, 12, 256)       0         \n",
            "_________________________________________________________________\n",
            "conv_pad_6 (ZeroPadding2D)   (None, 13, 13, 256)       0         \n",
            "_________________________________________________________________\n",
            "conv_dw_6 (DepthwiseConv2D)  (None, 6, 6, 256)         2304      \n",
            "_________________________________________________________________\n",
            "conv_dw_6_bn (BatchNormaliza (None, 6, 6, 256)         1024      \n",
            "_________________________________________________________________\n",
            "conv_dw_6_relu (ReLU)        (None, 6, 6, 256)         0         \n",
            "_________________________________________________________________\n",
            "conv_pw_6 (Conv2D)           (None, 6, 6, 512)         131072    \n",
            "_________________________________________________________________\n",
            "conv_pw_6_bn (BatchNormaliza (None, 6, 6, 512)         2048      \n",
            "_________________________________________________________________\n",
            "conv_pw_6_relu (ReLU)        (None, 6, 6, 512)         0         \n",
            "_________________________________________________________________\n",
            "conv_dw_7 (DepthwiseConv2D)  (None, 6, 6, 512)         4608      \n",
            "_________________________________________________________________\n",
            "conv_dw_7_bn (BatchNormaliza (None, 6, 6, 512)         2048      \n",
            "_________________________________________________________________\n",
            "conv_dw_7_relu (ReLU)        (None, 6, 6, 512)         0         \n",
            "_________________________________________________________________\n",
            "conv_pw_7 (Conv2D)           (None, 6, 6, 512)         262144    \n",
            "_________________________________________________________________\n",
            "conv_pw_7_bn (BatchNormaliza (None, 6, 6, 512)         2048      \n",
            "_________________________________________________________________\n",
            "conv_pw_7_relu (ReLU)        (None, 6, 6, 512)         0         \n",
            "_________________________________________________________________\n",
            "conv_dw_8 (DepthwiseConv2D)  (None, 6, 6, 512)         4608      \n",
            "_________________________________________________________________\n",
            "conv_dw_8_bn (BatchNormaliza (None, 6, 6, 512)         2048      \n",
            "_________________________________________________________________\n",
            "conv_dw_8_relu (ReLU)        (None, 6, 6, 512)         0         \n",
            "_________________________________________________________________\n",
            "conv_pw_8 (Conv2D)           (None, 6, 6, 512)         262144    \n",
            "_________________________________________________________________\n",
            "conv_pw_8_bn (BatchNormaliza (None, 6, 6, 512)         2048      \n",
            "_________________________________________________________________\n",
            "conv_pw_8_relu (ReLU)        (None, 6, 6, 512)         0         \n",
            "_________________________________________________________________\n",
            "conv_dw_9 (DepthwiseConv2D)  (None, 6, 6, 512)         4608      \n",
            "_________________________________________________________________\n",
            "conv_dw_9_bn (BatchNormaliza (None, 6, 6, 512)         2048      \n",
            "_________________________________________________________________\n",
            "conv_dw_9_relu (ReLU)        (None, 6, 6, 512)         0         \n",
            "_________________________________________________________________\n",
            "conv_pw_9 (Conv2D)           (None, 6, 6, 512)         262144    \n",
            "_________________________________________________________________\n",
            "conv_pw_9_bn (BatchNormaliza (None, 6, 6, 512)         2048      \n",
            "_________________________________________________________________\n",
            "conv_pw_9_relu (ReLU)        (None, 6, 6, 512)         0         \n",
            "_________________________________________________________________\n",
            "conv_dw_10 (DepthwiseConv2D) (None, 6, 6, 512)         4608      \n",
            "_________________________________________________________________\n",
            "conv_dw_10_bn (BatchNormaliz (None, 6, 6, 512)         2048      \n",
            "_________________________________________________________________\n",
            "conv_dw_10_relu (ReLU)       (None, 6, 6, 512)         0         \n",
            "_________________________________________________________________\n",
            "conv_pw_10 (Conv2D)          (None, 6, 6, 512)         262144    \n",
            "_________________________________________________________________\n",
            "conv_pw_10_bn (BatchNormaliz (None, 6, 6, 512)         2048      \n",
            "_________________________________________________________________\n",
            "conv_pw_10_relu (ReLU)       (None, 6, 6, 512)         0         \n",
            "_________________________________________________________________\n",
            "conv_dw_11 (DepthwiseConv2D) (None, 6, 6, 512)         4608      \n",
            "_________________________________________________________________\n",
            "conv_dw_11_bn (BatchNormaliz (None, 6, 6, 512)         2048      \n",
            "_________________________________________________________________\n",
            "conv_dw_11_relu (ReLU)       (None, 6, 6, 512)         0         \n",
            "_________________________________________________________________\n",
            "conv_pw_11 (Conv2D)          (None, 6, 6, 512)         262144    \n",
            "_________________________________________________________________\n",
            "conv_pw_11_bn (BatchNormaliz (None, 6, 6, 512)         2048      \n",
            "_________________________________________________________________\n",
            "conv_pw_11_relu (ReLU)       (None, 6, 6, 512)         0         \n",
            "_________________________________________________________________\n",
            "conv_pad_12 (ZeroPadding2D)  (None, 7, 7, 512)         0         \n",
            "_________________________________________________________________\n",
            "conv_dw_12 (DepthwiseConv2D) (None, 3, 3, 512)         4608      \n",
            "_________________________________________________________________\n",
            "conv_dw_12_bn (BatchNormaliz (None, 3, 3, 512)         2048      \n",
            "_________________________________________________________________\n",
            "conv_dw_12_relu (ReLU)       (None, 3, 3, 512)         0         \n",
            "_________________________________________________________________\n",
            "conv_pw_12 (Conv2D)          (None, 3, 3, 1024)        524288    \n",
            "_________________________________________________________________\n",
            "conv_pw_12_bn (BatchNormaliz (None, 3, 3, 1024)        4096      \n",
            "_________________________________________________________________\n",
            "conv_pw_12_relu (ReLU)       (None, 3, 3, 1024)        0         \n",
            "_________________________________________________________________\n",
            "conv_dw_13 (DepthwiseConv2D) (None, 3, 3, 1024)        9216      \n",
            "_________________________________________________________________\n",
            "conv_dw_13_bn (BatchNormaliz (None, 3, 3, 1024)        4096      \n",
            "_________________________________________________________________\n",
            "conv_dw_13_relu (ReLU)       (None, 3, 3, 1024)        0         \n",
            "_________________________________________________________________\n",
            "conv_pw_13 (Conv2D)          (None, 3, 3, 1024)        1048576   \n",
            "_________________________________________________________________\n",
            "conv_pw_13_bn (BatchNormaliz (None, 3, 3, 1024)        4096      \n",
            "_________________________________________________________________\n",
            "conv_pw_13_relu (ReLU)       (None, 3, 3, 1024)        0         \n",
            "_________________________________________________________________\n",
            "global_average_pooling2d_4 ( (None, 1024)              0         \n",
            "_________________________________________________________________\n",
            "dense_13 (Dense)             (None, 256)               262400    \n",
            "_________________________________________________________________\n",
            "dropout_10 (Dropout)         (None, 256)               0         \n",
            "_________________________________________________________________\n",
            "dense_14 (Dense)             (None, 256)               65792     \n",
            "_________________________________________________________________\n",
            "dropout_11 (Dropout)         (None, 256)               0         \n",
            "_________________________________________________________________\n",
            "dense_15 (Dense)             (None, 256)               65792     \n",
            "_________________________________________________________________\n",
            "dropout_12 (Dropout)         (None, 256)               0         \n",
            "_________________________________________________________________\n",
            "dense_16 (Dense)             (None, 4)                 1028      \n",
            "=================================================================\n",
            "Total params: 3,623,876\n",
            "Trainable params: 395,012\n",
            "Non-trainable params: 3,228,864\n",
            "_________________________________________________________________\n"
          ],
          "name": "stdout"
        }
      ]
    },
    {
      "cell_type": "code",
      "metadata": {
        "id": "uvpOnM7Wyn0N",
        "colab_type": "code",
        "colab": {}
      },
      "source": [
        "###Function for getting the Filename\n",
        "\n",
        "def get_id(filename):\n",
        "  index_s = 32\n",
        "  index_f = filename.rfind(\".jpg\")\n",
        "\n",
        "  return filename[index_s:index_f]"
      ],
      "execution_count": 0,
      "outputs": []
    },
    {
      "cell_type": "code",
      "metadata": {
        "id": "zWEc3PFzRkXh",
        "colab_type": "code",
        "colab": {}
      },
      "source": [
        "###Fucntion for Resizing\n",
        "from skimage.transform import resize\n",
        "\n",
        "def preprocess(img, size=(96, 96, 3)):\n",
        "    img = resize(img, size)\n",
        "    img = img.astype(np.float32)\n",
        "    img = (img / 127.5) - 1.\n",
        "    return img"
      ],
      "execution_count": 0,
      "outputs": []
    },
    {
      "cell_type": "code",
      "metadata": {
        "id": "dyrHgHlr04Be",
        "colab_type": "code",
        "colab": {}
      },
      "source": [
        "###Importing the important Libraries\n",
        "\n",
        "import numpy as np\n",
        "import pandas as pd\n",
        "import glob\n",
        "import scipy.misc\n",
        "import imageio\n",
        "import skimage\n",
        "from tqdm import tqdm\n",
        "import requests  \n",
        "import re\n",
        "from bs4 import BeautifulSoup  \n",
        "from urllib.request import urlretrieve\n",
        "import ast \n",
        "import matplotlib.pyplot as plt "
      ],
      "execution_count": 0,
      "outputs": []
    },
    {
      "cell_type": "code",
      "metadata": {
        "id": "3CmMX-c0SMqe",
        "colab_type": "code",
        "colab": {
          "base_uri": "https://localhost:8080/",
          "height": 1000
        },
        "outputId": "8e8a3d3b-8304-4931-f582-a3dc9368e29f"
      },
      "source": [
        "##Converting image into array and storing the arrays in a dict\n",
        "\n",
        "from matplotlib import image\n",
        "img_dict={}\n",
        "counter=0\n",
        "\n",
        "for fn in images:\n",
        "  try:\n",
        "    counter+=1\n",
        "    if counter%100 == 0:\n",
        "      print(counter,get_id(fn))\n",
        "    img = image.imread(fn)\n",
        "    if counter%100 == 0:\n",
        "      print(img.shape)\n",
        "    img = preprocess(img)\n",
        "    if counter%100 == 0:\n",
        "      print(img.shape)\n",
        "    img_dict[get_id(fn)] = img\n",
        "    if counter%100 == 0:\n",
        "      print(\"WORKS\")\n",
        "      print(\"\")\n",
        "  except:\n",
        "    print('DOESNT WORK')\n",
        "\n",
        "print(\"Done\")"
      ],
      "execution_count": 28,
      "outputs": [
        {
          "output_type": "stream",
          "text": [
            "100 tt1546036\n",
            "(500, 333, 3)\n",
            "(96, 96, 3)\n",
            "WORKS\n",
            "\n",
            "200 tt1951265\n",
            "(2048, 1347, 3)\n",
            "(96, 96, 3)\n",
            "WORKS\n",
            "\n",
            "300 tt0758053\n",
            "(666, 449, 3)\n",
            "(96, 96, 3)\n",
            "WORKS\n",
            "\n",
            "400 tt0857190\n",
            "(2048, 1382, 3)\n",
            "(96, 96, 3)\n",
            "WORKS\n",
            "\n",
            "500 tt1001526\n",
            "(2048, 1311, 3)\n",
            "(96, 96, 3)\n",
            "WORKS\n",
            "\n",
            "600 tt1135985\n",
            "(1000, 674, 3)\n",
            "(96, 96, 3)\n",
            "WORKS\n",
            "\n"
          ],
          "name": "stdout"
        },
        {
          "output_type": "stream",
          "text": [
            "/usr/local/lib/python3.6/dist-packages/PIL/Image.py:2731: DecompressionBombWarning: Image size (94235400 pixels) exceeds limit of 89478485 pixels, could be decompression bomb DOS attack.\n",
            "  DecompressionBombWarning,\n"
          ],
          "name": "stderr"
        },
        {
          "output_type": "stream",
          "text": [
            "700 tt1268987\n",
            "(2048, 1458, 3)\n",
            "(96, 96, 3)\n",
            "WORKS\n",
            "\n",
            "800 tt1419791\n",
            "(2941, 2239, 3)\n",
            "(96, 96, 3)\n",
            "WORKS\n",
            "\n",
            "900 tt1568341\n",
            "(8726, 6313, 3)\n",
            "(96, 96, 3)\n",
            "WORKS\n",
            "\n",
            "1000 tt1701991\n",
            "(367, 653, 3)\n",
            "(96, 96, 3)\n",
            "WORKS\n",
            "\n",
            "1100 tt1533749\n",
            "(2048, 1382, 3)\n",
            "(96, 96, 3)\n",
            "WORKS\n",
            "\n",
            "1200 tt0246677\n",
            "(668, 450, 3)\n",
            "(96, 96, 3)\n",
            "WORKS\n",
            "\n",
            "1300 tt0303461\n",
            "(882, 600, 3)\n",
            "(96, 96, 3)\n",
            "WORKS\n",
            "\n",
            "1400 tt0362192\n",
            "(2048, 1447, 4)\n",
            "(96, 96, 3)\n",
            "WORKS\n",
            "\n",
            "1500 tt0406375\n",
            "(1440, 960, 3)\n",
            "(96, 96, 3)\n",
            "WORKS\n",
            "\n",
            "1600 tt0460627\n",
            "(1500, 971, 3)\n",
            "(96, 96, 3)\n",
            "WORKS\n",
            "\n",
            "1700 tt0765592\n",
            "(375, 500, 3)\n",
            "(96, 96, 3)\n",
            "WORKS\n",
            "\n",
            "1800 tt0908836\n",
            "(375, 500, 3)\n",
            "(96, 96, 3)\n",
            "WORKS\n",
            "\n",
            "1900 tt1081935\n",
            "(683, 480, 3)\n",
            "(96, 96, 3)\n",
            "WORKS\n",
            "\n",
            "2000 tt1270798\n",
            "(918, 620, 3)\n",
            "(96, 96, 3)\n",
            "WORKS\n",
            "\n",
            "2100 tt0705262\n",
            "(750, 1000, 3)\n",
            "(96, 96, 3)\n",
            "WORKS\n",
            "\n",
            "2200 tt1228705\n",
            "(755, 509, 3)\n",
            "(96, 96, 3)\n",
            "WORKS\n",
            "\n",
            "2300 tt0404203\n",
            "(667, 450, 3)\n",
            "(96, 96, 3)\n",
            "WORKS\n",
            "\n",
            "2400 tt0414993\n",
            "(2048, 1387, 3)\n",
            "(96, 96, 3)\n",
            "WORKS\n",
            "\n",
            "Done\n"
          ],
          "name": "stdout"
        }
      ]
    },
    {
      "cell_type": "code",
      "metadata": {
        "id": "0xdaL3JgSSyy",
        "colab_type": "code",
        "colab": {
          "base_uri": "https://localhost:8080/",
          "height": 35
        },
        "outputId": "1c503128-151e-4069-ab50-14db9c281ed8"
      },
      "source": [
        "len(img_dict)"
      ],
      "execution_count": 29,
      "outputs": [
        {
          "output_type": "execute_result",
          "data": {
            "text/plain": [
              "2438"
            ]
          },
          "metadata": {
            "tags": []
          },
          "execution_count": 29
        }
      ]
    },
    {
      "cell_type": "code",
      "metadata": {
        "id": "fyaCWbf0S8AD",
        "colab_type": "code",
        "colab": {}
      },
      "source": [
        "###Function for Creating the Dataset\n",
        "\n",
        "def DataSet(img_dict,data):\n",
        "  m = len(img_dict)\n",
        "  X = np.zeros((m,96,96,3))\n",
        "  Y=np.zeros((m,4))\n",
        "\n",
        "  i=0\n",
        "  for tid in data['tid']:\n",
        "    try:\n",
        "      X[i,:,:,:] = img_dict[tid]\n",
        "      labels = data[data['tid'] == tid][['action','scifi','drama','romance']]*1\n",
        "      Y[i,:] = np.array(labels)\n",
        "      i+=1\n",
        "    except:\n",
        "      continue\n",
        "  return X[:i,:,:,:],Y[:i,:]"
      ],
      "execution_count": 0,
      "outputs": []
    },
    {
      "cell_type": "code",
      "metadata": {
        "id": "i_gC3WmhS8ze",
        "colab_type": "code",
        "colab": {}
      },
      "source": [
        "###Making the Dataset\n",
        "\n",
        "X,Y = DataSet(img_dict,data)"
      ],
      "execution_count": 0,
      "outputs": []
    },
    {
      "cell_type": "code",
      "metadata": {
        "id": "dUr3gbMpTBxh",
        "colab_type": "code",
        "colab": {
          "base_uri": "https://localhost:8080/",
          "height": 69
        },
        "outputId": "b527ffad-b0a1-4c27-a500-dd978a5b92c0"
      },
      "source": [
        "print(X.shape)\n",
        "print(\"\")\n",
        "print(Y.shape)"
      ],
      "execution_count": 36,
      "outputs": [
        {
          "output_type": "stream",
          "text": [
            "(2436, 96, 96, 3)\n",
            "\n",
            "(2436, 4)\n"
          ],
          "name": "stdout"
        }
      ]
    },
    {
      "cell_type": "code",
      "metadata": {
        "id": "WWKec6tdTEsT",
        "colab_type": "code",
        "colab": {}
      },
      "source": [
        "###Splitting the Datset\n",
        "\n",
        "from sklearn.model_selection import train_test_split\n",
        "\n",
        "X_train, X_test, Y_train, Y_test = train_test_split(X, Y, test_size=0.20, random_state=42)"
      ],
      "execution_count": 0,
      "outputs": []
    },
    {
      "cell_type": "code",
      "metadata": {
        "id": "8JtqSRQe5Vh_",
        "colab_type": "code",
        "colab": {
          "base_uri": "https://localhost:8080/",
          "height": 87
        },
        "outputId": "cfdf7fa1-6019-4026-9b1f-7a51d09db6aa"
      },
      "source": [
        "print(X_train.shape)\n",
        "print(Y_train.shape)\n",
        "print(X_test.shape)\n",
        "print(Y_test.shape)"
      ],
      "execution_count": 38,
      "outputs": [
        {
          "output_type": "stream",
          "text": [
            "(1948, 96, 96, 3)\n",
            "(1948, 4)\n",
            "(488, 96, 96, 3)\n",
            "(488, 4)\n"
          ],
          "name": "stdout"
        }
      ]
    },
    {
      "cell_type": "code",
      "metadata": {
        "id": "TYuG1Hz0Cp4U",
        "colab_type": "code",
        "colab": {}
      },
      "source": [
        "###Making the a generator for iterating through all the images\n",
        "##To be understood properly\n",
        "\n",
        "from sklearn.utils import shuffle\n",
        "\n",
        "\n",
        "def load_data_generator(x, y, batch_size=64):\n",
        "    num_samples = x.shape[0]\n",
        "    while 1:  # Loop forever so the generator never terminates\n",
        "        try:\n",
        "            shuffle(x)\n",
        "            for i in range(0, num_samples, batch_size):\n",
        "                x_data = [im for im in x[i:i+batch_size]]\n",
        "                y_data = y[i:i + batch_size]\n",
        "            \n",
        "                # convert to numpy array since this what keras required\n",
        "                yield shuffle(np.array(x_data), np.array(y_data))\n",
        "        except Exception as err:\n",
        "            print(err)"
      ],
      "execution_count": 0,
      "outputs": []
    },
    {
      "cell_type": "code",
      "metadata": {
        "id": "-3xt0cl_5Xmz",
        "colab_type": "code",
        "colab": {
          "base_uri": "https://localhost:8080/",
          "height": 381
        },
        "outputId": "461f168b-353a-4969-e91d-1f854b98819c"
      },
      "source": [
        "train_generator = load_data_generator(X_train, Y_train, batch_size=BATCH_SIZE)\n",
        "m = X_train.shape[0]\n",
        "import math\n",
        "\n",
        "model.fit_generator(\n",
        "    generator=train_generator,\n",
        "    steps_per_epoch=math.ceil(m/BATCH_SIZE),\n",
        "    verbose=1,\n",
        "    epochs=EPOCHS)"
      ],
      "execution_count": 64,
      "outputs": [
        {
          "output_type": "stream",
          "text": [
            "Epoch 1/10\n",
            "8/8 [==============================] - 4s 493ms/step - loss: 0.7143 - acc: 0.7050\n",
            "Epoch 2/10\n",
            "8/8 [==============================] - 1s 138ms/step - loss: 0.5560 - acc: 0.7518\n",
            "Epoch 3/10\n",
            "8/8 [==============================] - 1s 134ms/step - loss: 0.5307 - acc: 0.7743\n",
            "Epoch 4/10\n",
            "8/8 [==============================] - 1s 138ms/step - loss: 0.5191 - acc: 0.7792\n",
            "Epoch 5/10\n",
            "8/8 [==============================] - 1s 138ms/step - loss: 0.5027 - acc: 0.7840\n",
            "Epoch 6/10\n",
            "8/8 [==============================] - 1s 138ms/step - loss: 0.4989 - acc: 0.7847\n",
            "Epoch 7/10\n",
            "8/8 [==============================] - 1s 134ms/step - loss: 0.4799 - acc: 0.7851\n",
            "Epoch 8/10\n",
            "8/8 [==============================] - 1s 136ms/step - loss: 0.4755 - acc: 0.7855\n",
            "Epoch 9/10\n",
            "8/8 [==============================] - 1s 133ms/step - loss: 0.4598 - acc: 0.7893\n",
            "Epoch 10/10\n",
            "8/8 [==============================] - 1s 139ms/step - loss: 0.4478 - acc: 0.7892\n"
          ],
          "name": "stdout"
        },
        {
          "output_type": "execute_result",
          "data": {
            "text/plain": [
              "<keras.callbacks.History at 0x7f5e22f907f0>"
            ]
          },
          "metadata": {
            "tags": []
          },
          "execution_count": 64
        }
      ]
    },
    {
      "cell_type": "code",
      "metadata": {
        "id": "YT7vfsrkCjjB",
        "colab_type": "code",
        "colab": {
          "base_uri": "https://localhost:8080/",
          "height": 52
        },
        "outputId": "d4524609-39c5-45a9-e2a4-57cd85da5066"
      },
      "source": [
        "###Testing the Model\n",
        "\n",
        "score = model.evaluate(X_test, Y_test, verbose=1)\n",
        "score"
      ],
      "execution_count": 65,
      "outputs": [
        {
          "output_type": "stream",
          "text": [
            "488/488 [==============================] - 1s 3ms/step\n"
          ],
          "name": "stdout"
        },
        {
          "output_type": "execute_result",
          "data": {
            "text/plain": [
              "[0.5726334110635226, 0.7827868852459017]"
            ]
          },
          "metadata": {
            "tags": []
          },
          "execution_count": 65
        }
      ]
    },
    {
      "cell_type": "code",
      "metadata": {
        "id": "6sTWfkbDDgIg",
        "colab_type": "code",
        "colab": {}
      },
      "source": [
        ""
      ],
      "execution_count": 0,
      "outputs": []
    }
  ]
}