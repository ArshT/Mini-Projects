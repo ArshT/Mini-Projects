{
  "nbformat": 4,
  "nbformat_minor": 0,
  "metadata": {
    "colab": {
      "name": "MNIST_F_VGG16.ipynb",
      "provenance": [],
      "collapsed_sections": [],
      "authorship_tag": "ABX9TyP+5iSIwq8Qp072RElyXD70",
      "include_colab_link": true
    },
    "kernelspec": {
      "name": "python3",
      "display_name": "Python 3"
    },
    "accelerator": "GPU"
  },
  "cells": [
    {
      "cell_type": "markdown",
      "metadata": {
        "id": "view-in-github",
        "colab_type": "text"
      },
      "source": [
        "<a href=\"https://colab.research.google.com/github/ArshT/Mini-Projects/blob/master/MNIST_F_VGG16.ipynb\" target=\"_parent\"><img src=\"https://colab.research.google.com/assets/colab-badge.svg\" alt=\"Open In Colab\"/></a>"
      ]
    },
    {
      "cell_type": "code",
      "metadata": {
        "id": "jfTkrL0WFx7z",
        "colab_type": "code",
        "outputId": "b65be614-f097-4375-bef1-eb7480ad74ea",
        "colab": {
          "base_uri": "https://localhost:8080/",
          "height": 81
        }
      },
      "source": [
        "###Importing the Reqd Libraries\n",
        "\n",
        "import keras\n",
        "from keras.models import Sequential,Model\n",
        "from keras.layers.core import Dense,Activation,Flatten,Dropout\n",
        "from keras.layers import Conv2D,MaxPooling2D\n",
        "import numpy as np\n",
        "import matplotlib.pyplot as plt\n",
        "\n",
        "%matplotlib inline"
      ],
      "execution_count": 0,
      "outputs": [
        {
          "output_type": "stream",
          "text": [
            "Using TensorFlow backend.\n"
          ],
          "name": "stderr"
        },
        {
          "output_type": "display_data",
          "data": {
            "text/html": [
              "<p style=\"color: red;\">\n",
              "The default version of TensorFlow in Colab will soon switch to TensorFlow 2.x.<br>\n",
              "We recommend you <a href=\"https://www.tensorflow.org/guide/migrate\" target=\"_blank\">upgrade</a> now \n",
              "or ensure your notebook will continue to use TensorFlow 1.x via the <code>%tensorflow_version 1.x</code> magic:\n",
              "<a href=\"https://colab.research.google.com/notebooks/tensorflow_version.ipynb\" target=\"_blank\">more info</a>.</p>\n"
            ],
            "text/plain": [
              "<IPython.core.display.HTML object>"
            ]
          },
          "metadata": {
            "tags": []
          }
        }
      ]
    },
    {
      "cell_type": "code",
      "metadata": {
        "id": "zgXdlSA5GFff",
        "colab_type": "code",
        "outputId": "7bdad313-d4c5-4d71-9fda-79fa5d481fd2",
        "colab": {
          "base_uri": "https://localhost:8080/",
          "height": 156
        }
      },
      "source": [
        "###Importing the Dataset\n",
        "\n",
        "from keras.datasets.fashion_mnist import load_data\n",
        "\n",
        "(X_train_orig,Y_train_orig),(X_test_orig,Y_test_orig) = load_data()"
      ],
      "execution_count": 0,
      "outputs": [
        {
          "output_type": "stream",
          "text": [
            "Downloading data from http://fashion-mnist.s3-website.eu-central-1.amazonaws.com/train-labels-idx1-ubyte.gz\n",
            "32768/29515 [=================================] - 0s 1us/step\n",
            "Downloading data from http://fashion-mnist.s3-website.eu-central-1.amazonaws.com/train-images-idx3-ubyte.gz\n",
            "26427392/26421880 [==============================] - 0s 0us/step\n",
            "Downloading data from http://fashion-mnist.s3-website.eu-central-1.amazonaws.com/t10k-labels-idx1-ubyte.gz\n",
            "8192/5148 [===============================================] - 0s 0us/step\n",
            "Downloading data from http://fashion-mnist.s3-website.eu-central-1.amazonaws.com/t10k-images-idx3-ubyte.gz\n",
            "4423680/4422102 [==============================] - 0s 0us/step\n"
          ],
          "name": "stdout"
        }
      ]
    },
    {
      "cell_type": "code",
      "metadata": {
        "id": "NVHnyDvvGO3A",
        "colab_type": "code",
        "outputId": "8c090c9b-1b4c-41b4-ffa2-8f7575d3b053",
        "colab": {
          "base_uri": "https://localhost:8080/",
          "height": 87
        }
      },
      "source": [
        "###Overview of Imported Data\n",
        "\n",
        "print(\"X_train Shape:\",X_train_orig.shape)\n",
        "print(\"Y_train Shape:\",Y_train_orig.shape)\n",
        "print(\"X_test Shape:\",X_test_orig.shape)\n",
        "print(\"Y_test Shape:\",Y_test_orig.shape)"
      ],
      "execution_count": 0,
      "outputs": [
        {
          "output_type": "stream",
          "text": [
            "X_train Shape: (60000, 28, 28)\n",
            "Y_train Shape: (60000,)\n",
            "X_test Shape: (10000, 28, 28)\n",
            "Y_test Shape: (10000,)\n"
          ],
          "name": "stdout"
        }
      ]
    },
    {
      "cell_type": "code",
      "metadata": {
        "id": "RrMcQKw6IAp7",
        "colab_type": "code",
        "colab": {}
      },
      "source": [
        "###Label Dictionary\n",
        "\n",
        "label_dict = {0:'T-shirt/top',\n",
        "1:'Trouser',\n",
        "2:'Pullover',\n",
        "3:'Dress',\n",
        "4:'Coat',\n",
        "5:'Sandal',\n",
        "6:'Shirt',\n",
        "7:'Sneaker',\n",
        "8:'Bag',\n",
        "9:'Ankle boot'}"
      ],
      "execution_count": 0,
      "outputs": []
    },
    {
      "cell_type": "code",
      "metadata": {
        "id": "8bVOyZvVGvik",
        "colab_type": "code",
        "outputId": "799f4c9d-f697-4409-fe2b-7015658f00d5",
        "colab": {
          "base_uri": "https://localhost:8080/",
          "height": 300
        }
      },
      "source": [
        "###Visualizing a Training Example\n",
        "\n",
        "img_index = 2323\n",
        "img = X_train_orig[img_index]\n",
        "label = Y_train_orig[img_index]\n",
        "\n",
        "print(label_dict[label])\n",
        "plt.imshow(img,cmap='Greys')"
      ],
      "execution_count": 0,
      "outputs": [
        {
          "output_type": "stream",
          "text": [
            "Sandal\n"
          ],
          "name": "stdout"
        },
        {
          "output_type": "execute_result",
          "data": {
            "text/plain": [
              "<matplotlib.image.AxesImage at 0x7f011c1eca90>"
            ]
          },
          "metadata": {
            "tags": []
          },
          "execution_count": 5
        },
        {
          "output_type": "display_data",
          "data": {
            "image/png": "[encoded data removed]",
            "text/plain": [
              "<Figure size 432x288 with 1 Axes>"
            ]
          },
          "metadata": {
            "tags": []
          }
        }
      ]
    },
    {
      "cell_type": "code",
      "metadata": {
        "id": "wJ3yESFDHjWt",
        "colab_type": "code",
        "colab": {}
      },
      "source": [
        "###Pre-Processing the Data\n",
        "\n",
        "##Normalizing the Data\n",
        "X_train = X_train_orig/255\n",
        "X_test = X_test_orig/255"
      ],
      "execution_count": 0,
      "outputs": []
    },
    {
      "cell_type": "code",
      "metadata": {
        "id": "uhfoIhu-IPSw",
        "colab_type": "code",
        "colab": {}
      },
      "source": [
        "##One Hot encoding\n",
        "\n",
        "Y_train = keras.utils.to_categorical(Y_train_orig,10)\n",
        "Y_test = keras.utils.to_categorical(Y_test_orig,10)"
      ],
      "execution_count": 0,
      "outputs": []
    },
    {
      "cell_type": "code",
      "metadata": {
        "id": "-LbjCBqiITds",
        "colab_type": "code",
        "outputId": "3f8e4ae6-c9d0-4ecc-bb42-f05b5f506cc9",
        "colab": {
          "base_uri": "https://localhost:8080/",
          "height": 87
        }
      },
      "source": [
        "###Overview Of Processed Data\n",
        "\n",
        "print(\"X_train Shape:\",X_train.shape)\n",
        "print(\"Y_train Shape:\",Y_train.shape)\n",
        "print(\"X_test Shape:\",X_test.shape)\n",
        "print(\"Y_test Shape:\",Y_test.shape)\n"
      ],
      "execution_count": 0,
      "outputs": [
        {
          "output_type": "stream",
          "text": [
            "X_train Shape: (60000, 28, 28)\n",
            "Y_train Shape: (60000, 10)\n",
            "X_test Shape: (10000, 28, 28)\n",
            "Y_test Shape: (10000, 10)\n"
          ],
          "name": "stdout"
        }
      ]
    },
    {
      "cell_type": "code",
      "metadata": {
        "id": "3CiF1KXDIWjA",
        "colab_type": "code",
        "colab": {}
      },
      "source": [
        "###Function for Resizing\n",
        "\n",
        "from skimage.transform import resize\n",
        "\n",
        "target_size = 150\n",
        "\n",
        "def preprocess_image(x):\n",
        "    # Resize the image to have the shape of (150,150)\n",
        "    x = resize(x, (target_size, target_size),mode='constant',anti_aliasing=False)\n",
        "\n",
        "    x = np.stack((x,)*3, axis=-1) \n",
        "\n",
        "    return x.astype(np.float32)"
      ],
      "execution_count": 0,
      "outputs": []
    },
    {
      "cell_type": "code",
      "metadata": {
        "id": "GohFuMqyInhN",
        "colab_type": "code",
        "colab": {}
      },
      "source": [
        "###Making a Generator\n",
        "\n",
        "from sklearn.utils import shuffle\n",
        "\n",
        "def load_data_generator(x, y, batch_size=64):\n",
        "    num_samples = x.shape[0]\n",
        "    while 1:  # Loop forever so the generator never terminates\n",
        "        try:\n",
        "            shuffle(x)\n",
        "            for i in range(0, num_samples, batch_size):\n",
        "                x_data = [preprocess_image(im) for im in x[i:i+batch_size]]\n",
        "                y_data = y[i:i + batch_size]\n",
        "            \n",
        "                # convert to numpy array since this what keras required\n",
        "                yield shuffle(np.array(x_data), np.array(y_data))\n",
        "        except Exception as err:\n",
        "            print(err)"
      ],
      "execution_count": 0,
      "outputs": []
    },
    {
      "cell_type": "code",
      "metadata": {
        "id": "UNd2HfkVI2B-",
        "colab_type": "code",
        "colab": {}
      },
      "source": [
        "###Image Hyperparameters\n",
        "\n",
        "IMAGE_SIZE = 150\n",
        "IMAGE_WIDTH, IMAGE_HEIGHT = IMAGE_SIZE,IMAGE_SIZE\n",
        "IMAGE_SIZE=(IMAGE_WIDTH, IMAGE_HEIGHT)\n",
        "IMAGE_CHANNELS=3"
      ],
      "execution_count": 0,
      "outputs": []
    },
    {
      "cell_type": "code",
      "metadata": {
        "id": "bHdPP035Ir7U",
        "colab_type": "code",
        "outputId": "264b6fc5-e976-4fc5-d773-2256134dac84",
        "colab": {
          "base_uri": "https://localhost:8080/",
          "height": 505
        }
      },
      "source": [
        "###Making the Model\n",
        "from keras.applications import VGG16\n",
        "\n",
        "input_shape = (IMAGE_HEIGHT,IMAGE_WIDTH,IMAGE_CHANNELS)\n",
        "\n",
        "model = Sequential\n",
        "\n",
        "pre_trained_model = VGG16(input_shape=input_shape, include_top=False, weights=\"imagenet\")\n",
        "\n",
        "for layer in pre_trained_model.layers[:-5]:\n",
        "    layer.trainable = False\n",
        "for layer in pre_trained_model.layers[-5:]:\n",
        "    layer.trainable = True\n",
        "\n",
        "last_layer = pre_trained_model.get_layer('block5_pool')\n",
        "last_output = last_layer.output\n",
        "\n",
        "# Flatten the output layer to 1 dimension\n",
        "x = Flatten()(last_output)\n",
        "# Add a fully connected layer with 512 hidden units and ReLU activation\n",
        "x = Dense(512, activation='relu')(x)\n",
        "# Add a dropout rate of 0.5\n",
        "x = Dropout(0.5)(x)\n",
        "# Add a final sigmoid layer for classification\n",
        "x = Dense(10, activation='softmax')(x)\n",
        "\n",
        "model = Model(pre_trained_model.input, x)"
      ],
      "execution_count": 0,
      "outputs": [
        {
          "output_type": "stream",
          "text": [
            "WARNING:tensorflow:From /usr/local/lib/python3.6/dist-packages/keras/backend/tensorflow_backend.py:66: The name tf.get_default_graph is deprecated. Please use tf.compat.v1.get_default_graph instead.\n",
            "\n",
            "WARNING:tensorflow:From /usr/local/lib/python3.6/dist-packages/keras/backend/tensorflow_backend.py:541: The name tf.placeholder is deprecated. Please use tf.compat.v1.placeholder instead.\n",
            "\n",
            "WARNING:tensorflow:From /usr/local/lib/python3.6/dist-packages/keras/backend/tensorflow_backend.py:4432: The name tf.random_uniform is deprecated. Please use tf.random.uniform instead.\n",
            "\n",
            "WARNING:tensorflow:From /usr/local/lib/python3.6/dist-packages/keras/backend/tensorflow_backend.py:4267: The name tf.nn.max_pool is deprecated. Please use tf.nn.max_pool2d instead.\n",
            "\n",
            "Downloading data from https://github.com/fchollet/deep-learning-models/releases/download/v0.1/vgg16_weights_tf_dim_ordering_tf_kernels_notop.h5\n",
            "58892288/58889256 [==============================] - 2s 0us/step\n",
            "WARNING:tensorflow:From /usr/local/lib/python3.6/dist-packages/keras/backend/tensorflow_backend.py:190: The name tf.get_default_session is deprecated. Please use tf.compat.v1.get_default_session instead.\n",
            "\n",
            "WARNING:tensorflow:From /usr/local/lib/python3.6/dist-packages/keras/backend/tensorflow_backend.py:197: The name tf.ConfigProto is deprecated. Please use tf.compat.v1.ConfigProto instead.\n",
            "\n",
            "WARNING:tensorflow:From /usr/local/lib/python3.6/dist-packages/keras/backend/tensorflow_backend.py:203: The name tf.Session is deprecated. Please use tf.compat.v1.Session instead.\n",
            "\n",
            "WARNING:tensorflow:From /usr/local/lib/python3.6/dist-packages/keras/backend/tensorflow_backend.py:207: The name tf.global_variables is deprecated. Please use tf.compat.v1.global_variables instead.\n",
            "\n",
            "WARNING:tensorflow:From /usr/local/lib/python3.6/dist-packages/keras/backend/tensorflow_backend.py:216: The name tf.is_variable_initialized is deprecated. Please use tf.compat.v1.is_variable_initialized instead.\n",
            "\n",
            "WARNING:tensorflow:From /usr/local/lib/python3.6/dist-packages/keras/backend/tensorflow_backend.py:223: The name tf.variables_initializer is deprecated. Please use tf.compat.v1.variables_initializer instead.\n",
            "\n",
            "WARNING:tensorflow:From /usr/local/lib/python3.6/dist-packages/keras/backend/tensorflow_backend.py:148: The name tf.placeholder_with_default is deprecated. Please use tf.compat.v1.placeholder_with_default instead.\n",
            "\n",
            "WARNING:tensorflow:From /usr/local/lib/python3.6/dist-packages/keras/backend/tensorflow_backend.py:3733: calling dropout (from tensorflow.python.ops.nn_ops) with keep_prob is deprecated and will be removed in a future version.\n",
            "Instructions for updating:\n",
            "Please use `rate` instead of `keep_prob`. Rate should be set to `rate = 1 - keep_prob`.\n"
          ],
          "name": "stdout"
        }
      ]
    },
    {
      "cell_type": "code",
      "metadata": {
        "id": "asmv7VcaMZ0X",
        "colab_type": "code",
        "outputId": "19a80893-f2c5-4d51-94f5-26fcde3fb807",
        "colab": {
          "base_uri": "https://localhost:8080/",
          "height": 953
        }
      },
      "source": [
        "###Model Summary\n",
        "\n",
        "model.summary()"
      ],
      "execution_count": 0,
      "outputs": [
        {
          "output_type": "stream",
          "text": [
            "Model: \"model_1\"\n",
            "_________________________________________________________________\n",
            "Layer (type)                 Output Shape              Param #   \n",
            "=================================================================\n",
            "input_1 (InputLayer)         (None, 150, 150, 3)       0         \n",
            "_________________________________________________________________\n",
            "block1_conv1 (Conv2D)        (None, 150, 150, 64)      1792      \n",
            "_________________________________________________________________\n",
            "block1_conv2 (Conv2D)        (None, 150, 150, 64)      36928     \n",
            "_________________________________________________________________\n",
            "block1_pool (MaxPooling2D)   (None, 75, 75, 64)        0         \n",
            "_________________________________________________________________\n",
            "block2_conv1 (Conv2D)        (None, 75, 75, 128)       73856     \n",
            "_________________________________________________________________\n",
            "block2_conv2 (Conv2D)        (None, 75, 75, 128)       147584    \n",
            "_________________________________________________________________\n",
            "block2_pool (MaxPooling2D)   (None, 37, 37, 128)       0         \n",
            "_________________________________________________________________\n",
            "block3_conv1 (Conv2D)        (None, 37, 37, 256)       295168    \n",
            "_________________________________________________________________\n",
            "block3_conv2 (Conv2D)        (None, 37, 37, 256)       590080    \n",
            "_________________________________________________________________\n",
            "block3_conv3 (Conv2D)        (None, 37, 37, 256)       590080    \n",
            "_________________________________________________________________\n",
            "block3_pool (MaxPooling2D)   (None, 18, 18, 256)       0         \n",
            "_________________________________________________________________\n",
            "block4_conv1 (Conv2D)        (None, 18, 18, 512)       1180160   \n",
            "_________________________________________________________________\n",
            "block4_conv2 (Conv2D)        (None, 18, 18, 512)       2359808   \n",
            "_________________________________________________________________\n",
            "block4_conv3 (Conv2D)        (None, 18, 18, 512)       2359808   \n",
            "_________________________________________________________________\n",
            "block4_pool (MaxPooling2D)   (None, 9, 9, 512)         0         \n",
            "_________________________________________________________________\n",
            "block5_conv1 (Conv2D)        (None, 9, 9, 512)         2359808   \n",
            "_________________________________________________________________\n",
            "block5_conv2 (Conv2D)        (None, 9, 9, 512)         2359808   \n",
            "_________________________________________________________________\n",
            "block5_conv3 (Conv2D)        (None, 9, 9, 512)         2359808   \n",
            "_________________________________________________________________\n",
            "block5_pool (MaxPooling2D)   (None, 4, 4, 512)         0         \n",
            "_________________________________________________________________\n",
            "flatten_1 (Flatten)          (None, 8192)              0         \n",
            "_________________________________________________________________\n",
            "dense_1 (Dense)              (None, 512)               4194816   \n",
            "_________________________________________________________________\n",
            "dropout_1 (Dropout)          (None, 512)               0         \n",
            "_________________________________________________________________\n",
            "dense_2 (Dense)              (None, 10)                5130      \n",
            "=================================================================\n",
            "Total params: 18,914,634\n",
            "Trainable params: 11,279,370\n",
            "Non-trainable params: 7,635,264\n",
            "_________________________________________________________________\n"
          ],
          "name": "stdout"
        }
      ]
    },
    {
      "cell_type": "code",
      "metadata": {
        "id": "g2pjBsNGI0Xp",
        "colab_type": "code",
        "outputId": "f2329a5d-dfe0-4695-ae04-88a994d87116",
        "colab": {
          "base_uri": "https://localhost:8080/",
          "height": 107
        }
      },
      "source": [
        "###Compiling the Model\n",
        "from keras import optimizers\n",
        "\n",
        "model.compile(loss='categorical_crossentropy',optimizer=optimizers.Adam(lr=0.0001),metrics=['categorical_accuracy'])"
      ],
      "execution_count": 0,
      "outputs": [
        {
          "output_type": "stream",
          "text": [
            "WARNING:tensorflow:From /usr/local/lib/python3.6/dist-packages/keras/optimizers.py:793: The name tf.train.Optimizer is deprecated. Please use tf.compat.v1.train.Optimizer instead.\n",
            "\n",
            "WARNING:tensorflow:From /usr/local/lib/python3.6/dist-packages/keras/backend/tensorflow_backend.py:3576: The name tf.log is deprecated. Please use tf.math.log instead.\n",
            "\n"
          ],
          "name": "stdout"
        }
      ]
    },
    {
      "cell_type": "code",
      "metadata": {
        "id": "XNK75K9sL4OW",
        "colab_type": "code",
        "colab": {}
      },
      "source": [
        "###Callbacks\n",
        "\n",
        "from keras.callbacks import EarlyStopping, ReduceLROnPlateau\n",
        "\n",
        "###Callbacks\n",
        "\n",
        "learning_rate_reduction = ReduceLROnPlateau(monitor='val_categorical_accuracy', \n",
        "                                            patience=2, \n",
        "                                            verbose=1, \n",
        "                                            factor=0.5, \n",
        "                                            min_lr=0.00001)\n",
        "\n",
        "earlystop = EarlyStopping(patience=10)\n",
        "\n",
        "callbacks = [earlystop, learning_rate_reduction]"
      ],
      "execution_count": 0,
      "outputs": []
    },
    {
      "cell_type": "code",
      "metadata": {
        "id": "8GTP_MpUMPF_",
        "colab_type": "code",
        "colab": {}
      },
      "source": [
        "###Hyperparameters\n",
        "\n",
        "batch_size=64\n",
        "epochs = 9"
      ],
      "execution_count": 0,
      "outputs": []
    },
    {
      "cell_type": "code",
      "metadata": {
        "id": "QspO-1g7LVkr",
        "colab_type": "code",
        "outputId": "e7cf0f39-ac07-470b-9938-7f89acba2a94",
        "colab": {
          "base_uri": "https://localhost:8080/",
          "height": 1000
        }
      },
      "source": [
        "train_generator = load_data_generator(X_train, Y_train, batch_size=batch_size)\n",
        "val_generator = load_data_generator(X_test, Y_test, batch_size=batch_size)\n",
        "total_train = X_train.shape[0]\n",
        "total_validate = X_test.shape[0]\n",
        "\n",
        "###Training the Model\n",
        "\n",
        "history = model.fit_generator(\n",
        "    train_generator, \n",
        "    epochs=epochs,\n",
        "    steps_per_epoch=total_train//batch_size,\n",
        "    callbacks=callbacks,\n",
        "    validation_data=val_generator,\n",
        "    validation_steps=total_validate//batch_size)"
      ],
      "execution_count": 0,
      "outputs": [
        {
          "output_type": "stream",
          "text": [
            "WARNING:tensorflow:From /usr/local/lib/python3.6/dist-packages/tensorflow_core/python/ops/math_grad.py:1424: where (from tensorflow.python.ops.array_ops) is deprecated and will be removed in a future version.\n",
            "Instructions for updating:\n",
            "Use tf.where in 2.0, which has the same broadcast rule as np.where\n",
            "WARNING:tensorflow:From /usr/local/lib/python3.6/dist-packages/keras/backend/tensorflow_backend.py:1033: The name tf.assign_add is deprecated. Please use tf.compat.v1.assign_add instead.\n",
            "\n",
            "WARNING:tensorflow:From /usr/local/lib/python3.6/dist-packages/keras/backend/tensorflow_backend.py:1020: The name tf.assign is deprecated. Please use tf.compat.v1.assign instead.\n",
            "\n",
            "Epoch 1/20\n",
            "937/937 [==============================] - 206s 220ms/step - loss: 0.3360 - categorical_accuracy: 0.8817 - val_loss: 0.2533 - val_categorical_accuracy: 0.9084\n",
            "Epoch 2/20\n",
            "937/937 [==============================] - 200s 213ms/step - loss: 0.2115 - categorical_accuracy: 0.9232 - val_loss: 0.2384 - val_categorical_accuracy: 0.9146\n",
            "Epoch 3/20\n",
            "937/937 [==============================] - 197s 210ms/step - loss: 0.1652 - categorical_accuracy: 0.9401 - val_loss: 0.2389 - val_categorical_accuracy: 0.9134\n",
            "Epoch 4/20\n",
            "937/937 [==============================] - 197s 210ms/step - loss: 0.1293 - categorical_accuracy: 0.9531 - val_loss: 0.2502 - val_categorical_accuracy: 0.9204\n",
            "Epoch 5/20\n",
            "937/937 [==============================] - 197s 211ms/step - loss: 0.1014 - categorical_accuracy: 0.9626 - val_loss: 0.2885 - val_categorical_accuracy: 0.9170\n",
            "Epoch 6/20\n",
            "937/937 [==============================] - 197s 210ms/step - loss: 0.0808 - categorical_accuracy: 0.9704 - val_loss: 0.3520 - val_categorical_accuracy: 0.9085\n",
            "\n",
            "Epoch 00006: ReduceLROnPlateau reducing learning rate to 4.999999873689376e-05.\n",
            "Epoch 7/20\n",
            "937/937 [==============================] - 197s 211ms/step - loss: 0.0520 - categorical_accuracy: 0.9804 - val_loss: 0.2680 - val_categorical_accuracy: 0.9326\n",
            "Epoch 8/20\n",
            "937/937 [==============================] - 197s 210ms/step - loss: 0.0352 - categorical_accuracy: 0.9874 - val_loss: 0.3012 - val_categorical_accuracy: 0.9281\n",
            "Epoch 9/20\n",
            "937/937 [==============================] - 196s 209ms/step - loss: 0.0265 - categorical_accuracy: 0.9906 - val_loss: 0.3085 - val_categorical_accuracy: 0.9330\n",
            "Epoch 10/20\n",
            "821/937 [=========================>....] - ETA: 21s - loss: 0.0220 - categorical_accuracy: 0.9929WARNING:tensorflow:From /usr/local/lib/python3.6/dist-packages/tensorflow_core/python/ops/math_grad.py:1424: where (from tensorflow.python.ops.array_ops) is deprecated and will be removed in a future version.\n",
            "Instructions for updating:\n",
            "Use tf.where in 2.0, which has the same broadcast rule as np.where\n",
            "WARNING:tensorflow:From /usr/local/lib/python3.6/dist-packages/keras/backend/tensorflow_backend.py:1033: The name tf.assign_add is deprecated. Please use tf.compat.v1.assign_add instead.\n",
            "\n",
            "WARNING:tensorflow:From /usr/local/lib/python3.6/dist-packages/keras/backend/tensorflow_backend.py:1020: The name tf.assign is deprecated. Please use tf.compat.v1.assign instead.\n",
            "\n",
            "Epoch 1/20\n",
            "937/937 [==============================] - 206s 220ms/step - loss: 0.3360 - categorical_accuracy: 0.8817 - val_loss: 0.2533 - val_categorical_accuracy: 0.9084\n",
            "Epoch 2/20\n",
            "937/937 [==============================] - 200s 213ms/step - loss: 0.2115 - categorical_accuracy: 0.9232 - val_loss: 0.2384 - val_categorical_accuracy: 0.9146\n",
            "Epoch 3/20\n",
            "937/937 [==============================] - 197s 210ms/step - loss: 0.1652 - categorical_accuracy: 0.9401 - val_loss: 0.2389 - val_categorical_accuracy: 0.9134\n",
            "Epoch 4/20\n",
            "937/937 [==============================] - 197s 210ms/step - loss: 0.1293 - categorical_accuracy: 0.9531 - val_loss: 0.2502 - val_categorical_accuracy: 0.9204\n",
            "Epoch 5/20\n",
            "937/937 [==============================] - 197s 211ms/step - loss: 0.1014 - categorical_accuracy: 0.9626 - val_loss: 0.2885 - val_categorical_accuracy: 0.9170\n",
            "Epoch 6/20\n",
            "937/937 [==============================] - 197s 210ms/step - loss: 0.0808 - categorical_accuracy: 0.9704 - val_loss: 0.3520 - val_categorical_accuracy: 0.9085\n",
            "\n",
            "Epoch 00006: ReduceLROnPlateau reducing learning rate to 4.999999873689376e-05.\n",
            "Epoch 7/20\n",
            "937/937 [==============================] - 197s 211ms/step - loss: 0.0520 - categorical_accuracy: 0.9804 - val_loss: 0.2680 - val_categorical_accuracy: 0.9326\n",
            "Epoch 8/20\n",
            "937/937 [==============================] - 197s 210ms/step - loss: 0.0352 - categorical_accuracy: 0.9874 - val_loss: 0.3012 - val_categorical_accuracy: 0.9281\n",
            "Epoch 9/20\n",
            "937/937 [==============================] - 196s 209ms/step - loss: 0.0265 - categorical_accuracy: 0.9906 - val_loss: 0.3085 - val_categorical_accuracy: 0.9330\n",
            "Epoch 10/20\n",
            "937/937 [==============================] - 200s 213ms/step - loss: 0.0215 - categorical_accuracy: 0.9930 - val_loss: 0.3372 - val_categorical_accuracy: 0.9333\n",
            "937/937 [==============================] - 200s 213ms/step - loss: 0.0215 - categorical_accuracy: 0.9930 - val_loss: 0.3372 - val_categorical_accuracy: 0.9333\n",
            "Epoch 11/20\n",
            "Epoch 11/20\n",
            "937/937 [==============================] - 198s 212ms/step - loss: 0.0176 - categorical_accuracy: 0.9937 - val_loss: 0.3632 - val_categorical_accuracy: 0.9322\n",
            "937/937 [==============================] - 198s 212ms/step - loss: 0.0176 - categorical_accuracy: 0.9937 - val_loss: 0.3632 - val_categorical_accuracy: 0.9322\n",
            "Epoch 12/20\n",
            "  1/937 [..............................] - ETA: 2:48 - loss: 0.0037 - categorical_accuracy: 1.0000Epoch 12/20\n",
            "937/937 [==============================] - 198s 211ms/step - loss: 0.0162 - categorical_accuracy: 0.9943 - val_loss: 0.3493 - val_categorical_accuracy: 0.9311\n",
            "937/937 [==============================] - 198s 211ms/step - loss: 0.0162 - categorical_accuracy: 0.9943 - val_loss: 0.3493 - val_categorical_accuracy: 0.9311\n",
            "\n",
            "Epoch 00012: ReduceLROnPlateau reducing learning rate to 2.499999936844688e-05.\n",
            "\n",
            "Epoch 00012: ReduceLROnPlateau reducing learning rate to 2.499999936844688e-05.\n"
          ],
          "name": "stdout"
        }
      ]
    },
    {
      "cell_type": "code",
      "metadata": {
        "id": "wWM-TfhgMMcd",
        "colab_type": "code",
        "colab": {}
      },
      "source": [
        ""
      ],
      "execution_count": 0,
      "outputs": []
    }
  ]
}