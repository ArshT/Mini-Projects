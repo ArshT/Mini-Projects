{
  "nbformat": 4,
  "nbformat_minor": 0,
  "metadata": {
    "colab": {
      "name": "MNIST_F_CNN.ipnyb",
      "provenance": [],
      "include_colab_link": true
    },
    "kernelspec": {
      "name": "python3",
      "display_name": "Python 3"
    },
    "accelerator": "GPU"
  },
  "cells": [
    {
      "cell_type": "markdown",
      "metadata": {
        "id": "view-in-github",
        "colab_type": "text"
      },
      "source": [
        "<a href=\"https://colab.research.google.com/github/ArshT/Mini-Projects/blob/master/MNIST_F_CNN_ipnyb.ipynb\" target=\"_parent\"><img src=\"https://colab.research.google.com/assets/colab-badge.svg\" alt=\"Open In Colab\"/></a>"
      ]
    },
    {
      "cell_type": "code",
      "metadata": {
        "id": "_6RNnOqYjncJ",
        "colab_type": "code",
        "colab": {
          "base_uri": "https://localhost:8080/",
          "height": 81
        },
        "outputId": "15d2d974-1128-4d24-eae1-7da354d4bb04"
      },
      "source": [
        "###Importing the Reqd Libraries\n",
        "\n",
        "import keras\n",
        "from keras.models import Sequential\n",
        "from keras.layers.core import Dense,Activation,Flatten,Dropout\n",
        "from keras.layers import Conv2D,MaxPooling2D\n",
        "import numpy as np\n",
        "import matplotlib.pyplot as plt\n",
        "\n",
        "%matplotlib inline"
      ],
      "execution_count": 1,
      "outputs": [
        {
          "output_type": "stream",
          "text": [
            "Using TensorFlow backend.\n"
          ],
          "name": "stderr"
        },
        {
          "output_type": "display_data",
          "data": {
            "text/html": [
              "<p style=\"color: red;\">\n",
              "The default version of TensorFlow in Colab will soon switch to TensorFlow 2.x.<br>\n",
              "We recommend you <a href=\"https://www.tensorflow.org/guide/migrate\" target=\"_blank\">upgrade</a> now \n",
              "or ensure your notebook will continue to use TensorFlow 1.x via the <code>%tensorflow_version 1.x</code> magic:\n",
              "<a href=\"https://colab.research.google.com/notebooks/tensorflow_version.ipynb\" target=\"_blank\">more info</a>.</p>\n"
            ],
            "text/plain": [
              "<IPython.core.display.HTML object>"
            ]
          },
          "metadata": {
            "tags": []
          }
        }
      ]
    },
    {
      "cell_type": "code",
      "metadata": {
        "id": "VSrl82EnkH_R",
        "colab_type": "code",
        "colab": {}
      },
      "source": [
        "###Importing the Dataset\n",
        "\n",
        "from keras.datasets.fashion_mnist import load_data\n",
        "\n",
        "(X_train_orig,Y_train_orig),(X_test_orig,Y_test_orig) = load_data()"
      ],
      "execution_count": 0,
      "outputs": []
    },
    {
      "cell_type": "code",
      "metadata": {
        "id": "ZoFh7UsjknOA",
        "colab_type": "code",
        "colab": {}
      },
      "source": [
        "###Label Dictionary\n",
        "\n",
        "label_dict = {0:'T-shirt/top',\n",
        "1:'Trouser',\n",
        "2:'Pullover',\n",
        "3:'Dress',\n",
        "4:'Coat',\n",
        "5:'Sandal',\n",
        "6:'Shirt',\n",
        "7:'Sneaker',\n",
        "8:'Bag',\n",
        "9:'Ankle boot'}"
      ],
      "execution_count": 0,
      "outputs": []
    },
    {
      "cell_type": "code",
      "metadata": {
        "id": "4058BxQEnPHm",
        "colab_type": "code",
        "colab": {
          "base_uri": "https://localhost:8080/",
          "height": 87
        },
        "outputId": "c4677090-d3eb-4657-a7cd-5aaf9de34969"
      },
      "source": [
        "###Overview of Imported Data\n",
        "\n",
        "print(\"X_train Shape:\",X_train_orig.shape)\n",
        "print(\"Y_train Shape:\",Y_train_orig.shape)\n",
        "print(\"X_test Shape:\",X_test_orig.shape)\n",
        "print(\"Y_test Shape:\",Y_test_orig.shape)"
      ],
      "execution_count": 4,
      "outputs": [
        {
          "output_type": "stream",
          "text": [
            "X_train Shape: (60000, 28, 28)\n",
            "Y_train Shape: (60000,)\n",
            "X_test Shape: (10000, 28, 28)\n",
            "Y_test Shape: (10000,)\n"
          ],
          "name": "stdout"
        }
      ]
    },
    {
      "cell_type": "code",
      "metadata": {
        "id": "6FZdXxJanQzL",
        "colab_type": "code",
        "colab": {
          "base_uri": "https://localhost:8080/",
          "height": 300
        },
        "outputId": "f22f6fba-96ed-4152-b003-efbec88c2110"
      },
      "source": [
        "###Visualizing a Training Example\n",
        "\n",
        "img_index = 2323\n",
        "img = X_train_orig[img_index]\n",
        "label = Y_train_orig[img_index]\n",
        "\n",
        "print(label_dict[label])\n",
        "plt.imshow(img,cmap='Greys')"
      ],
      "execution_count": 5,
      "outputs": [
        {
          "output_type": "stream",
          "text": [
            "Sandal\n"
          ],
          "name": "stdout"
        },
        {
          "output_type": "execute_result",
          "data": {
            "text/plain": [
              "<matplotlib.image.AxesImage at 0x7fd4a453b940>"
            ]
          },
          "metadata": {
            "tags": []
          },
          "execution_count": 5
        },
        {
          "output_type": "display_data",
          "data": {
            "image/png": "[encoded data removed]",
            "text/plain": [
              "<Figure size 432x288 with 1 Axes>"
            ]
          },
          "metadata": {
            "tags": []
          }
        }
      ]
    },
    {
      "cell_type": "code",
      "metadata": {
        "id": "KkXU20yHnaYI",
        "colab_type": "code",
        "colab": {}
      },
      "source": [
        "###Pre-Processing the Data\n",
        "\n",
        "##Normalizing the Data\n",
        "X_train = X_train_orig/255\n",
        "X_test = X_test_orig/255"
      ],
      "execution_count": 0,
      "outputs": []
    },
    {
      "cell_type": "code",
      "metadata": {
        "id": "lvp6UoE_nhCV",
        "colab_type": "code",
        "colab": {
          "base_uri": "https://localhost:8080/",
          "height": 52
        },
        "outputId": "60c267d1-5307-47b9-f1e7-fae69df37867"
      },
      "source": [
        "##Reshaping the X arrays\n",
        "\n",
        "X_train = X_train.reshape(X_train.shape[0],28,28,1)\n",
        "X_test = X_test.reshape(X_test.shape[0],28,28,1)\n",
        "\n",
        "print(\"X_train shape:\",X_train.shape)\n",
        "print(\"X_test Shape:\",X_test.shape)"
      ],
      "execution_count": 7,
      "outputs": [
        {
          "output_type": "stream",
          "text": [
            "X_train shape: (60000, 28, 28, 1)\n",
            "X_test Shape: (10000, 28, 28, 1)\n"
          ],
          "name": "stdout"
        }
      ]
    },
    {
      "cell_type": "code",
      "metadata": {
        "id": "2d7hmd4OnjUx",
        "colab_type": "code",
        "colab": {}
      },
      "source": [
        "##One Hot encoding\n",
        "\n",
        "Y_train = keras.utils.to_categorical(Y_train_orig,10)\n",
        "Y_test = keras.utils.to_categorical(Y_test_orig,10)"
      ],
      "execution_count": 0,
      "outputs": []
    },
    {
      "cell_type": "code",
      "metadata": {
        "id": "9KXDuL-Bnlhg",
        "colab_type": "code",
        "colab": {
          "base_uri": "https://localhost:8080/",
          "height": 87
        },
        "outputId": "9376614f-48b7-440f-c576-74b1263cc26e"
      },
      "source": [
        "###Overview Of Processed Data\n",
        "\n",
        "print(\"X_train Shape:\",X_train.shape)\n",
        "print(\"Y_train Shape:\",Y_train.shape)\n",
        "print(\"X_test Shape:\",X_test.shape)\n",
        "print(\"Y_test Shape:\",Y_test.shape)"
      ],
      "execution_count": 9,
      "outputs": [
        {
          "output_type": "stream",
          "text": [
            "X_train Shape: (60000, 28, 28, 1)\n",
            "Y_train Shape: (60000, 10)\n",
            "X_test Shape: (10000, 28, 28, 1)\n",
            "Y_test Shape: (10000, 10)\n"
          ],
          "name": "stdout"
        }
      ]
    },
    {
      "cell_type": "code",
      "metadata": {
        "id": "Shy9haxDnnat",
        "colab_type": "code",
        "colab": {
          "base_uri": "https://localhost:8080/",
          "height": 263
        },
        "outputId": "a3183a1b-c4d7-426d-c008-caf8583f458e"
      },
      "source": [
        "###Creating a Model\n",
        "input_shape = (28,28,1)\n",
        "\n",
        "model = Sequential()\n",
        "\n",
        "#1 and 2\n",
        "model.add(Conv2D(32,(3,3),padding='SAME',activation='relu',input_shape = input_shape))\n",
        "model.add(MaxPooling2D(pool_size=(2,2),strides=(2,2),padding='SAME'))\n",
        "\n",
        "#3 and 4\n",
        "model.add(Conv2D(64,(3,3),padding='SAME',activation='relu'))\n",
        "model.add(MaxPooling2D(pool_size=(2,2),strides=(2,2),padding='SAME'))\n",
        "\n",
        "#5 and 6\n",
        "model.add(Conv2D(128,(3,3),padding='SAME',activation='relu'))\n",
        "model.add(MaxPooling2D(pool_size=(2,2),strides=(2,2),padding='SAME'))\n",
        "\n",
        "#7 and 8\n",
        "model.add(Conv2D(256,(3,3),padding='SAME',activation='relu'))\n",
        "model.add(MaxPooling2D(pool_size=(2,2),strides=(2,2),padding='SAME'))\n",
        "\n",
        "#9(Flat)\n",
        "model.add(Flatten())\n",
        "\n",
        "#10 and 11\n",
        "model.add(Dense(256,activation='relu'))\n",
        "model.add(Dropout(0.3))\n",
        "\n",
        "#12 and 13\n",
        "model.add(Dense(128,activation='relu'))\n",
        "model.add(Dropout(0.3))\n",
        "\n",
        "#14\n",
        "model.add(Dense(10,activation='softmax'))"
      ],
      "execution_count": 10,
      "outputs": [
        {
          "output_type": "stream",
          "text": [
            "WARNING:tensorflow:From /usr/local/lib/python3.6/dist-packages/keras/backend/tensorflow_backend.py:66: The name tf.get_default_graph is deprecated. Please use tf.compat.v1.get_default_graph instead.\n",
            "\n",
            "WARNING:tensorflow:From /usr/local/lib/python3.6/dist-packages/keras/backend/tensorflow_backend.py:541: The name tf.placeholder is deprecated. Please use tf.compat.v1.placeholder instead.\n",
            "\n",
            "WARNING:tensorflow:From /usr/local/lib/python3.6/dist-packages/keras/backend/tensorflow_backend.py:4432: The name tf.random_uniform is deprecated. Please use tf.random.uniform instead.\n",
            "\n",
            "WARNING:tensorflow:From /usr/local/lib/python3.6/dist-packages/keras/backend/tensorflow_backend.py:4267: The name tf.nn.max_pool is deprecated. Please use tf.nn.max_pool2d instead.\n",
            "\n",
            "WARNING:tensorflow:From /usr/local/lib/python3.6/dist-packages/keras/backend/tensorflow_backend.py:148: The name tf.placeholder_with_default is deprecated. Please use tf.compat.v1.placeholder_with_default instead.\n",
            "\n",
            "WARNING:tensorflow:From /usr/local/lib/python3.6/dist-packages/keras/backend/tensorflow_backend.py:3733: calling dropout (from tensorflow.python.ops.nn_ops) with keep_prob is deprecated and will be removed in a future version.\n",
            "Instructions for updating:\n",
            "Please use `rate` instead of `keep_prob`. Rate should be set to `rate = 1 - keep_prob`.\n"
          ],
          "name": "stdout"
        }
      ]
    },
    {
      "cell_type": "code",
      "metadata": {
        "id": "FFmj3UmInsnJ",
        "colab_type": "code",
        "colab": {
          "base_uri": "https://localhost:8080/",
          "height": 107
        },
        "outputId": "8bb46cae-5de4-4c22-9b57-af5c7b45edc7"
      },
      "source": [
        "###Compiling the Model\n",
        "\n",
        "model.compile(loss='categorical_crossentropy',optimizer='adam',metrics=['categorical_accuracy'])"
      ],
      "execution_count": 11,
      "outputs": [
        {
          "output_type": "stream",
          "text": [
            "WARNING:tensorflow:From /usr/local/lib/python3.6/dist-packages/keras/optimizers.py:793: The name tf.train.Optimizer is deprecated. Please use tf.compat.v1.train.Optimizer instead.\n",
            "\n",
            "WARNING:tensorflow:From /usr/local/lib/python3.6/dist-packages/keras/backend/tensorflow_backend.py:3576: The name tf.log is deprecated. Please use tf.math.log instead.\n",
            "\n"
          ],
          "name": "stdout"
        }
      ]
    },
    {
      "cell_type": "code",
      "metadata": {
        "id": "6TgNUerlnu4Q",
        "colab_type": "code",
        "colab": {
          "base_uri": "https://localhost:8080/",
          "height": 731
        },
        "outputId": "194bb619-1bdf-48cb-89ef-c40bb483d21c"
      },
      "source": [
        "###Training the Model\n",
        "\n",
        "history = model.fit(X_train,Y_train,batch_size=64,epochs=10,verbose=1,validation_data=(X_test,Y_test))"
      ],
      "execution_count": 12,
      "outputs": [
        {
          "output_type": "stream",
          "text": [
            "WARNING:tensorflow:From /usr/local/lib/python3.6/dist-packages/tensorflow_core/python/ops/math_grad.py:1424: where (from tensorflow.python.ops.array_ops) is deprecated and will be removed in a future version.\n",
            "Instructions for updating:\n",
            "Use tf.where in 2.0, which has the same broadcast rule as np.where\n",
            "WARNING:tensorflow:From /usr/local/lib/python3.6/dist-packages/keras/backend/tensorflow_backend.py:1033: The name tf.assign_add is deprecated. Please use tf.compat.v1.assign_add instead.\n",
            "\n",
            "WARNING:tensorflow:From /usr/local/lib/python3.6/dist-packages/keras/backend/tensorflow_backend.py:1020: The name tf.assign is deprecated. Please use tf.compat.v1.assign instead.\n",
            "\n",
            "WARNING:tensorflow:From /usr/local/lib/python3.6/dist-packages/keras/backend/tensorflow_backend.py:3005: The name tf.Session is deprecated. Please use tf.compat.v1.Session instead.\n",
            "\n",
            "Train on 60000 samples, validate on 10000 samples\n",
            "Epoch 1/10\n",
            "WARNING:tensorflow:From /usr/local/lib/python3.6/dist-packages/keras/backend/tensorflow_backend.py:190: The name tf.get_default_session is deprecated. Please use tf.compat.v1.get_default_session instead.\n",
            "\n",
            "WARNING:tensorflow:From /usr/local/lib/python3.6/dist-packages/keras/backend/tensorflow_backend.py:197: The name tf.ConfigProto is deprecated. Please use tf.compat.v1.ConfigProto instead.\n",
            "\n",
            "WARNING:tensorflow:From /usr/local/lib/python3.6/dist-packages/keras/backend/tensorflow_backend.py:207: The name tf.global_variables is deprecated. Please use tf.compat.v1.global_variables instead.\n",
            "\n",
            "WARNING:tensorflow:From /usr/local/lib/python3.6/dist-packages/keras/backend/tensorflow_backend.py:216: The name tf.is_variable_initialized is deprecated. Please use tf.compat.v1.is_variable_initialized instead.\n",
            "\n",
            "WARNING:tensorflow:From /usr/local/lib/python3.6/dist-packages/keras/backend/tensorflow_backend.py:223: The name tf.variables_initializer is deprecated. Please use tf.compat.v1.variables_initializer instead.\n",
            "\n",
            "60000/60000 [==============================] - 11s 184us/step - loss: 0.5628 - categorical_accuracy: 0.7929 - val_loss: 0.3659 - val_categorical_accuracy: 0.8685\n",
            "Epoch 2/10\n",
            "60000/60000 [==============================] - 9s 144us/step - loss: 0.3142 - categorical_accuracy: 0.8868 - val_loss: 0.3089 - val_categorical_accuracy: 0.8887\n",
            "Epoch 3/10\n",
            "60000/60000 [==============================] - 8s 141us/step - loss: 0.2630 - categorical_accuracy: 0.9061 - val_loss: 0.2684 - val_categorical_accuracy: 0.9035\n",
            "Epoch 4/10\n",
            "60000/60000 [==============================] - 8s 137us/step - loss: 0.2287 - categorical_accuracy: 0.9177 - val_loss: 0.2482 - val_categorical_accuracy: 0.9092\n",
            "Epoch 5/10\n",
            "60000/60000 [==============================] - 8s 139us/step - loss: 0.2032 - categorical_accuracy: 0.9262 - val_loss: 0.2591 - val_categorical_accuracy: 0.9061\n",
            "Epoch 6/10\n",
            "60000/60000 [==============================] - 8s 139us/step - loss: 0.1816 - categorical_accuracy: 0.9337 - val_loss: 0.2358 - val_categorical_accuracy: 0.9165\n",
            "Epoch 7/10\n",
            "60000/60000 [==============================] - 8s 141us/step - loss: 0.1644 - categorical_accuracy: 0.9408 - val_loss: 0.2393 - val_categorical_accuracy: 0.9156\n",
            "Epoch 8/10\n",
            "60000/60000 [==============================] - 8s 141us/step - loss: 0.1455 - categorical_accuracy: 0.9479 - val_loss: 0.2489 - val_categorical_accuracy: 0.9231\n",
            "Epoch 9/10\n",
            "60000/60000 [==============================] - 9s 142us/step - loss: 0.1320 - categorical_accuracy: 0.9507 - val_loss: 0.2488 - val_categorical_accuracy: 0.9161\n",
            "Epoch 10/10\n",
            "60000/60000 [==============================] - 9s 142us/step - loss: 0.1160 - categorical_accuracy: 0.9573 - val_loss: 0.2718 - val_categorical_accuracy: 0.9145\n"
          ],
          "name": "stdout"
        }
      ]
    },
    {
      "cell_type": "code",
      "metadata": {
        "id": "v6zmzuPonxTG",
        "colab_type": "code",
        "colab": {
          "base_uri": "https://localhost:8080/",
          "height": 283
        },
        "outputId": "554d8f72-47b9-42bd-fb25-706f43361fb2"
      },
      "source": [
        "###Making a Prediction\n",
        "\n",
        "img_index_predict = 2321\n",
        "img_predict = X_test_orig[img_index_predict]\n",
        "plt.imshow(img_predict,cmap='Greys')\n",
        "print(label_dict[Y_test_orig[img_index_predict]])"
      ],
      "execution_count": 13,
      "outputs": [
        {
          "output_type": "stream",
          "text": [
            "Bag\n"
          ],
          "name": "stdout"
        },
        {
          "output_type": "display_data",
          "data": {
            "image/png": "[encoded data removed]",
            "text/plain": [
              "<Figure size 432x288 with 1 Axes>"
            ]
          },
          "metadata": {
            "tags": []
          }
        }
      ]
    },
    {
      "cell_type": "code",
      "metadata": {
        "id": "2gLudwqTn5m_",
        "colab_type": "code",
        "colab": {
          "base_uri": "https://localhost:8080/",
          "height": 35
        },
        "outputId": "b9494d8d-7db1-4e70-a09e-d9e68a7213dc"
      },
      "source": [
        "X_pred = X_test[img_index_predict].reshape(1,28,28,1)\n",
        "Prediction = model.predict_classes(X_pred)\n",
        "Pred_key = Prediction[0]\n",
        "print(label_dict[Pred_key])"
      ],
      "execution_count": 14,
      "outputs": [
        {
          "output_type": "stream",
          "text": [
            "Bag\n"
          ],
          "name": "stdout"
        }
      ]
    },
    {
      "cell_type": "code",
      "metadata": {
        "id": "Z7Pqhp2poS0A",
        "colab_type": "code",
        "colab": {}
      },
      "source": [
        ""
      ],
      "execution_count": 0,
      "outputs": []
    }
  ]
}