{
  "nbformat": 4,
  "nbformat_minor": 0,
  "metadata": {
    "colab": {
      "name": "Cifar_10_CNN_MobileNet_Tf.ipynb",
      "provenance": [],
      "include_colab_link": true
    },
    "kernelspec": {
      "name": "python3",
      "display_name": "Python 3"
    },
    "accelerator": "GPU"
  },
  "cells": [
    {
      "cell_type": "markdown",
      "metadata": {
        "id": "view-in-github",
        "colab_type": "text"
      },
      "source": [
        "<a href=\"https://colab.research.google.com/github/ArshT/Mini-Projects/blob/master/Cifar_10_CNN_MobileNet_Tf.ipynb\" target=\"_parent\"><img src=\"https://colab.research.google.com/assets/colab-badge.svg\" alt=\"Open In Colab\"/></a>"
      ]
    },
    {
      "cell_type": "code",
      "metadata": {
        "id": "xGgkpM1aq-Vq",
        "colab_type": "code",
        "colab": {
          "base_uri": "https://localhost:8080/",
          "height": 81
        },
        "outputId": "57a3ec0f-736e-4226-d390-ee8ae96a990a"
      },
      "source": [
        "###Importing the Important Libraries\n",
        "\n",
        "import keras\n",
        "from keras.layers.core import Dense,Activation,Flatten,Dropout\n",
        "from keras.layers import Conv2D,MaxPooling2D,Input\n",
        "from keras.models import Sequential\n",
        "\n",
        "import numpy as np\n",
        "import matplotlib.pyplot as plt\n",
        "\n",
        "%matplotlib inline"
      ],
      "execution_count": 1,
      "outputs": [
        {
          "output_type": "stream",
          "text": [
            "Using TensorFlow backend.\n"
          ],
          "name": "stderr"
        },
        {
          "output_type": "display_data",
          "data": {
            "text/html": [
              "<p style=\"color: red;\">\n",
              "The default version of TensorFlow in Colab will soon switch to TensorFlow 2.x.<br>\n",
              "We recommend you <a href=\"https://www.tensorflow.org/guide/migrate\" target=\"_blank\">upgrade</a> now \n",
              "or ensure your notebook will continue to use TensorFlow 1.x via the <code>%tensorflow_version 1.x</code> magic:\n",
              "<a href=\"https://colab.research.google.com/notebooks/tensorflow_version.ipynb\" target=\"_blank\">more info</a>.</p>\n"
            ],
            "text/plain": [
              "<IPython.core.display.HTML object>"
            ]
          },
          "metadata": {
            "tags": []
          }
        }
      ]
    },
    {
      "cell_type": "code",
      "metadata": {
        "id": "HJiuC6DXseJG",
        "colab_type": "code",
        "colab": {}
      },
      "source": [
        "###Importing a Data\n",
        "\n",
        "from keras.datasets.cifar10 import load_data\n",
        "\n",
        "(X_train_orig,Y_train_orig),(X_test_orig,Y_test_orig) = load_data()"
      ],
      "execution_count": 0,
      "outputs": []
    },
    {
      "cell_type": "code",
      "metadata": {
        "id": "QegVVObus0in",
        "colab_type": "code",
        "outputId": "6204c398-7107-4bd8-8829-f73e89ddefdc",
        "colab": {
          "base_uri": "https://localhost:8080/",
          "height": 87
        }
      },
      "source": [
        "###Overview of the Imported Data\n",
        "\n",
        "print('X_train Shape:',X_train_orig.shape)\n",
        "print('Y_train Shape:',Y_train_orig.shape)\n",
        "print('X_test Shape:',X_test_orig.shape)\n",
        "print('Y_test Shape:',Y_test_orig.shape)"
      ],
      "execution_count": 3,
      "outputs": [
        {
          "output_type": "stream",
          "text": [
            "X_train Shape: (50000, 32, 32, 3)\n",
            "Y_train Shape: (50000, 1)\n",
            "X_test Shape: (10000, 32, 32, 3)\n",
            "Y_test Shape: (10000, 1)\n"
          ],
          "name": "stdout"
        }
      ]
    },
    {
      "cell_type": "code",
      "metadata": {
        "id": "dlHA_ktms7XE",
        "colab_type": "code",
        "colab": {}
      },
      "source": [
        "###Pre-Processing Data\n",
        "\n",
        "##Normalizing the Data\n",
        "X_train = X_train_orig / 255\n",
        "X_test = X_test_orig /255"
      ],
      "execution_count": 0,
      "outputs": []
    },
    {
      "cell_type": "code",
      "metadata": {
        "id": "mEpXFa6etVHd",
        "colab_type": "code",
        "colab": {}
      },
      "source": [
        "##One hot Encoding\n",
        "\n",
        "Y_train = keras.utils.to_categorical(Y_train_orig,10)\n",
        "Y_test = keras.utils.to_categorical(Y_test_orig,10)"
      ],
      "execution_count": 0,
      "outputs": []
    },
    {
      "cell_type": "code",
      "metadata": {
        "id": "vzBu9V82tbiv",
        "colab_type": "code",
        "outputId": "09eea18a-2069-422a-98db-92db529f712e",
        "colab": {
          "base_uri": "https://localhost:8080/",
          "height": 121
        }
      },
      "source": [
        "###Overview of Processed Data\n",
        "\n",
        "\n",
        "print (\"number of training examples = \" + str(X_train.shape[0]))\n",
        "print (\"number of test examples = \" + str(X_test.shape[0]))\n",
        "print (\"X_train shape: \" + str(X_train.shape))\n",
        "print (\"Y_train shape: \" + str(Y_train.shape))\n",
        "print (\"X_test shape: \" + str(X_test.shape))\n",
        "print (\"Y_test shape: \" + str(Y_test.shape))"
      ],
      "execution_count": 6,
      "outputs": [
        {
          "output_type": "stream",
          "text": [
            "number of training examples = 50000\n",
            "number of test examples = 10000\n",
            "X_train shape: (50000, 32, 32, 3)\n",
            "Y_train shape: (50000, 10)\n",
            "X_test shape: (10000, 32, 32, 3)\n",
            "Y_test shape: (10000, 10)\n"
          ],
          "name": "stdout"
        }
      ]
    },
    {
      "cell_type": "code",
      "metadata": {
        "id": "FGUb3iEYtpSR",
        "colab_type": "code",
        "outputId": "f8fc0ee8-fcb7-43a1-f851-cc62eec182cc",
        "colab": {
          "base_uri": "https://localhost:8080/",
          "height": 263
        }
      },
      "source": [
        "###Creating a Model\n",
        "input_shape = (32,32,3)\n",
        "\n",
        "model = Sequential()\n",
        "\n",
        "#1 and 2\n",
        "model.add(Conv2D(32,(3,3),padding='SAME',activation='relu',input_shape = input_shape))\n",
        "model.add(MaxPooling2D(pool_size=(2,2),strides=(2,2),padding='SAME'))\n",
        "model.add(Dropout(0.3))\n",
        "\n",
        "\n",
        "#3 and 4\n",
        "model.add(Conv2D(64,(3,3),padding='SAME',activation='relu'))\n",
        "model.add(MaxPooling2D(pool_size=(2,2),strides=(2,2),padding='SAME'))\n",
        "model.add(Dropout(0.3))\n",
        "\n",
        "\n",
        "#5 and 6\n",
        "model.add(Conv2D(128,(3,3),padding='SAME',activation='relu'))\n",
        "model.add(MaxPooling2D(pool_size=(2,2),strides=(2,2),padding='SAME'))\n",
        "model.add(Dropout(0.3))\n",
        "\n",
        "\n",
        "#7 and 8\n",
        "model.add(Conv2D(256,(3,3),padding='SAME',activation='relu'))\n",
        "model.add(MaxPooling2D(pool_size=(2,2),strides=(2,2),padding='SAME'))\n",
        "model.add(Dropout(0.3))\n",
        "\n",
        "\n",
        "#9(Flat)\n",
        "model.add(Flatten())\n",
        "\n",
        "#10 and 11\n",
        "model.add(Dense(256,activation='relu'))\n",
        "model.add(Dropout(0.3))\n",
        "\n",
        "#12 and 13\n",
        "model.add(Dense(128,activation='relu'))\n",
        "model.add(Dropout(0.3))\n",
        "\n",
        "#14\n",
        "model.add(Dense(10,activation='softmax'))"
      ],
      "execution_count": 7,
      "outputs": [
        {
          "output_type": "stream",
          "text": [
            "WARNING:tensorflow:From /usr/local/lib/python3.6/dist-packages/keras/backend/tensorflow_backend.py:66: The name tf.get_default_graph is deprecated. Please use tf.compat.v1.get_default_graph instead.\n",
            "\n",
            "WARNING:tensorflow:From /usr/local/lib/python3.6/dist-packages/keras/backend/tensorflow_backend.py:541: The name tf.placeholder is deprecated. Please use tf.compat.v1.placeholder instead.\n",
            "\n",
            "WARNING:tensorflow:From /usr/local/lib/python3.6/dist-packages/keras/backend/tensorflow_backend.py:4432: The name tf.random_uniform is deprecated. Please use tf.random.uniform instead.\n",
            "\n",
            "WARNING:tensorflow:From /usr/local/lib/python3.6/dist-packages/keras/backend/tensorflow_backend.py:4267: The name tf.nn.max_pool is deprecated. Please use tf.nn.max_pool2d instead.\n",
            "\n",
            "WARNING:tensorflow:From /usr/local/lib/python3.6/dist-packages/keras/backend/tensorflow_backend.py:148: The name tf.placeholder_with_default is deprecated. Please use tf.compat.v1.placeholder_with_default instead.\n",
            "\n",
            "WARNING:tensorflow:From /usr/local/lib/python3.6/dist-packages/keras/backend/tensorflow_backend.py:3733: calling dropout (from tensorflow.python.ops.nn_ops) with keep_prob is deprecated and will be removed in a future version.\n",
            "Instructions for updating:\n",
            "Please use `rate` instead of `keep_prob`. Rate should be set to `rate = 1 - keep_prob`.\n"
          ],
          "name": "stdout"
        }
      ]
    },
    {
      "cell_type": "code",
      "metadata": {
        "id": "6FDunNR2uG_C",
        "colab_type": "code",
        "outputId": "a5d0b0c8-ad54-4090-d7e9-b9e2d13266c9",
        "colab": {
          "base_uri": "https://localhost:8080/",
          "height": 107
        }
      },
      "source": [
        "###Compiling the Model\n",
        "\n",
        "model.compile(loss='categorical_crossentropy',optimizer='adam',metrics=['categorical_accuracy'])"
      ],
      "execution_count": 8,
      "outputs": [
        {
          "output_type": "stream",
          "text": [
            "WARNING:tensorflow:From /usr/local/lib/python3.6/dist-packages/keras/optimizers.py:793: The name tf.train.Optimizer is deprecated. Please use tf.compat.v1.train.Optimizer instead.\n",
            "\n",
            "WARNING:tensorflow:From /usr/local/lib/python3.6/dist-packages/keras/backend/tensorflow_backend.py:3576: The name tf.log is deprecated. Please use tf.math.log instead.\n",
            "\n"
          ],
          "name": "stdout"
        }
      ]
    },
    {
      "cell_type": "code",
      "metadata": {
        "id": "eMMV-AXsuKZy",
        "colab_type": "code",
        "outputId": "02a19435-5960-4de3-efc2-f2639aac1cd4",
        "colab": {
          "base_uri": "https://localhost:8080/",
          "height": 1000
        }
      },
      "source": [
        "###Training the Model\n",
        "\n",
        "history = model.fit(X_train,Y_train,batch_size=64,epochs=25,verbose=1,validation_data=(X_test,Y_test))"
      ],
      "execution_count": 9,
      "outputs": [
        {
          "output_type": "stream",
          "text": [
            "WARNING:tensorflow:From /usr/local/lib/python3.6/dist-packages/tensorflow_core/python/ops/math_grad.py:1424: where (from tensorflow.python.ops.array_ops) is deprecated and will be removed in a future version.\n",
            "Instructions for updating:\n",
            "Use tf.where in 2.0, which has the same broadcast rule as np.where\n",
            "WARNING:tensorflow:From /usr/local/lib/python3.6/dist-packages/keras/backend/tensorflow_backend.py:1033: The name tf.assign_add is deprecated. Please use tf.compat.v1.assign_add instead.\n",
            "\n",
            "WARNING:tensorflow:From /usr/local/lib/python3.6/dist-packages/keras/backend/tensorflow_backend.py:1020: The name tf.assign is deprecated. Please use tf.compat.v1.assign instead.\n",
            "\n",
            "WARNING:tensorflow:From /usr/local/lib/python3.6/dist-packages/keras/backend/tensorflow_backend.py:3005: The name tf.Session is deprecated. Please use tf.compat.v1.Session instead.\n",
            "\n",
            "Train on 50000 samples, validate on 10000 samples\n",
            "Epoch 1/25\n",
            "WARNING:tensorflow:From /usr/local/lib/python3.6/dist-packages/keras/backend/tensorflow_backend.py:190: The name tf.get_default_session is deprecated. Please use tf.compat.v1.get_default_session instead.\n",
            "\n",
            "WARNING:tensorflow:From /usr/local/lib/python3.6/dist-packages/keras/backend/tensorflow_backend.py:197: The name tf.ConfigProto is deprecated. Please use tf.compat.v1.ConfigProto instead.\n",
            "\n",
            "WARNING:tensorflow:From /usr/local/lib/python3.6/dist-packages/keras/backend/tensorflow_backend.py:207: The name tf.global_variables is deprecated. Please use tf.compat.v1.global_variables instead.\n",
            "\n",
            "WARNING:tensorflow:From /usr/local/lib/python3.6/dist-packages/keras/backend/tensorflow_backend.py:216: The name tf.is_variable_initialized is deprecated. Please use tf.compat.v1.is_variable_initialized instead.\n",
            "\n",
            "WARNING:tensorflow:From /usr/local/lib/python3.6/dist-packages/keras/backend/tensorflow_backend.py:223: The name tf.variables_initializer is deprecated. Please use tf.compat.v1.variables_initializer instead.\n",
            "\n",
            "50000/50000 [==============================] - 12s 233us/step - loss: 1.7889 - categorical_accuracy: 0.3265 - val_loss: 1.4818 - val_categorical_accuracy: 0.4542\n",
            "Epoch 2/25\n",
            "50000/50000 [==============================] - 9s 179us/step - loss: 1.4030 - categorical_accuracy: 0.4907 - val_loss: 1.1947 - val_categorical_accuracy: 0.5710\n",
            "Epoch 3/25\n",
            "50000/50000 [==============================] - 9s 181us/step - loss: 1.2550 - categorical_accuracy: 0.5507 - val_loss: 1.1632 - val_categorical_accuracy: 0.5903\n",
            "Epoch 4/25\n",
            "50000/50000 [==============================] - 9s 183us/step - loss: 1.1505 - categorical_accuracy: 0.5912 - val_loss: 0.9614 - val_categorical_accuracy: 0.6626\n",
            "Epoch 5/25\n",
            "50000/50000 [==============================] - 9s 183us/step - loss: 1.0903 - categorical_accuracy: 0.6154 - val_loss: 0.9667 - val_categorical_accuracy: 0.6614\n",
            "Epoch 6/25\n",
            "50000/50000 [==============================] - 9s 180us/step - loss: 1.0326 - categorical_accuracy: 0.6380 - val_loss: 0.8858 - val_categorical_accuracy: 0.6881\n",
            "Epoch 7/25\n",
            "50000/50000 [==============================] - 9s 181us/step - loss: 0.9855 - categorical_accuracy: 0.6568 - val_loss: 0.8673 - val_categorical_accuracy: 0.7000\n",
            "Epoch 8/25\n",
            "50000/50000 [==============================] - 9s 182us/step - loss: 0.9465 - categorical_accuracy: 0.6713 - val_loss: 0.9761 - val_categorical_accuracy: 0.6570\n",
            "Epoch 9/25\n",
            "50000/50000 [==============================] - 9s 179us/step - loss: 0.9233 - categorical_accuracy: 0.6787 - val_loss: 0.8905 - val_categorical_accuracy: 0.6884\n",
            "Epoch 10/25\n",
            "50000/50000 [==============================] - 9s 182us/step - loss: 0.9076 - categorical_accuracy: 0.6840 - val_loss: 0.8835 - val_categorical_accuracy: 0.6931\n",
            "Epoch 11/25\n",
            "50000/50000 [==============================] - 9s 178us/step - loss: 0.8842 - categorical_accuracy: 0.6913 - val_loss: 0.8154 - val_categorical_accuracy: 0.7168\n",
            "Epoch 12/25\n",
            "50000/50000 [==============================] - 9s 178us/step - loss: 0.8594 - categorical_accuracy: 0.7017 - val_loss: 0.7602 - val_categorical_accuracy: 0.7328\n",
            "Epoch 13/25\n",
            "50000/50000 [==============================] - 9s 179us/step - loss: 0.8527 - categorical_accuracy: 0.7054 - val_loss: 0.7502 - val_categorical_accuracy: 0.7377\n",
            "Epoch 14/25\n",
            "50000/50000 [==============================] - 9s 180us/step - loss: 0.8347 - categorical_accuracy: 0.7119 - val_loss: 0.8139 - val_categorical_accuracy: 0.7213\n",
            "Epoch 15/25\n",
            "50000/50000 [==============================] - 9s 182us/step - loss: 0.8269 - categorical_accuracy: 0.7146 - val_loss: 0.6893 - val_categorical_accuracy: 0.7576\n",
            "Epoch 16/25\n",
            "50000/50000 [==============================] - 9s 179us/step - loss: 0.8088 - categorical_accuracy: 0.7195 - val_loss: 0.7243 - val_categorical_accuracy: 0.7417\n",
            "Epoch 17/25\n",
            "50000/50000 [==============================] - 9s 180us/step - loss: 0.8043 - categorical_accuracy: 0.7210 - val_loss: 0.8806 - val_categorical_accuracy: 0.6979\n",
            "Epoch 18/25\n",
            "50000/50000 [==============================] - 9s 179us/step - loss: 0.7976 - categorical_accuracy: 0.7246 - val_loss: 0.7125 - val_categorical_accuracy: 0.7511\n",
            "Epoch 19/25\n",
            "50000/50000 [==============================] - 9s 177us/step - loss: 0.7784 - categorical_accuracy: 0.7326 - val_loss: 0.7197 - val_categorical_accuracy: 0.7512\n",
            "Epoch 20/25\n",
            "50000/50000 [==============================] - 9s 179us/step - loss: 0.7752 - categorical_accuracy: 0.7323 - val_loss: 0.7672 - val_categorical_accuracy: 0.7436\n",
            "Epoch 21/25\n",
            "50000/50000 [==============================] - 9s 179us/step - loss: 0.7750 - categorical_accuracy: 0.7347 - val_loss: 0.6696 - val_categorical_accuracy: 0.7703\n",
            "Epoch 22/25\n",
            "50000/50000 [==============================] - 9s 182us/step - loss: 0.7619 - categorical_accuracy: 0.7384 - val_loss: 0.6839 - val_categorical_accuracy: 0.7693\n",
            "Epoch 23/25\n",
            "50000/50000 [==============================] - 9s 181us/step - loss: 0.7589 - categorical_accuracy: 0.7392 - val_loss: 0.6836 - val_categorical_accuracy: 0.7649\n",
            "Epoch 24/25\n",
            "50000/50000 [==============================] - 9s 179us/step - loss: 0.7486 - categorical_accuracy: 0.7424 - val_loss: 0.6592 - val_categorical_accuracy: 0.7737\n",
            "Epoch 25/25\n",
            "50000/50000 [==============================] - 9s 178us/step - loss: 0.7452 - categorical_accuracy: 0.7454 - val_loss: 0.6694 - val_categorical_accuracy: 0.7658\n"
          ],
          "name": "stdout"
        }
      ]
    },
    {
      "cell_type": "code",
      "metadata": {
        "id": "eNH0-C1kuOK3",
        "colab_type": "code",
        "colab": {}
      },
      "source": [
        "####Transfer Learning using MobileNet"
      ],
      "execution_count": 0,
      "outputs": []
    },
    {
      "cell_type": "code",
      "metadata": {
        "id": "7ZHrieslxEBF",
        "colab_type": "code",
        "colab": {}
      },
      "source": [
        "###Resizing the Image\n",
        "\n",
        "from skimage.transform import resize\n",
        "\n",
        "target_size = 96\n",
        "\n",
        "def procces_image(x):\n",
        "  x = resize(x,(target_size,target_size),mode='constant',anti_aliasing=False)\n",
        "\n",
        "  return x.astype(np.float32)"
      ],
      "execution_count": 0,
      "outputs": []
    },
    {
      "cell_type": "code",
      "metadata": {
        "id": "oD46mEFZxvvN",
        "colab_type": "code",
        "colab": {}
      },
      "source": [
        "###Making the a generator for iterating through all the images\n",
        "\n",
        "from sklearn.utils import shuffle\n",
        "\n",
        "def load_data_generator(x, y, batch_size=64):\n",
        "    num_samples = x.shape[0]\n",
        "    while 1:  # Loop forever so the generator never terminates\n",
        "        try:\n",
        "            shuffle(x)\n",
        "            for i in range(0, num_samples, batch_size):\n",
        "                x_data = [procces_image(im) for im in x[i:i+batch_size]]\n",
        "                y_data = y[i:i + batch_size]\n",
        "            \n",
        "                # convert to numpy array since this what keras required\n",
        "                yield shuffle(np.array(x_data), np.array(y_data))\n",
        "        except Exception as err:\n",
        "            print(err)"
      ],
      "execution_count": 0,
      "outputs": []
    },
    {
      "cell_type": "code",
      "metadata": {
        "id": "BLlGPVgYx01V",
        "colab_type": "code",
        "outputId": "6e05f911-33a0-43d8-8e54-8ba8728de5f2",
        "colab": {
          "base_uri": "https://localhost:8080/",
          "height": 107
        }
      },
      "source": [
        "###Making the Model\n",
        "\n",
        "from keras.applications import MobileNet\n",
        "from keras.models import Model\n",
        "\n",
        "#Input Tensor\n",
        "input_tensor = Input(shape=(target_size,target_size,3))\n",
        "\n",
        "#Taking the base model as MobileNet\n",
        "base_model = MobileNet(include_top=False,\n",
        "                        weights='imagenet',\n",
        "                       input_tensor=input_tensor,\n",
        "                       input_shape=(target_size,target_size,3),\n",
        "                       pooling='avg')\n",
        "\n",
        "#Unfreezing all Layers\n",
        "for layer in base_model.layers:\n",
        "  layer.trainable=True\n",
        "\n",
        "#Adding my own Layers\n",
        "op1 = Dense(256,activation='relu')(base_model.output)\n",
        "op1 = Dropout(0.3)(op1)\n",
        "op2 = Dense(256,activation='relu')(op1)\n",
        "op2 = Dropout(0.3)(op2)\n",
        "\n",
        "#Final Layer\n",
        "output_tensor = Dense(10, activation='softmax')(op2)"
      ],
      "execution_count": 14,
      "outputs": [
        {
          "output_type": "stream",
          "text": [
            "WARNING:tensorflow:From /usr/local/lib/python3.6/dist-packages/keras/backend/tensorflow_backend.py:2041: The name tf.nn.fused_batch_norm is deprecated. Please use tf.compat.v1.nn.fused_batch_norm instead.\n",
            "\n"
          ],
          "name": "stdout"
        },
        {
          "output_type": "stream",
          "text": [
            "/usr/local/lib/python3.6/dist-packages/keras_applications/mobilenet.py:207: UserWarning: `input_shape` is undefined or non-square, or `rows` is not in [128, 160, 192, 224]. Weights for input shape (224, 224) will be loaded as the default.\n",
            "  warnings.warn('`input_shape` is undefined or non-square, '\n"
          ],
          "name": "stderr"
        }
      ]
    },
    {
      "cell_type": "code",
      "metadata": {
        "id": "qC_8uVkrzMBm",
        "colab_type": "code",
        "colab": {}
      },
      "source": [
        "###Assigning the Model\n",
        "\n",
        "model = Model(inputs=input_tensor, outputs=output_tensor)"
      ],
      "execution_count": 0,
      "outputs": []
    },
    {
      "cell_type": "code",
      "metadata": {
        "id": "hBEZdNOIziyz",
        "colab_type": "code",
        "colab": {}
      },
      "source": [
        "###Compiling the Model\n",
        "\n",
        "model.compile(optimizer='Adam',\n",
        "              loss='categorical_crossentropy',\n",
        "              metrics=['categorical_accuracy'])"
      ],
      "execution_count": 0,
      "outputs": []
    },
    {
      "cell_type": "code",
      "metadata": {
        "id": "kQSmeNzA1_Wh",
        "colab_type": "code",
        "outputId": "fc135060-e910-42e6-aaf4-256039b0c7fd",
        "colab": {
          "base_uri": "https://localhost:8080/",
          "height": 208
        }
      },
      "source": [
        "###Training the Model\n",
        "import math\n",
        "\n",
        "batch_size=128\n",
        "train_generator = load_data_generator(X_train, Y_train, batch_size)\n",
        "m=X_train.shape[0]\n",
        "\n",
        "model.fit_generator(\n",
        "    generator=train_generator,\n",
        "    steps_per_epoch=math.ceil(m/batch_size),\n",
        "    verbose=1,\n",
        "    epochs=5)"
      ],
      "execution_count": 17,
      "outputs": [
        {
          "output_type": "stream",
          "text": [
            "Epoch 1/5\n",
            "391/391 [==============================] - 141s 361ms/step - loss: 0.6065 - categorical_accuracy: 0.8098\n",
            "Epoch 2/5\n",
            "391/391 [==============================] - 136s 347ms/step - loss: 0.3160 - categorical_accuracy: 0.8996\n",
            "Epoch 3/5\n",
            "391/391 [==============================] - 136s 347ms/step - loss: 0.2316 - categorical_accuracy: 0.9261\n",
            "Epoch 4/5\n",
            "391/391 [==============================] - 137s 351ms/step - loss: 0.1840 - categorical_accuracy: 0.9427\n",
            "Epoch 5/5\n",
            "391/391 [==============================] - 136s 348ms/step - loss: 0.1551 - categorical_accuracy: 0.9506\n"
          ],
          "name": "stdout"
        },
        {
          "output_type": "execute_result",
          "data": {
            "text/plain": [
              "<keras.callbacks.History at 0x7fb34ef50860>"
            ]
          },
          "metadata": {
            "tags": []
          },
          "execution_count": 17
        }
      ]
    },
    {
      "cell_type": "code",
      "metadata": {
        "id": "_Z6VJoLc2vX_",
        "colab_type": "code",
        "colab": {
          "base_uri": "https://localhost:8080/",
          "height": 52
        },
        "outputId": "77814d1c-26a8-43a3-be5e-d986462cc34a"
      },
      "source": [
        "test_generator = load_data_generator(X_test, Y_test, batch_size=128)\n",
        "m_test = X_test.shape[0]\n",
        "model.evaluate_generator(generator=test_generator,\n",
        "                         steps=math.ceil(m_test/batch_size),\n",
        "                         verbose=1)"
      ],
      "execution_count": 18,
      "outputs": [
        {
          "output_type": "stream",
          "text": [
            "79/79 [==============================] - 23s 296ms/step\n"
          ],
          "name": "stdout"
        },
        {
          "output_type": "execute_result",
          "data": {
            "text/plain": [
              "[0.48796472742557523, 0.863]"
            ]
          },
          "metadata": {
            "tags": []
          },
          "execution_count": 18
        }
      ]
    },
    {
      "cell_type": "code",
      "metadata": {
        "id": "d-RfRbje5g6r",
        "colab_type": "code",
        "colab": {}
      },
      "source": [
        ""
      ],
      "execution_count": 0,
      "outputs": []
    }
  ]
}