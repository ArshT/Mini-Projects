{
  "nbformat": 4,
  "nbformat_minor": 0,
  "metadata": {
    "colab": {
      "name": "MNIST_CNN.ipynb",
      "provenance": [],
      "include_colab_link": true
    },
    "kernelspec": {
      "name": "python3",
      "display_name": "Python 3"
    },
    "accelerator": "GPU"
  },
  "cells": [
    {
      "cell_type": "markdown",
      "metadata": {
        "id": "view-in-github",
        "colab_type": "text"
      },
      "source": [
        "<a href=\"https://colab.research.google.com/github/ArshT/Mini-Projects/blob/master/MNIST_CNN.ipynb\" target=\"_parent\"><img src=\"https://colab.research.google.com/assets/colab-badge.svg\" alt=\"Open In Colab\"/></a>"
      ]
    },
    {
      "cell_type": "code",
      "metadata": {
        "id": "9NNwGAcXI0rZ",
        "colab_type": "code",
        "colab": {
          "base_uri": "https://localhost:8080/",
          "height": 81
        },
        "outputId": "b0844c43-a8b3-4105-a42a-6043fd6e2b27"
      },
      "source": [
        "###Importing the Important Libraries\n",
        "\n",
        "import keras\n",
        "from keras.layers.core import Dense,Activation,Flatten,Dropout\n",
        "from keras.layers import Conv2D,MaxPooling2D\n",
        "from keras.models import Sequential\n",
        "from keras.utils import np_utils\n",
        "\n",
        "import numpy as np\n",
        "import matplotlib.pyplot as plt\n",
        "\n",
        "%matplotlib inline"
      ],
      "execution_count": 1,
      "outputs": [
        {
          "output_type": "stream",
          "text": [
            "Using TensorFlow backend.\n"
          ],
          "name": "stderr"
        },
        {
          "output_type": "display_data",
          "data": {
            "text/html": [
              "<p style=\"color: red;\">\n",
              "The default version of TensorFlow in Colab will soon switch to TensorFlow 2.x.<br>\n",
              "We recommend you <a href=\"https://www.tensorflow.org/guide/migrate\" target=\"_blank\">upgrade</a> now \n",
              "or ensure your notebook will continue to use TensorFlow 1.x via the <code>%tensorflow_version 1.x</code> magic:\n",
              "<a href=\"https://colab.research.google.com/notebooks/tensorflow_version.ipynb\" target=\"_blank\">more info</a>.</p>\n"
            ],
            "text/plain": [
              "<IPython.core.display.HTML object>"
            ]
          },
          "metadata": {
            "tags": []
          }
        }
      ]
    },
    {
      "cell_type": "code",
      "metadata": {
        "id": "9dlQIw5nJkkL",
        "colab_type": "code",
        "colab": {}
      },
      "source": [
        "###Importing the MNIST Data from Keras\n",
        "\n",
        "from keras.datasets.mnist import load_data\n",
        "\n",
        "(X_train_orig,Y_train_orig),(X_test_orig,Y_test_orig) = load_data()"
      ],
      "execution_count": 0,
      "outputs": []
    },
    {
      "cell_type": "code",
      "metadata": {
        "id": "ZlbkuT3AKHY_",
        "colab_type": "code",
        "colab": {
          "base_uri": "https://localhost:8080/",
          "height": 87
        },
        "outputId": "68984029-8e47-4267-b9ab-5639a7c3cf8f"
      },
      "source": [
        "###Overview of Imported Data\n",
        "\n",
        "print(\"X_train Shape:\",X_train_orig.shape)\n",
        "print(\"Y_train Shape:\",Y_train_orig.shape)\n",
        "print(\"X_test Shape:\",X_test_orig.shape)\n",
        "print(\"Y_test Shape:\",Y_test_orig.shape)"
      ],
      "execution_count": 3,
      "outputs": [
        {
          "output_type": "stream",
          "text": [
            "X_train Shape: (60000, 28, 28)\n",
            "Y_train Shape: (60000,)\n",
            "X_test Shape: (10000, 28, 28)\n",
            "Y_test Shape: (10000,)\n"
          ],
          "name": "stdout"
        }
      ]
    },
    {
      "cell_type": "code",
      "metadata": {
        "id": "LKVU2dnSKXOA",
        "colab_type": "code",
        "colab": {}
      },
      "source": [
        "###Pre-Processing the Data\n",
        "\n",
        "##Normalizing the Data\n",
        "X_train = X_train_orig/255\n",
        "X_test = X_test_orig/255"
      ],
      "execution_count": 0,
      "outputs": []
    },
    {
      "cell_type": "code",
      "metadata": {
        "id": "MrVPtZMkKny_",
        "colab_type": "code",
        "colab": {
          "base_uri": "https://localhost:8080/",
          "height": 52
        },
        "outputId": "1ae319cd-6b0d-44b7-bf1a-742b235d5e7e"
      },
      "source": [
        "##Reshaping the X arrays\n",
        "\n",
        "X_train = X_train.reshape(X_train.shape[0],28,28,1)\n",
        "X_test = X_test.reshape(X_test.shape[0],28,28,1)\n",
        "\n",
        "print(\"X_train shape:\",X_train.shape)\n",
        "print(\"X_test Shape:\",X_test.shape)"
      ],
      "execution_count": 5,
      "outputs": [
        {
          "output_type": "stream",
          "text": [
            "X_train shape: (60000, 28, 28, 1)\n",
            "X_test Shape: (10000, 28, 28, 1)\n"
          ],
          "name": "stdout"
        }
      ]
    },
    {
      "cell_type": "code",
      "metadata": {
        "id": "4XjgqHKzLFbM",
        "colab_type": "code",
        "colab": {}
      },
      "source": [
        "##One Hot encoding\n",
        "\n",
        "Y_train = keras.utils.to_categorical(Y_train_orig,10)\n",
        "Y_test = keras.utils.to_categorical(Y_test_orig,10)"
      ],
      "execution_count": 0,
      "outputs": []
    },
    {
      "cell_type": "code",
      "metadata": {
        "id": "VdX3E7ZGLmx2",
        "colab_type": "code",
        "colab": {
          "base_uri": "https://localhost:8080/",
          "height": 87
        },
        "outputId": "ad14ab59-e3af-4cf0-f356-5eeecc8c0289"
      },
      "source": [
        "###Overview Of Processed Data\n",
        "\n",
        "print(\"X_train Shape:\",X_train.shape)\n",
        "print(\"Y_train Shape:\",Y_train.shape)\n",
        "print(\"X_test Shape:\",X_test.shape)\n",
        "print(\"Y_test Shape:\",Y_test.shape)"
      ],
      "execution_count": 7,
      "outputs": [
        {
          "output_type": "stream",
          "text": [
            "X_train Shape: (60000, 28, 28, 1)\n",
            "Y_train Shape: (60000, 10)\n",
            "X_test Shape: (10000, 28, 28, 1)\n",
            "Y_test Shape: (10000, 10)\n"
          ],
          "name": "stdout"
        }
      ]
    },
    {
      "cell_type": "code",
      "metadata": {
        "id": "atkuwwS4Msgg",
        "colab_type": "code",
        "colab": {
          "base_uri": "https://localhost:8080/",
          "height": 263
        },
        "outputId": "990688ee-cf0c-498c-f8ae-7a83d88367b4"
      },
      "source": [
        "###Creating a Model\n",
        "input_shape = (28,28,1)\n",
        "\n",
        "model = Sequential()\n",
        "\n",
        "#1 and 2\n",
        "model.add(Conv2D(32,(3,3),padding='SAME',activation='relu',input_shape = input_shape))\n",
        "model.add(MaxPooling2D(pool_size=(2,2),strides=(2,2),padding='SAME'))\n",
        "\n",
        "#3 and 4\n",
        "model.add(Conv2D(64,(3,3),padding='SAME',activation='relu'))\n",
        "model.add(MaxPooling2D(pool_size=(2,2),strides=(2,2),padding='SAME'))\n",
        "\n",
        "#5 and 6\n",
        "model.add(Conv2D(128,(3,3),padding='SAME',activation='relu'))\n",
        "model.add(MaxPooling2D(pool_size=(2,2),strides=(2,2),padding='SAME'))\n",
        "\n",
        "#7 and 8\n",
        "model.add(Conv2D(256,(3,3),padding='SAME',activation='relu'))\n",
        "model.add(MaxPooling2D(pool_size=(2,2),strides=(2,2),padding='SAME'))\n",
        "\n",
        "#9(Flat)\n",
        "model.add(Flatten())\n",
        "\n",
        "#10 and 11\n",
        "model.add(Dense(256,activation='relu'))\n",
        "model.add(Dropout(0.3))\n",
        "\n",
        "#12 and 13\n",
        "model.add(Dense(128,activation='relu'))\n",
        "model.add(Dropout(0.3))\n",
        "\n",
        "#14\n",
        "model.add(Dense(10,activation='softmax'))"
      ],
      "execution_count": 8,
      "outputs": [
        {
          "output_type": "stream",
          "text": [
            "WARNING:tensorflow:From /usr/local/lib/python3.6/dist-packages/keras/backend/tensorflow_backend.py:66: The name tf.get_default_graph is deprecated. Please use tf.compat.v1.get_default_graph instead.\n",
            "\n",
            "WARNING:tensorflow:From /usr/local/lib/python3.6/dist-packages/keras/backend/tensorflow_backend.py:541: The name tf.placeholder is deprecated. Please use tf.compat.v1.placeholder instead.\n",
            "\n",
            "WARNING:tensorflow:From /usr/local/lib/python3.6/dist-packages/keras/backend/tensorflow_backend.py:4432: The name tf.random_uniform is deprecated. Please use tf.random.uniform instead.\n",
            "\n",
            "WARNING:tensorflow:From /usr/local/lib/python3.6/dist-packages/keras/backend/tensorflow_backend.py:4267: The name tf.nn.max_pool is deprecated. Please use tf.nn.max_pool2d instead.\n",
            "\n",
            "WARNING:tensorflow:From /usr/local/lib/python3.6/dist-packages/keras/backend/tensorflow_backend.py:148: The name tf.placeholder_with_default is deprecated. Please use tf.compat.v1.placeholder_with_default instead.\n",
            "\n",
            "WARNING:tensorflow:From /usr/local/lib/python3.6/dist-packages/keras/backend/tensorflow_backend.py:3733: calling dropout (from tensorflow.python.ops.nn_ops) with keep_prob is deprecated and will be removed in a future version.\n",
            "Instructions for updating:\n",
            "Please use `rate` instead of `keep_prob`. Rate should be set to `rate = 1 - keep_prob`.\n"
          ],
          "name": "stdout"
        }
      ]
    },
    {
      "cell_type": "code",
      "metadata": {
        "id": "Z-6v4y_Fbsko",
        "colab_type": "code",
        "colab": {
          "base_uri": "https://localhost:8080/",
          "height": 107
        },
        "outputId": "d8085e68-81d4-41f1-c8ea-addc93e2b4f8"
      },
      "source": [
        "###Compiling the Model\n",
        "\n",
        "model.compile(loss='categorical_crossentropy',optimizer='adam',metrics=['categorical_accuracy'])"
      ],
      "execution_count": 9,
      "outputs": [
        {
          "output_type": "stream",
          "text": [
            "WARNING:tensorflow:From /usr/local/lib/python3.6/dist-packages/keras/optimizers.py:793: The name tf.train.Optimizer is deprecated. Please use tf.compat.v1.train.Optimizer instead.\n",
            "\n",
            "WARNING:tensorflow:From /usr/local/lib/python3.6/dist-packages/keras/backend/tensorflow_backend.py:3576: The name tf.log is deprecated. Please use tf.math.log instead.\n",
            "\n"
          ],
          "name": "stdout"
        }
      ]
    },
    {
      "cell_type": "code",
      "metadata": {
        "id": "XQWI73ZscSWn",
        "colab_type": "code",
        "colab": {
          "base_uri": "https://localhost:8080/",
          "height": 731
        },
        "outputId": "4bb90b52-cd2e-4947-bcf9-dc17d7ff8a58"
      },
      "source": [
        "###Training the Model\n",
        "\n",
        "history = model.fit(X_train,Y_train,batch_size=64,epochs=10,verbose=1,validation_data=(X_test,Y_test))"
      ],
      "execution_count": 10,
      "outputs": [
        {
          "output_type": "stream",
          "text": [
            "WARNING:tensorflow:From /usr/local/lib/python3.6/dist-packages/tensorflow_core/python/ops/math_grad.py:1424: where (from tensorflow.python.ops.array_ops) is deprecated and will be removed in a future version.\n",
            "Instructions for updating:\n",
            "Use tf.where in 2.0, which has the same broadcast rule as np.where\n",
            "WARNING:tensorflow:From /usr/local/lib/python3.6/dist-packages/keras/backend/tensorflow_backend.py:1033: The name tf.assign_add is deprecated. Please use tf.compat.v1.assign_add instead.\n",
            "\n",
            "WARNING:tensorflow:From /usr/local/lib/python3.6/dist-packages/keras/backend/tensorflow_backend.py:1020: The name tf.assign is deprecated. Please use tf.compat.v1.assign instead.\n",
            "\n",
            "WARNING:tensorflow:From /usr/local/lib/python3.6/dist-packages/keras/backend/tensorflow_backend.py:3005: The name tf.Session is deprecated. Please use tf.compat.v1.Session instead.\n",
            "\n",
            "Train on 60000 samples, validate on 10000 samples\n",
            "Epoch 1/10\n",
            "WARNING:tensorflow:From /usr/local/lib/python3.6/dist-packages/keras/backend/tensorflow_backend.py:190: The name tf.get_default_session is deprecated. Please use tf.compat.v1.get_default_session instead.\n",
            "\n",
            "WARNING:tensorflow:From /usr/local/lib/python3.6/dist-packages/keras/backend/tensorflow_backend.py:197: The name tf.ConfigProto is deprecated. Please use tf.compat.v1.ConfigProto instead.\n",
            "\n",
            "WARNING:tensorflow:From /usr/local/lib/python3.6/dist-packages/keras/backend/tensorflow_backend.py:207: The name tf.global_variables is deprecated. Please use tf.compat.v1.global_variables instead.\n",
            "\n",
            "WARNING:tensorflow:From /usr/local/lib/python3.6/dist-packages/keras/backend/tensorflow_backend.py:216: The name tf.is_variable_initialized is deprecated. Please use tf.compat.v1.is_variable_initialized instead.\n",
            "\n",
            "WARNING:tensorflow:From /usr/local/lib/python3.6/dist-packages/keras/backend/tensorflow_backend.py:223: The name tf.variables_initializer is deprecated. Please use tf.compat.v1.variables_initializer instead.\n",
            "\n",
            "60000/60000 [==============================] - 9s 144us/step - loss: 0.2196 - categorical_accuracy: 0.9294 - val_loss: 0.0454 - val_categorical_accuracy: 0.9853\n",
            "Epoch 2/10\n",
            "60000/60000 [==============================] - 6s 103us/step - loss: 0.0569 - categorical_accuracy: 0.9840 - val_loss: 0.0357 - val_categorical_accuracy: 0.9894\n",
            "Epoch 3/10\n",
            "60000/60000 [==============================] - 6s 103us/step - loss: 0.0422 - categorical_accuracy: 0.9889 - val_loss: 0.0526 - val_categorical_accuracy: 0.9861\n",
            "Epoch 4/10\n",
            "60000/60000 [==============================] - 6s 103us/step - loss: 0.0337 - categorical_accuracy: 0.9907 - val_loss: 0.0333 - val_categorical_accuracy: 0.9898\n",
            "Epoch 5/10\n",
            "60000/60000 [==============================] - 6s 103us/step - loss: 0.0277 - categorical_accuracy: 0.9925 - val_loss: 0.0306 - val_categorical_accuracy: 0.9901\n",
            "Epoch 6/10\n",
            "60000/60000 [==============================] - 6s 103us/step - loss: 0.0250 - categorical_accuracy: 0.9935 - val_loss: 0.0218 - val_categorical_accuracy: 0.9932\n",
            "Epoch 7/10\n",
            "60000/60000 [==============================] - 6s 103us/step - loss: 0.0227 - categorical_accuracy: 0.9938 - val_loss: 0.0253 - val_categorical_accuracy: 0.9929\n",
            "Epoch 8/10\n",
            "60000/60000 [==============================] - 6s 102us/step - loss: 0.0189 - categorical_accuracy: 0.9948 - val_loss: 0.0269 - val_categorical_accuracy: 0.9919\n",
            "Epoch 9/10\n",
            "60000/60000 [==============================] - 6s 106us/step - loss: 0.0137 - categorical_accuracy: 0.9963 - val_loss: 0.0296 - val_categorical_accuracy: 0.9929\n",
            "Epoch 10/10\n",
            "60000/60000 [==============================] - 6s 107us/step - loss: 0.0149 - categorical_accuracy: 0.9962 - val_loss: 0.0358 - val_categorical_accuracy: 0.9913\n"
          ],
          "name": "stdout"
        }
      ]
    }
  ]
}