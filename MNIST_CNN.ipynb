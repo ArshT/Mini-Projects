{
  "nbformat": 4,
  "nbformat_minor": 0,
  "metadata": {
    "colab": {
      "name": "MNIST_CNN.ipynb",
      "provenance": [],
      "collapsed_sections": [],
      "include_colab_link": true
    },
    "kernelspec": {
      "name": "python3",
      "display_name": "Python 3"
    },
    "accelerator": "GPU"
  },
  "cells": [
    {
      "cell_type": "markdown",
      "metadata": {
        "id": "view-in-github",
        "colab_type": "text"
      },
      "source": [
        "<a href=\"https://colab.research.google.com/github/ArshT/Mini-Projects/blob/master/MNIST_CNN.ipynb\" target=\"_parent\"><img src=\"https://colab.research.google.com/assets/colab-badge.svg\" alt=\"Open In Colab\"/></a>"
      ]
    },
    {
      "cell_type": "code",
      "metadata": {
        "id": "9NNwGAcXI0rZ",
        "colab_type": "code",
        "outputId": "4fbd9090-ddfa-4214-8102-4cf45ad8fdac",
        "colab": {
          "base_uri": "https://localhost:8080/",
          "height": 81
        }
      },
      "source": [
        "###Importing the Important Libraries\n",
        "\n",
        "import keras\n",
        "from keras.layers.core import Dense,Activation,Flatten,Dropout\n",
        "from keras.layers import Conv2D,MaxPooling2D\n",
        "from keras.models import Sequential\n",
        "from keras.utils import np_utils\n",
        "\n",
        "import numpy as np\n",
        "import matplotlib.pyplot as plt\n",
        "\n",
        "%matplotlib inline"
      ],
      "execution_count": 1,
      "outputs": [
        {
          "output_type": "stream",
          "text": [
            "Using TensorFlow backend.\n"
          ],
          "name": "stderr"
        },
        {
          "output_type": "display_data",
          "data": {
            "text/html": [
              "<p style=\"color: red;\">\n",
              "The default version of TensorFlow in Colab will soon switch to TensorFlow 2.x.<br>\n",
              "We recommend you <a href=\"https://www.tensorflow.org/guide/migrate\" target=\"_blank\">upgrade</a> now \n",
              "or ensure your notebook will continue to use TensorFlow 1.x via the <code>%tensorflow_version 1.x</code> magic:\n",
              "<a href=\"https://colab.research.google.com/notebooks/tensorflow_version.ipynb\" target=\"_blank\">more info</a>.</p>\n"
            ],
            "text/plain": [
              "<IPython.core.display.HTML object>"
            ]
          },
          "metadata": {
            "tags": []
          }
        }
      ]
    },
    {
      "cell_type": "code",
      "metadata": {
        "id": "9dlQIw5nJkkL",
        "colab_type": "code",
        "colab": {}
      },
      "source": [
        "###Importing the MNIST Data from Keras\n",
        "\n",
        "from keras.datasets.mnist import load_data\n",
        "\n",
        "(X_train_orig,Y_train_orig),(X_test_orig,Y_test_orig) = load_data()"
      ],
      "execution_count": 0,
      "outputs": []
    },
    {
      "cell_type": "code",
      "metadata": {
        "id": "ZlbkuT3AKHY_",
        "colab_type": "code",
        "outputId": "6c7a963f-a07b-462d-aa98-448c9f52e8f5",
        "colab": {
          "base_uri": "https://localhost:8080/",
          "height": 87
        }
      },
      "source": [
        "###Overview of Imported Data\n",
        "\n",
        "print(\"X_train Shape:\",X_train_orig.shape)\n",
        "print(\"Y_train Shape:\",Y_train_orig.shape)\n",
        "print(\"X_test Shape:\",X_test_orig.shape)\n",
        "print(\"Y_test Shape:\",Y_test_orig.shape)"
      ],
      "execution_count": 3,
      "outputs": [
        {
          "output_type": "stream",
          "text": [
            "X_train Shape: (60000, 28, 28)\n",
            "Y_train Shape: (60000,)\n",
            "X_test Shape: (10000, 28, 28)\n",
            "Y_test Shape: (10000,)\n"
          ],
          "name": "stdout"
        }
      ]
    },
    {
      "cell_type": "code",
      "metadata": {
        "id": "y0S7EoMVf106",
        "colab_type": "code",
        "colab": {
          "base_uri": "https://localhost:8080/",
          "height": 300
        },
        "outputId": "5d13aab0-6722-439f-acc1-05bdb0fff63f"
      },
      "source": [
        "###Visualizing a Training Example\n",
        "\n",
        "img_index = 2323\n",
        "img = X_train_orig[img_index]\n",
        "label = Y_train_orig[img_index]\n",
        "\n",
        "print(label)\n",
        "plt.imshow(img,cmap='Greys')"
      ],
      "execution_count": 4,
      "outputs": [
        {
          "output_type": "stream",
          "text": [
            "4\n"
          ],
          "name": "stdout"
        },
        {
          "output_type": "execute_result",
          "data": {
            "text/plain": [
              "<matplotlib.image.AxesImage at 0x7fae6f4bba58>"
            ]
          },
          "metadata": {
            "tags": []
          },
          "execution_count": 4
        },
        {
          "output_type": "display_data",
          "data": {
            "image/png": "[encoded data removed]",
            "text/plain": [
              "<Figure size 432x288 with 1 Axes>"
            ]
          },
          "metadata": {
            "tags": []
          }
        }
      ]
    },
    {
      "cell_type": "code",
      "metadata": {
        "id": "LKVU2dnSKXOA",
        "colab_type": "code",
        "colab": {}
      },
      "source": [
        "###Pre-Processing the Data\n",
        "\n",
        "##Normalizing the Data\n",
        "X_train = X_train_orig/255\n",
        "X_test = X_test_orig/255"
      ],
      "execution_count": 0,
      "outputs": []
    },
    {
      "cell_type": "code",
      "metadata": {
        "id": "MrVPtZMkKny_",
        "colab_type": "code",
        "outputId": "f2fd2e1e-bc4b-461a-9baa-16f92ff85996",
        "colab": {
          "base_uri": "https://localhost:8080/",
          "height": 52
        }
      },
      "source": [
        "##Reshaping the X arrays\n",
        "\n",
        "X_train = X_train.reshape(X_train.shape[0],28,28,1)\n",
        "X_test = X_test.reshape(X_test.shape[0],28,28,1)\n",
        "\n",
        "print(\"X_train shape:\",X_train.shape)\n",
        "print(\"X_test Shape:\",X_test.shape)"
      ],
      "execution_count": 6,
      "outputs": [
        {
          "output_type": "stream",
          "text": [
            "X_train shape: (60000, 28, 28, 1)\n",
            "X_test Shape: (10000, 28, 28, 1)\n"
          ],
          "name": "stdout"
        }
      ]
    },
    {
      "cell_type": "code",
      "metadata": {
        "id": "4XjgqHKzLFbM",
        "colab_type": "code",
        "colab": {}
      },
      "source": [
        "##One Hot encoding\n",
        "\n",
        "Y_train = keras.utils.to_categorical(Y_train_orig,10)\n",
        "Y_test = keras.utils.to_categorical(Y_test_orig,10)"
      ],
      "execution_count": 0,
      "outputs": []
    },
    {
      "cell_type": "code",
      "metadata": {
        "id": "VdX3E7ZGLmx2",
        "colab_type": "code",
        "outputId": "b7246249-c3cf-40e7-c3e2-d66ef5f24326",
        "colab": {
          "base_uri": "https://localhost:8080/",
          "height": 87
        }
      },
      "source": [
        "###Overview Of Processed Data\n",
        "\n",
        "print(\"X_train Shape:\",X_train.shape)\n",
        "print(\"Y_train Shape:\",Y_train.shape)\n",
        "print(\"X_test Shape:\",X_test.shape)\n",
        "print(\"Y_test Shape:\",Y_test.shape)"
      ],
      "execution_count": 8,
      "outputs": [
        {
          "output_type": "stream",
          "text": [
            "X_train Shape: (60000, 28, 28, 1)\n",
            "Y_train Shape: (60000, 10)\n",
            "X_test Shape: (10000, 28, 28, 1)\n",
            "Y_test Shape: (10000, 10)\n"
          ],
          "name": "stdout"
        }
      ]
    },
    {
      "cell_type": "code",
      "metadata": {
        "id": "atkuwwS4Msgg",
        "colab_type": "code",
        "outputId": "a4ce8ad1-2d14-4a5a-d29d-40f6835d7a7e",
        "colab": {
          "base_uri": "https://localhost:8080/",
          "height": 263
        }
      },
      "source": [
        "###Creating a Model\n",
        "input_shape = (28,28,1)\n",
        "\n",
        "model = Sequential()\n",
        "\n",
        "#1 and 2\n",
        "model.add(Conv2D(32,(3,3),padding='SAME',activation='relu',input_shape = input_shape))\n",
        "model.add(MaxPooling2D(pool_size=(2,2),strides=(2,2),padding='SAME'))\n",
        "\n",
        "#3 and 4\n",
        "model.add(Conv2D(64,(3,3),padding='SAME',activation='relu'))\n",
        "model.add(MaxPooling2D(pool_size=(2,2),strides=(2,2),padding='SAME'))\n",
        "\n",
        "#5 and 6\n",
        "model.add(Conv2D(128,(3,3),padding='SAME',activation='relu'))\n",
        "model.add(MaxPooling2D(pool_size=(2,2),strides=(2,2),padding='SAME'))\n",
        "\n",
        "#7 and 8\n",
        "model.add(Conv2D(256,(3,3),padding='SAME',activation='relu'))\n",
        "model.add(MaxPooling2D(pool_size=(2,2),strides=(2,2),padding='SAME'))\n",
        "\n",
        "#9(Flat)\n",
        "model.add(Flatten())\n",
        "\n",
        "#10 and 11\n",
        "model.add(Dense(256,activation='relu'))\n",
        "model.add(Dropout(0.3))\n",
        "\n",
        "#12 and 13\n",
        "model.add(Dense(128,activation='relu'))\n",
        "model.add(Dropout(0.3))\n",
        "\n",
        "#14\n",
        "model.add(Dense(10,activation='softmax'))"
      ],
      "execution_count": 9,
      "outputs": [
        {
          "output_type": "stream",
          "text": [
            "WARNING:tensorflow:From /usr/local/lib/python3.6/dist-packages/keras/backend/tensorflow_backend.py:66: The name tf.get_default_graph is deprecated. Please use tf.compat.v1.get_default_graph instead.\n",
            "\n",
            "WARNING:tensorflow:From /usr/local/lib/python3.6/dist-packages/keras/backend/tensorflow_backend.py:541: The name tf.placeholder is deprecated. Please use tf.compat.v1.placeholder instead.\n",
            "\n",
            "WARNING:tensorflow:From /usr/local/lib/python3.6/dist-packages/keras/backend/tensorflow_backend.py:4432: The name tf.random_uniform is deprecated. Please use tf.random.uniform instead.\n",
            "\n",
            "WARNING:tensorflow:From /usr/local/lib/python3.6/dist-packages/keras/backend/tensorflow_backend.py:4267: The name tf.nn.max_pool is deprecated. Please use tf.nn.max_pool2d instead.\n",
            "\n",
            "WARNING:tensorflow:From /usr/local/lib/python3.6/dist-packages/keras/backend/tensorflow_backend.py:148: The name tf.placeholder_with_default is deprecated. Please use tf.compat.v1.placeholder_with_default instead.\n",
            "\n",
            "WARNING:tensorflow:From /usr/local/lib/python3.6/dist-packages/keras/backend/tensorflow_backend.py:3733: calling dropout (from tensorflow.python.ops.nn_ops) with keep_prob is deprecated and will be removed in a future version.\n",
            "Instructions for updating:\n",
            "Please use `rate` instead of `keep_prob`. Rate should be set to `rate = 1 - keep_prob`.\n"
          ],
          "name": "stdout"
        }
      ]
    },
    {
      "cell_type": "code",
      "metadata": {
        "id": "Z-6v4y_Fbsko",
        "colab_type": "code",
        "outputId": "91b46c6d-ae3c-48b0-d88f-1b9adddcc59f",
        "colab": {
          "base_uri": "https://localhost:8080/",
          "height": 107
        }
      },
      "source": [
        "###Compiling the Model\n",
        "\n",
        "model.compile(loss='categorical_crossentropy',optimizer='adam',metrics=['categorical_accuracy'])"
      ],
      "execution_count": 10,
      "outputs": [
        {
          "output_type": "stream",
          "text": [
            "WARNING:tensorflow:From /usr/local/lib/python3.6/dist-packages/keras/optimizers.py:793: The name tf.train.Optimizer is deprecated. Please use tf.compat.v1.train.Optimizer instead.\n",
            "\n",
            "WARNING:tensorflow:From /usr/local/lib/python3.6/dist-packages/keras/backend/tensorflow_backend.py:3576: The name tf.log is deprecated. Please use tf.math.log instead.\n",
            "\n"
          ],
          "name": "stdout"
        }
      ]
    },
    {
      "cell_type": "code",
      "metadata": {
        "id": "XQWI73ZscSWn",
        "colab_type": "code",
        "outputId": "d9c5fc3d-5d6c-49c0-b6e2-0ab7f9f1a163",
        "colab": {
          "base_uri": "https://localhost:8080/",
          "height": 731
        }
      },
      "source": [
        "###Training the Model\n",
        "\n",
        "history = model.fit(X_train,Y_train,batch_size=64,epochs=10,verbose=1,validation_data=(X_test,Y_test))"
      ],
      "execution_count": 11,
      "outputs": [
        {
          "output_type": "stream",
          "text": [
            "WARNING:tensorflow:From /usr/local/lib/python3.6/dist-packages/tensorflow_core/python/ops/math_grad.py:1424: where (from tensorflow.python.ops.array_ops) is deprecated and will be removed in a future version.\n",
            "Instructions for updating:\n",
            "Use tf.where in 2.0, which has the same broadcast rule as np.where\n",
            "WARNING:tensorflow:From /usr/local/lib/python3.6/dist-packages/keras/backend/tensorflow_backend.py:1033: The name tf.assign_add is deprecated. Please use tf.compat.v1.assign_add instead.\n",
            "\n",
            "WARNING:tensorflow:From /usr/local/lib/python3.6/dist-packages/keras/backend/tensorflow_backend.py:1020: The name tf.assign is deprecated. Please use tf.compat.v1.assign instead.\n",
            "\n",
            "WARNING:tensorflow:From /usr/local/lib/python3.6/dist-packages/keras/backend/tensorflow_backend.py:3005: The name tf.Session is deprecated. Please use tf.compat.v1.Session instead.\n",
            "\n",
            "Train on 60000 samples, validate on 10000 samples\n",
            "Epoch 1/10\n",
            "WARNING:tensorflow:From /usr/local/lib/python3.6/dist-packages/keras/backend/tensorflow_backend.py:190: The name tf.get_default_session is deprecated. Please use tf.compat.v1.get_default_session instead.\n",
            "\n",
            "WARNING:tensorflow:From /usr/local/lib/python3.6/dist-packages/keras/backend/tensorflow_backend.py:197: The name tf.ConfigProto is deprecated. Please use tf.compat.v1.ConfigProto instead.\n",
            "\n",
            "WARNING:tensorflow:From /usr/local/lib/python3.6/dist-packages/keras/backend/tensorflow_backend.py:207: The name tf.global_variables is deprecated. Please use tf.compat.v1.global_variables instead.\n",
            "\n",
            "WARNING:tensorflow:From /usr/local/lib/python3.6/dist-packages/keras/backend/tensorflow_backend.py:216: The name tf.is_variable_initialized is deprecated. Please use tf.compat.v1.is_variable_initialized instead.\n",
            "\n",
            "WARNING:tensorflow:From /usr/local/lib/python3.6/dist-packages/keras/backend/tensorflow_backend.py:223: The name tf.variables_initializer is deprecated. Please use tf.compat.v1.variables_initializer instead.\n",
            "\n",
            "60000/60000 [==============================] - 9s 149us/step - loss: 0.2221 - categorical_accuracy: 0.9289 - val_loss: 0.0516 - val_categorical_accuracy: 0.9846\n",
            "Epoch 2/10\n",
            "60000/60000 [==============================] - 6s 106us/step - loss: 0.0542 - categorical_accuracy: 0.9855 - val_loss: 0.0483 - val_categorical_accuracy: 0.9869\n",
            "Epoch 3/10\n",
            "60000/60000 [==============================] - 6s 105us/step - loss: 0.0410 - categorical_accuracy: 0.9892 - val_loss: 0.0410 - val_categorical_accuracy: 0.9896\n",
            "Epoch 4/10\n",
            "60000/60000 [==============================] - 6s 106us/step - loss: 0.0296 - categorical_accuracy: 0.9921 - val_loss: 0.0287 - val_categorical_accuracy: 0.9920\n",
            "Epoch 5/10\n",
            "60000/60000 [==============================] - 6s 105us/step - loss: 0.0265 - categorical_accuracy: 0.9926 - val_loss: 0.0332 - val_categorical_accuracy: 0.9918\n",
            "Epoch 6/10\n",
            "60000/60000 [==============================] - 6s 105us/step - loss: 0.0248 - categorical_accuracy: 0.9931 - val_loss: 0.0279 - val_categorical_accuracy: 0.9925\n",
            "Epoch 7/10\n",
            "60000/60000 [==============================] - 6s 105us/step - loss: 0.0185 - categorical_accuracy: 0.9949 - val_loss: 0.0293 - val_categorical_accuracy: 0.9931\n",
            "Epoch 8/10\n",
            "60000/60000 [==============================] - 6s 104us/step - loss: 0.0162 - categorical_accuracy: 0.9955 - val_loss: 0.0449 - val_categorical_accuracy: 0.9907\n",
            "Epoch 9/10\n",
            "60000/60000 [==============================] - 6s 107us/step - loss: 0.0174 - categorical_accuracy: 0.9953 - val_loss: 0.0261 - val_categorical_accuracy: 0.9926\n",
            "Epoch 10/10\n",
            "60000/60000 [==============================] - 6s 105us/step - loss: 0.0131 - categorical_accuracy: 0.9963 - val_loss: 0.0374 - val_categorical_accuracy: 0.9911\n"
          ],
          "name": "stdout"
        }
      ]
    },
    {
      "cell_type": "code",
      "metadata": {
        "id": "QRPfc2cdg4-G",
        "colab_type": "code",
        "colab": {
          "base_uri": "https://localhost:8080/",
          "height": 283
        },
        "outputId": "40f97a86-9dc1-4009-b538-1a7acf982a51"
      },
      "source": [
        "###Making a Prediction\n",
        "\n",
        "img_index_predict = 2321\n",
        "img_predict = X_test_orig[img_index_predict]\n",
        "plt.imshow(img_predict,cmap='Greys')\n",
        "print(Y_test_orig[img_index_predict])"
      ],
      "execution_count": 12,
      "outputs": [
        {
          "output_type": "stream",
          "text": [
            "6\n"
          ],
          "name": "stdout"
        },
        {
          "output_type": "display_data",
          "data": {
            "image/png": "[encoded data removed]",
            "text/plain": [
              "<Figure size 432x288 with 1 Axes>"
            ]
          },
          "metadata": {
            "tags": []
          }
        }
      ]
    },
    {
      "cell_type": "code",
      "metadata": {
        "id": "dEVryJ51hgW9",
        "colab_type": "code",
        "colab": {
          "base_uri": "https://localhost:8080/",
          "height": 35
        },
        "outputId": "2b087972-b66d-42b5-ddea-433a6419f6e8"
      },
      "source": [
        "X_pred = X_test[img_index_predict].reshape(1,28,28,1)\n",
        "Prediction = model.predict_classes(X_pred)\n",
        "print(Prediction)"
      ],
      "execution_count": 13,
      "outputs": [
        {
          "output_type": "stream",
          "text": [
            "[6]\n"
          ],
          "name": "stdout"
        }
      ]
    },
    {
      "cell_type": "code",
      "metadata": {
        "id": "RwVcBTnRh-vE",
        "colab_type": "code",
        "colab": {}
      },
      "source": [
        ""
      ],
      "execution_count": 0,
      "outputs": []
    }
  ]
}