{
  "nbformat": 4,
  "nbformat_minor": 0,
  "metadata": {
    "colab": {
      "name": "MNIST_DNN.ipynb",
      "provenance": [],
      "collapsed_sections": [],
      "include_colab_link": true
    },
    "kernelspec": {
      "name": "python3",
      "display_name": "Python 3"
    },
    "accelerator": "GPU"
  },
  "cells": [
    {
      "cell_type": "markdown",
      "metadata": {
        "id": "view-in-github",
        "colab_type": "text"
      },
      "source": [
        "<a href=\"https://colab.research.google.com/github/ArshT/Mini-Projects/blob/master/MNIST_DNN.ipynb\" target=\"_parent\"><img src=\"https://colab.research.google.com/assets/colab-badge.svg\" alt=\"Open In Colab\"/></a>"
      ]
    },
    {
      "cell_type": "code",
      "metadata": {
        "id": "RMH9SbUPpX4z",
        "colab_type": "code",
        "colab": {}
      },
      "source": [
        "###Importing Reqd Libraries\n",
        "\n",
        "import keras\n",
        "from keras.layers.core import Activation,Dense,Dropout\n",
        "from keras.models import Sequential\n",
        "\n",
        "import matplotlib.pyplot as plt\n",
        "%matplotlib inline"
      ],
      "execution_count": 0,
      "outputs": []
    },
    {
      "cell_type": "code",
      "metadata": {
        "id": "t5UQockopuFq",
        "colab_type": "code",
        "colab": {}
      },
      "source": [
        "###Importing the Data\n",
        "\n",
        "from keras.datasets.mnist import load_data\n",
        "\n",
        "(X_train_orig,Y_train_orig),(X_test_orig,Y_test_orig) = load_data()"
      ],
      "execution_count": 0,
      "outputs": []
    },
    {
      "cell_type": "code",
      "metadata": {
        "id": "zcD5TylTqL3U",
        "colab_type": "code",
        "colab": {
          "base_uri": "https://localhost:8080/",
          "height": 87
        },
        "outputId": "144e779e-fd73-44cd-b9d8-730d6673f40c"
      },
      "source": [
        "###Overview of Imported Data\n",
        "\n",
        "print('X_train Shape:',X_train_orig.shape)\n",
        "print('Y_train Shape:',Y_train_orig.shape)\n",
        "print('X_test Shape:',X_test_orig.shape)\n",
        "print('Y_test Shape:',Y_test_orig.shape)"
      ],
      "execution_count": 5,
      "outputs": [
        {
          "output_type": "stream",
          "text": [
            "X_train Shape: (60000, 28, 28)\n",
            "Y_train Shape: (60000,)\n",
            "X_test Shape: (10000, 28, 28)\n",
            "Y_test Shape: (10000,)\n"
          ],
          "name": "stdout"
        }
      ]
    },
    {
      "cell_type": "code",
      "metadata": {
        "id": "qxRihchxqj3k",
        "colab_type": "code",
        "colab": {}
      },
      "source": [
        "###Processing the Data\n",
        "\n",
        "##Flattening X\n",
        "X_train_flatten = X_train_orig.reshape(X_train_orig.shape[0],-1)\n",
        "X_test_flatten = X_test_orig.reshape(X_test_orig.shape[0],-1)"
      ],
      "execution_count": 0,
      "outputs": []
    },
    {
      "cell_type": "code",
      "metadata": {
        "id": "TYQvYCBusTil",
        "colab_type": "code",
        "colab": {}
      },
      "source": [
        "##One Hot Encoding\n",
        "\n",
        "Y_train = keras.utils.to_categorical(Y_train_orig,10)\n",
        "Y_test = keras.utils.to_categorical(Y_test_orig,10)"
      ],
      "execution_count": 0,
      "outputs": []
    },
    {
      "cell_type": "code",
      "metadata": {
        "id": "uVV0xzTZtNzU",
        "colab_type": "code",
        "colab": {}
      },
      "source": [
        "##Normalizing the Data\n",
        "\n",
        "X_train = X_train_flatten / 255\n",
        "X_test = X_test_flatten / 255"
      ],
      "execution_count": 0,
      "outputs": []
    },
    {
      "cell_type": "code",
      "metadata": {
        "id": "JM_0fIbUtArs",
        "colab_type": "code",
        "colab": {
          "base_uri": "https://localhost:8080/",
          "height": 87
        },
        "outputId": "d6b28569-4a48-4bf5-927f-afb8c3dbd213"
      },
      "source": [
        "###Overview of Processed Data\n",
        "\n",
        "print('X_train Shape:',X_train.shape)\n",
        "print('Y_train Shape:',Y_train.shape)\n",
        "print('X_test Shape:',X_test.shape)\n",
        "print('Y_test Shape:',Y_test.shape)"
      ],
      "execution_count": 10,
      "outputs": [
        {
          "output_type": "stream",
          "text": [
            "X_train Shape: (60000, 784)\n",
            "Y_train Shape: (60000, 10)\n",
            "X_test Shape: (10000, 784)\n",
            "Y_test Shape: (10000, 10)\n"
          ],
          "name": "stdout"
        }
      ]
    },
    {
      "cell_type": "code",
      "metadata": {
        "id": "pGpIjZcstLLa",
        "colab_type": "code",
        "colab": {}
      },
      "source": [
        "###Model\n",
        "input_shape = ([784])\n",
        "\n",
        "model = Sequential()\n",
        "\n",
        "model.add(Dense(512,activation='relu',input_shape=input_shape))\n",
        "model.add(Dropout(0.25))\n",
        "\n",
        "model.add(Dense(256,activation='relu'))\n",
        "model.add(Dropout(0.25))\n",
        "\n",
        "model.add(Dense(128,activation='relu'))\n",
        "model.add(Dropout(0.1))\n",
        "\n",
        "model.add(Dense(10,activation='softmax'))"
      ],
      "execution_count": 0,
      "outputs": []
    },
    {
      "cell_type": "code",
      "metadata": {
        "id": "16wRmJqouIJg",
        "colab_type": "code",
        "colab": {}
      },
      "source": [
        "###Complining the Model\n",
        "\n",
        "model.compile(optimizer='adam',loss = 'categorical_crossentropy',metrics=['categorical_accuracy'])"
      ],
      "execution_count": 0,
      "outputs": []
    },
    {
      "cell_type": "code",
      "metadata": {
        "id": "G-1J4lkiuqzg",
        "colab_type": "code",
        "colab": {
          "base_uri": "https://localhost:8080/",
          "height": 731
        },
        "outputId": "74e3a23b-0202-475e-a58f-80e827fb4b66"
      },
      "source": [
        "###Training the model\n",
        "batch_size = 64\n",
        "epochs=10\n",
        "\n",
        "history = model.fit(X_train,Y_train,batch_size=batch_size,epochs=epochs,verbose=1,validation_data=(X_test,Y_test))"
      ],
      "execution_count": 22,
      "outputs": [
        {
          "output_type": "stream",
          "text": [
            "WARNING:tensorflow:From /usr/local/lib/python3.6/dist-packages/tensorflow_core/python/ops/math_grad.py:1424: where (from tensorflow.python.ops.array_ops) is deprecated and will be removed in a future version.\n",
            "Instructions for updating:\n",
            "Use tf.where in 2.0, which has the same broadcast rule as np.where\n",
            "WARNING:tensorflow:From /usr/local/lib/python3.6/dist-packages/keras/backend/tensorflow_backend.py:1033: The name tf.assign_add is deprecated. Please use tf.compat.v1.assign_add instead.\n",
            "\n",
            "WARNING:tensorflow:From /usr/local/lib/python3.6/dist-packages/keras/backend/tensorflow_backend.py:1020: The name tf.assign is deprecated. Please use tf.compat.v1.assign instead.\n",
            "\n",
            "WARNING:tensorflow:From /usr/local/lib/python3.6/dist-packages/keras/backend/tensorflow_backend.py:3005: The name tf.Session is deprecated. Please use tf.compat.v1.Session instead.\n",
            "\n",
            "Train on 60000 samples, validate on 10000 samples\n",
            "Epoch 1/10\n",
            "WARNING:tensorflow:From /usr/local/lib/python3.6/dist-packages/keras/backend/tensorflow_backend.py:190: The name tf.get_default_session is deprecated. Please use tf.compat.v1.get_default_session instead.\n",
            "\n",
            "WARNING:tensorflow:From /usr/local/lib/python3.6/dist-packages/keras/backend/tensorflow_backend.py:197: The name tf.ConfigProto is deprecated. Please use tf.compat.v1.ConfigProto instead.\n",
            "\n",
            "WARNING:tensorflow:From /usr/local/lib/python3.6/dist-packages/keras/backend/tensorflow_backend.py:207: The name tf.global_variables is deprecated. Please use tf.compat.v1.global_variables instead.\n",
            "\n",
            "WARNING:tensorflow:From /usr/local/lib/python3.6/dist-packages/keras/backend/tensorflow_backend.py:216: The name tf.is_variable_initialized is deprecated. Please use tf.compat.v1.is_variable_initialized instead.\n",
            "\n",
            "WARNING:tensorflow:From /usr/local/lib/python3.6/dist-packages/keras/backend/tensorflow_backend.py:223: The name tf.variables_initializer is deprecated. Please use tf.compat.v1.variables_initializer instead.\n",
            "\n",
            "60000/60000 [==============================] - 14s 226us/step - loss: 0.2769 - categorical_accuracy: 0.9158 - val_loss: 0.1281 - val_categorical_accuracy: 0.9588\n",
            "Epoch 2/10\n",
            "60000/60000 [==============================] - 13s 208us/step - loss: 0.1243 - categorical_accuracy: 0.9624 - val_loss: 0.0893 - val_categorical_accuracy: 0.9715\n",
            "Epoch 3/10\n",
            "60000/60000 [==============================] - 13s 209us/step - loss: 0.0965 - categorical_accuracy: 0.9703 - val_loss: 0.0780 - val_categorical_accuracy: 0.9762\n",
            "Epoch 4/10\n",
            "60000/60000 [==============================] - 13s 211us/step - loss: 0.0783 - categorical_accuracy: 0.9759 - val_loss: 0.0735 - val_categorical_accuracy: 0.9784\n",
            "Epoch 5/10\n",
            "60000/60000 [==============================] - 13s 211us/step - loss: 0.0680 - categorical_accuracy: 0.9789 - val_loss: 0.0722 - val_categorical_accuracy: 0.9786\n",
            "Epoch 6/10\n",
            "60000/60000 [==============================] - 13s 211us/step - loss: 0.0611 - categorical_accuracy: 0.9802 - val_loss: 0.0712 - val_categorical_accuracy: 0.9799\n",
            "Epoch 7/10\n",
            "60000/60000 [==============================] - 13s 211us/step - loss: 0.0548 - categorical_accuracy: 0.9824 - val_loss: 0.0685 - val_categorical_accuracy: 0.9806\n",
            "Epoch 8/10\n",
            "60000/60000 [==============================] - 13s 213us/step - loss: 0.0473 - categorical_accuracy: 0.9850 - val_loss: 0.0688 - val_categorical_accuracy: 0.9818\n",
            "Epoch 9/10\n",
            "60000/60000 [==============================] - 13s 209us/step - loss: 0.0433 - categorical_accuracy: 0.9871 - val_loss: 0.0607 - val_categorical_accuracy: 0.9839\n",
            "Epoch 10/10\n",
            "60000/60000 [==============================] - 13s 212us/step - loss: 0.0415 - categorical_accuracy: 0.9867 - val_loss: 0.0734 - val_categorical_accuracy: 0.9822\n"
          ],
          "name": "stdout"
        }
      ]
    },
    {
      "cell_type": "code",
      "metadata": {
        "id": "U1-YPRCiveKp",
        "colab_type": "code",
        "colab": {}
      },
      "source": [
        ""
      ],
      "execution_count": 0,
      "outputs": []
    }
  ]
}